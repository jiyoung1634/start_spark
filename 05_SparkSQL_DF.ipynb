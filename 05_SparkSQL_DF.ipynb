{
 "cells": [
  {
   "cell_type": "code",
   "execution_count": 1,
   "id": "73124cac-67c3-458a-a643-78dd50067938",
   "metadata": {},
   "outputs": [],
   "source": [
    "from pyspark import SparkConf, SparkContext\n",
    "conf = SparkConf().setMaster(\"local\").setAppName(\"spark_sql_basic2\")\n",
    "sc   = SparkContext(conf=conf)"
   ]
  },
  {
   "cell_type": "code",
   "execution_count": 2,
   "id": "57c755ee-9483-45d9-8790-cb8507c97f8c",
   "metadata": {},
   "outputs": [],
   "source": [
    "# RDD만을 이용한 데이터 추출"
   ]
  },
  {
   "cell_type": "code",
   "execution_count": 3,
   "id": "62064931-39fb-4d70-bb94-ecc6300b3a60",
   "metadata": {},
   "outputs": [],
   "source": [
    "\n",
    "movies_rdd = sc.parallelize([\n",
    "    (1, (\"어벤져스\", \"마블\")),\n",
    "    (2, (\"슈퍼맨\", \"DC\")),\n",
    "    (3, (\"배트맨\", \"DC\")),\n",
    "    (4, (\"겨울왕국\", \"디즈니\")),\n",
    "    (5, (\"아이언맨\", \"마블\"))\n",
    "])\n",
    "\n",
    "\n",
    "attendances_rdd = sc.parallelize([\n",
    "    (1, (13934592, \"KR\")),\n",
    "    (2, (2182227,\"KR\")),\n",
    "    (3, (4226242, \"KR\")),\n",
    "    (4, (10303058, \"KR\")),\n",
    "    (5, (4300365, \"KR\"))\n",
    "])"
   ]
  },
  {
   "cell_type": "code",
   "execution_count": 4,
   "id": "ee708262-d2a1-428a-90b4-5420d8cac134",
   "metadata": {},
   "outputs": [],
   "source": [
    "# 마블 영화 중 관객 수가 500만 이상인 영화를 가져오기"
   ]
  },
  {
   "cell_type": "code",
   "execution_count": 5,
   "id": "f02bfc4a-3b57-44f9-85a7-5072569f0e6e",
   "metadata": {},
   "outputs": [
    {
     "data": {
      "text/plain": [
       "[(2, (('슈퍼맨', 'DC'), (2182227, 'KR'))),\n",
       " (4, (('겨울왕국', '디즈니'), (10303058, 'KR'))),\n",
       " (1, (('어벤져스', '마블'), (13934592, 'KR'))),\n",
       " (3, (('배트맨', 'DC'), (4226242, 'KR'))),\n",
       " (5, (('아이언맨', '마블'), (4300365, 'KR')))]"
      ]
     },
     "execution_count": 5,
     "metadata": {},
     "output_type": "execute_result"
    }
   ],
   "source": [
    "# CASE1. join 먼저, filter 나중에\n",
    "movie_att = movies_rdd.join(attendances_rdd)\n",
    "movie_att.take(5)"
   ]
  },
  {
   "cell_type": "code",
   "execution_count": 6,
   "id": "46572ff5-443f-4eb7-9bd8-9d2f29f28b28",
   "metadata": {},
   "outputs": [
    {
     "data": {
      "text/plain": [
       "[(1, (('어벤져스', '마블'), (13934592, 'KR')))]"
      ]
     },
     "execution_count": 6,
     "metadata": {},
     "output_type": "execute_result"
    }
   ],
   "source": [
    "\n",
    "movie_att.filter(\n",
    "    lambda x : x[1][0][1] == \"마블\" and x[1][1][0] > 5000000\n",
    ").collect()"
   ]
  },
  {
   "cell_type": "code",
   "execution_count": 7,
   "id": "a39b1043-e899-4a72-8a63-0c4e70ff428b",
   "metadata": {},
   "outputs": [
    {
     "data": {
      "text/plain": [
       "[(1, (('어벤져스', '마블'), (13934592, 'KR')))]"
      ]
     },
     "execution_count": 7,
     "metadata": {},
     "output_type": "execute_result"
    }
   ],
   "source": [
    "# CASE 2. filter 먼저, join 나중에\n",
    "filtered_movies = movies_rdd.filter(lambda x : x[1][1] == '마블')\n",
    "filtered_att = attendances_rdd.filter(lambda x : x[1][0] > 5000000)\n",
    "\n",
    "filtered_movies.join(filtered_att).collect()"
   ]
  },
  {
   "cell_type": "code",
   "execution_count": 8,
   "id": "4bf221e2-7894-44af-95b1-673a828aaa37",
   "metadata": {},
   "outputs": [],
   "source": [
    "# Spark SQL 사용해 보기"
   ]
  },
  {
   "cell_type": "code",
   "execution_count": 9,
   "id": "1d6a6be2-6364-42ad-972f-ee733e41b85d",
   "metadata": {},
   "outputs": [],
   "source": [
    "from pyspark.sql import SparkSession\n",
    "spark = SparkSession.builder.master(\"local\").appName(\"spark-sql\").getOrCreate()"
   ]
  },
  {
   "cell_type": "code",
   "execution_count": 10,
   "id": "6d704416-8c08-42dd-abcb-c7c10b3de900",
   "metadata": {},
   "outputs": [],
   "source": [
    "# 컬럼 추가\n",
    "movies = [\n",
    "    (1, \"어벤져스\", \"마블\", 2012, 4, 26),\n",
    "    (2, \"슈퍼맨\", \"DC\", 2013, 6, 13),\n",
    "    (3, \"배트맨\", \"DC\", 2008, 8, 6),\n",
    "    (4, \"겨울왕국\", \"디즈니\", 2014, 1, 16),\n",
    "    (5, \"아이언맨\", \"마블\", 2008, 4, 30)\n",
    "]"
   ]
  },
  {
   "cell_type": "code",
   "execution_count": 11,
   "id": "445a1c74-a982-41b3-b420-81391fa8035b",
   "metadata": {},
   "outputs": [],
   "source": [
    "#스키마를 알아야 한다.\n",
    "movie_schema = [\"id\", \"name\", \"company\", \"year\", \"month\", \"day\"]"
   ]
  },
  {
   "cell_type": "code",
   "execution_count": 12,
   "id": "86f8b433-d021-4fb2-bdd2-5ec2e89934e2",
   "metadata": {},
   "outputs": [],
   "source": [
    "# 2. 데이터 프레임 만들기"
   ]
  },
  {
   "cell_type": "code",
   "execution_count": 13,
   "id": "f9d4f62e-fac5-42f7-9c42-6ce6edaf3ac5",
   "metadata": {},
   "outputs": [],
   "source": [
    "df = spark.createDataFrame(data=movies, schema=movie_schema)"
   ]
  },
  {
   "cell_type": "code",
   "execution_count": 14,
   "id": "ff4f4969-80e2-4926-a2ca-63d09f45a5b6",
   "metadata": {},
   "outputs": [
    {
     "name": "stdout",
     "output_type": "stream",
     "text": [
      "+--------+\n",
      "|    name|\n",
      "+--------+\n",
      "|어벤져스|\n",
      "|  슈퍼맨|\n",
      "|  배트맨|\n",
      "|겨울왕국|\n",
      "|아이언맨|\n",
      "+--------+\n",
      "\n"
     ]
    }
   ],
   "source": [
    "df.select(\"name\").show()"
   ]
  },
  {
   "cell_type": "code",
   "execution_count": 15,
   "id": "20312673-ba68-45f6-8c39-d79f6687285f",
   "metadata": {},
   "outputs": [
    {
     "name": "stdout",
     "output_type": "stream",
     "text": [
      "+---+--------+-------+----+-----+---+\n",
      "| id|    name|company|year|month|day|\n",
      "+---+--------+-------+----+-----+---+\n",
      "|  1|어벤져스|   마블|2012|    4| 26|\n",
      "|  2|  슈퍼맨|     DC|2013|    6| 13|\n",
      "|  4|겨울왕국| 디즈니|2014|    1| 16|\n",
      "+---+--------+-------+----+-----+---+\n",
      "\n"
     ]
    }
   ],
   "source": [
    "df.filter(df.year >= 2010).show()"
   ]
  },
  {
   "cell_type": "code",
   "execution_count": 16,
   "id": "7dc17984-a6ca-46bd-98d3-b46b767c3b68",
   "metadata": {},
   "outputs": [
    {
     "name": "stdout",
     "output_type": "stream",
     "text": [
      "+-------+\n",
      "|company|\n",
      "+-------+\n",
      "|   마블|\n",
      "|     DC|\n",
      "|     DC|\n",
      "| 디즈니|\n",
      "|   마블|\n",
      "+-------+\n",
      "\n"
     ]
    }
   ],
   "source": [
    "df.select('company').show()"
   ]
  },
  {
   "cell_type": "code",
   "execution_count": 17,
   "id": "d1dd33c6-2954-46fa-91d2-1274a0e55684",
   "metadata": {},
   "outputs": [
    {
     "name": "stdout",
     "output_type": "stream",
     "text": [
      "+---+--------+-------+----+-----+---+\n",
      "| id|    name|company|year|month|day|\n",
      "+---+--------+-------+----+-----+---+\n",
      "|  1|어벤져스|   마블|2012|    4| 26|\n",
      "|  2|  슈퍼맨|     DC|2013|    6| 13|\n",
      "|  4|겨울왕국| 디즈니|2014|    1| 16|\n",
      "+---+--------+-------+----+-----+---+\n",
      "\n"
     ]
    }
   ],
   "source": [
    "df.filter(df.year >= 2010).show()"
   ]
  },
  {
   "cell_type": "code",
   "execution_count": 18,
   "id": "5abd13ba-9fc7-43cd-841e-756765feaaee",
   "metadata": {},
   "outputs": [
    {
     "name": "stdout",
     "output_type": "stream",
     "text": [
      "+----+-----+---+\n",
      "|year|month|day|\n",
      "+----+-----+---+\n",
      "|2012|    4| 26|\n",
      "|2013|    6| 13|\n",
      "|2008|    8|  6|\n",
      "|2014|    1| 16|\n",
      "|2008|    4| 30|\n",
      "+----+-----+---+\n",
      "\n"
     ]
    }
   ],
   "source": [
    "# 년, 월, 일\n",
    "df.select(df.year, df.month, df.day).show()"
   ]
  },
  {
   "cell_type": "code",
   "execution_count": 19,
   "id": "1e213c5f-087b-485b-8568-9c1dd59d70c3",
   "metadata": {},
   "outputs": [
    {
     "name": "stdout",
     "output_type": "stream",
     "text": [
      "+---+--------+-------+----+-----+---+\n",
      "| id|    name|company|year|month|day|\n",
      "+---+--------+-------+----+-----+---+\n",
      "|  2|  슈퍼맨|     DC|2013|    6| 13|\n",
      "|  4|겨울왕국| 디즈니|2014|    1| 16|\n",
      "+---+--------+-------+----+-----+---+\n",
      "\n"
     ]
    }
   ],
   "source": [
    "# 2013년 이후 영화\n",
    "df.filter(df.year >= 2013).show()"
   ]
  },
  {
   "cell_type": "code",
   "execution_count": 20,
   "id": "12093771-8781-43a6-833b-e55ca9e99f13",
   "metadata": {},
   "outputs": [
    {
     "name": "stdout",
     "output_type": "stream",
     "text": [
      "+---+--------+-------+----+-----+---+\n",
      "| id|    name|company|year|month|day|\n",
      "+---+--------+-------+----+-----+---+\n",
      "|  1|어벤져스|   마블|2012|    4| 26|\n",
      "|  2|  슈퍼맨|     DC|2013|    6| 13|\n",
      "|  3|  배트맨|     DC|2008|    8|  6|\n",
      "|  5|아이언맨|   마블|2008|    4| 30|\n",
      "+---+--------+-------+----+-----+---+\n",
      "\n"
     ]
    }
   ],
   "source": [
    "# 마블영화, DC 같이 꺼내기\n",
    "df.filter((df.company == '마블') | (df.company == 'DC')).show()"
   ]
  },
  {
   "cell_type": "code",
   "execution_count": null,
   "id": "fecda354-699a-476d-9095-5874d3906430",
   "metadata": {},
   "outputs": [],
   "source": []
  },
  {
   "cell_type": "code",
   "execution_count": null,
   "id": "2fd7cb29-0066-4577-a60f-18b1f13b725e",
   "metadata": {},
   "outputs": [],
   "source": []
  },
  {
   "cell_type": "code",
   "execution_count": 30,
   "id": "e9daf939-9807-4f83-a082-8bc47b50aa9c",
   "metadata": {},
   "outputs": [],
   "source": [
    "df.createOrReplaceTempView(\"movies\")"
   ]
  },
  {
   "cell_type": "code",
   "execution_count": 31,
   "id": "bd2369ec-d17d-4c07-87e2-75f236509f60",
   "metadata": {},
   "outputs": [
    {
     "name": "stdout",
     "output_type": "stream",
     "text": [
      "+--------+\n",
      "|    name|\n",
      "+--------+\n",
      "|어벤져스|\n",
      "|  슈퍼맨|\n",
      "|  배트맨|\n",
      "|겨울왕국|\n",
      "|아이언맨|\n",
      "+--------+\n",
      "\n"
     ]
    }
   ],
   "source": [
    "# 영화 이름만 가져오기\n",
    "\n",
    "query = \"\"\"\n",
    "\n",
    "SELECT name\n",
    "  FROM movies\n",
    "\n",
    "\"\"\"\n",
    "spark.sql(query).show()"
   ]
  },
  {
   "cell_type": "code",
   "execution_count": 32,
   "id": "f24eb187-722d-495b-af67-a375318d5ece",
   "metadata": {},
   "outputs": [
    {
     "ename": "ParseException",
     "evalue": "\n[PARSE_SYNTAX_ERROR] Syntax error at or near end of input.(line 3, pos 0)\n\n== SQL ==\n^^^\n",
     "output_type": "error",
     "traceback": [
      "\u001b[0;31m---------------------------------------------------------------------------\u001b[0m",
      "\u001b[0;31mParseException\u001b[0m                            Traceback (most recent call last)",
      "Cell \u001b[0;32mIn[32], line 6\u001b[0m\n\u001b[1;32m      1\u001b[0m \u001b[38;5;66;03m# 2010년 이후에 개봉한 영화를 조회\u001b[39;00m\n\u001b[1;32m      3\u001b[0m query \u001b[38;5;241m=\u001b[39m \u001b[38;5;124m\"\"\"\u001b[39m\n\u001b[1;32m      4\u001b[0m \n\u001b[1;32m      5\u001b[0m \u001b[38;5;124m\"\"\"\u001b[39m\n\u001b[0;32m----> 6\u001b[0m \u001b[43mspark\u001b[49m\u001b[38;5;241;43m.\u001b[39;49m\u001b[43msql\u001b[49m\u001b[43m(\u001b[49m\u001b[43mquery\u001b[49m\u001b[43m)\u001b[49m\u001b[38;5;241m.\u001b[39mshow()\n",
      "File \u001b[0;32m/usr/local/spark/python/pyspark/sql/session.py:1631\u001b[0m, in \u001b[0;36mSparkSession.sql\u001b[0;34m(self, sqlQuery, args, **kwargs)\u001b[0m\n\u001b[1;32m   1627\u001b[0m         \u001b[38;5;28;01massert\u001b[39;00m \u001b[38;5;28mself\u001b[39m\u001b[38;5;241m.\u001b[39m_jvm \u001b[38;5;129;01mis\u001b[39;00m \u001b[38;5;129;01mnot\u001b[39;00m \u001b[38;5;28;01mNone\u001b[39;00m\n\u001b[1;32m   1628\u001b[0m         litArgs \u001b[38;5;241m=\u001b[39m \u001b[38;5;28mself\u001b[39m\u001b[38;5;241m.\u001b[39m_jvm\u001b[38;5;241m.\u001b[39mPythonUtils\u001b[38;5;241m.\u001b[39mtoArray(\n\u001b[1;32m   1629\u001b[0m             [_to_java_column(lit(v)) \u001b[38;5;28;01mfor\u001b[39;00m v \u001b[38;5;129;01min\u001b[39;00m (args \u001b[38;5;129;01mor\u001b[39;00m [])]\n\u001b[1;32m   1630\u001b[0m         )\n\u001b[0;32m-> 1631\u001b[0m     \u001b[38;5;28;01mreturn\u001b[39;00m DataFrame(\u001b[38;5;28;43mself\u001b[39;49m\u001b[38;5;241;43m.\u001b[39;49m\u001b[43m_jsparkSession\u001b[49m\u001b[38;5;241;43m.\u001b[39;49m\u001b[43msql\u001b[49m\u001b[43m(\u001b[49m\u001b[43msqlQuery\u001b[49m\u001b[43m,\u001b[49m\u001b[43m \u001b[49m\u001b[43mlitArgs\u001b[49m\u001b[43m)\u001b[49m, \u001b[38;5;28mself\u001b[39m)\n\u001b[1;32m   1632\u001b[0m \u001b[38;5;28;01mfinally\u001b[39;00m:\n\u001b[1;32m   1633\u001b[0m     \u001b[38;5;28;01mif\u001b[39;00m \u001b[38;5;28mlen\u001b[39m(kwargs) \u001b[38;5;241m>\u001b[39m \u001b[38;5;241m0\u001b[39m:\n",
      "File \u001b[0;32m/usr/local/spark/python/lib/py4j-0.10.9.7-src.zip/py4j/java_gateway.py:1322\u001b[0m, in \u001b[0;36mJavaMember.__call__\u001b[0;34m(self, *args)\u001b[0m\n\u001b[1;32m   1316\u001b[0m command \u001b[38;5;241m=\u001b[39m proto\u001b[38;5;241m.\u001b[39mCALL_COMMAND_NAME \u001b[38;5;241m+\u001b[39m\\\n\u001b[1;32m   1317\u001b[0m     \u001b[38;5;28mself\u001b[39m\u001b[38;5;241m.\u001b[39mcommand_header \u001b[38;5;241m+\u001b[39m\\\n\u001b[1;32m   1318\u001b[0m     args_command \u001b[38;5;241m+\u001b[39m\\\n\u001b[1;32m   1319\u001b[0m     proto\u001b[38;5;241m.\u001b[39mEND_COMMAND_PART\n\u001b[1;32m   1321\u001b[0m answer \u001b[38;5;241m=\u001b[39m \u001b[38;5;28mself\u001b[39m\u001b[38;5;241m.\u001b[39mgateway_client\u001b[38;5;241m.\u001b[39msend_command(command)\n\u001b[0;32m-> 1322\u001b[0m return_value \u001b[38;5;241m=\u001b[39m \u001b[43mget_return_value\u001b[49m\u001b[43m(\u001b[49m\n\u001b[1;32m   1323\u001b[0m \u001b[43m    \u001b[49m\u001b[43manswer\u001b[49m\u001b[43m,\u001b[49m\u001b[43m \u001b[49m\u001b[38;5;28;43mself\u001b[39;49m\u001b[38;5;241;43m.\u001b[39;49m\u001b[43mgateway_client\u001b[49m\u001b[43m,\u001b[49m\u001b[43m \u001b[49m\u001b[38;5;28;43mself\u001b[39;49m\u001b[38;5;241;43m.\u001b[39;49m\u001b[43mtarget_id\u001b[49m\u001b[43m,\u001b[49m\u001b[43m \u001b[49m\u001b[38;5;28;43mself\u001b[39;49m\u001b[38;5;241;43m.\u001b[39;49m\u001b[43mname\u001b[49m\u001b[43m)\u001b[49m\n\u001b[1;32m   1325\u001b[0m \u001b[38;5;28;01mfor\u001b[39;00m temp_arg \u001b[38;5;129;01min\u001b[39;00m temp_args:\n\u001b[1;32m   1326\u001b[0m     \u001b[38;5;28;01mif\u001b[39;00m \u001b[38;5;28mhasattr\u001b[39m(temp_arg, \u001b[38;5;124m\"\u001b[39m\u001b[38;5;124m_detach\u001b[39m\u001b[38;5;124m\"\u001b[39m):\n",
      "File \u001b[0;32m/usr/local/spark/python/pyspark/errors/exceptions/captured.py:185\u001b[0m, in \u001b[0;36mcapture_sql_exception.<locals>.deco\u001b[0;34m(*a, **kw)\u001b[0m\n\u001b[1;32m    181\u001b[0m converted \u001b[38;5;241m=\u001b[39m convert_exception(e\u001b[38;5;241m.\u001b[39mjava_exception)\n\u001b[1;32m    182\u001b[0m \u001b[38;5;28;01mif\u001b[39;00m \u001b[38;5;129;01mnot\u001b[39;00m \u001b[38;5;28misinstance\u001b[39m(converted, UnknownException):\n\u001b[1;32m    183\u001b[0m     \u001b[38;5;66;03m# Hide where the exception came from that shows a non-Pythonic\u001b[39;00m\n\u001b[1;32m    184\u001b[0m     \u001b[38;5;66;03m# JVM exception message.\u001b[39;00m\n\u001b[0;32m--> 185\u001b[0m     \u001b[38;5;28;01mraise\u001b[39;00m converted \u001b[38;5;28;01mfrom\u001b[39;00m \u001b[38;5;28;01mNone\u001b[39;00m\n\u001b[1;32m    186\u001b[0m \u001b[38;5;28;01melse\u001b[39;00m:\n\u001b[1;32m    187\u001b[0m     \u001b[38;5;28;01mraise\u001b[39;00m\n",
      "\u001b[0;31mParseException\u001b[0m: \n[PARSE_SYNTAX_ERROR] Syntax error at or near end of input.(line 3, pos 0)\n\n== SQL ==\n^^^\n"
     ]
    }
   ],
   "source": [
    "# 2010년 이후에 개봉한 영화를 조회\n",
    "\n",
    "query = \"\"\"\n",
    "\n",
    "\"\"\"\n",
    "spark.sql(query).show()"
   ]
  },
  {
   "cell_type": "code",
   "execution_count": null,
   "id": "733a6585-3b8e-43ef-9686-3e545c56a5b4",
   "metadata": {},
   "outputs": [],
   "source": [
    "# 2012년도 이전에 개봉한 영화의 이름과 회사를 출력\n",
    "query = \"\"\"\n",
    "\n",
    "\"\"\"\n",
    "spark.sql(query).show()"
   ]
  },
  {
   "cell_type": "code",
   "execution_count": null,
   "id": "275a37e2-975c-4ffb-afd8-93f3fc7d9a65",
   "metadata": {},
   "outputs": [],
   "source": [
    "# like 문자열 데이터에서 특정 단어나 문장을 포함한 데이터를 찾을 때\n",
    "# % 기호를 사용해서 문장이 매칭되는지 확인 가능!\n",
    "# 제목이 ~~맨으로 끝나는 데이터의 모든 정보를 조회\n",
    "query = \"\"\"\n",
    "\n",
    "\"\"\"\n",
    "spark.sql(query).show()"
   ]
  },
  {
   "cell_type": "code",
   "execution_count": null,
   "id": "fbc1e78e-3314-434c-ae29-0d698ceb5132",
   "metadata": {},
   "outputs": [],
   "source": [
    "\n",
    "# BETWEEN 특정 데이터와 데이터 사이를 조회\n",
    "\n",
    "# 개봉 월이 4 ~ 8월 사이. 4 <= 개봉월 <= 8\n"
   ]
  },
  {
   "cell_type": "code",
   "execution_count": null,
   "id": "92d0a753-fac1-4151-a016-c09511132f21",
   "metadata": {},
   "outputs": [],
   "source": []
  },
  {
   "cell_type": "code",
   "execution_count": null,
   "id": "20690144-20a2-4126-888c-b1074bd835bd",
   "metadata": {},
   "outputs": [],
   "source": [
    "# Join 구현하기"
   ]
  },
  {
   "cell_type": "code",
   "execution_count": 23,
   "id": "dc365151-3703-444c-a100-48ad4046e7fc",
   "metadata": {},
   "outputs": [],
   "source": [
    "\n",
    "attendances = [\n",
    "    (1, 13934592., \"KR\"),\n",
    "    (2, 2182227.,\"KR\"),\n",
    "    (3, 4226242., \"KR\"),\n",
    "    (4, 10303058., \"KR\"),\n",
    "    (5, 4300365., \"KR\")\n",
    "]"
   ]
  },
  {
   "cell_type": "code",
   "execution_count": 24,
   "id": "e395f667-08ab-4e02-bbf8-dad62b1b9acb",
   "metadata": {},
   "outputs": [],
   "source": [
    "# 직접 스키마 지정해 보기\n",
    "from pyspark.sql.types import StringType, FloatType\\\n",
    "    , IntegerType\\\n",
    "    , StructType, StructField"
   ]
  },
  {
   "cell_type": "code",
   "execution_count": 25,
   "id": "406d3d10-b99b-4677-b203-459d4e73b0a6",
   "metadata": {},
   "outputs": [],
   "source": [
    "att_schema = StructType([ # 모든 컬럼의 타입을 통칭 - 컬럼 데이터의 집합\n",
    "    StructField(\"id\", IntegerType(), True), # StructField : 컬럼\n",
    "    StructField(\"att\", FloatType(), True),\n",
    "    StructField(\"theater_country\", StringType(), True)\n",
    "])"
   ]
  },
  {
   "cell_type": "code",
   "execution_count": 26,
   "id": "5c49e812-3a29-4b4b-8de1-3ad36b1da102",
   "metadata": {},
   "outputs": [
    {
     "data": {
      "text/plain": [
       "[('id', 'int'), ('att', 'float'), ('theater_country', 'string')]"
      ]
     },
     "execution_count": 26,
     "metadata": {},
     "output_type": "execute_result"
    }
   ],
   "source": [
    "\n",
    "att_df = spark.createDataFrame(\n",
    "    data=attendances,\n",
    "    schema=att_schema\n",
    ")\n",
    "\n",
    "att_df.dtypes"
   ]
  },
  {
   "cell_type": "code",
   "execution_count": 27,
   "id": "79d1c138-86c5-4ddd-812e-301655451a0e",
   "metadata": {},
   "outputs": [],
   "source": [
    "att_df.createOrReplaceTempView(\"att\")"
   ]
  },
  {
   "cell_type": "code",
   "execution_count": 28,
   "id": "aade8ee3-db29-4049-bc36-8a3ae65495bd",
   "metadata": {},
   "outputs": [
    {
     "name": "stdout",
     "output_type": "stream",
     "text": [
      "+---+-----------+---------------+\n",
      "| id|        att|theater_country|\n",
      "+---+-----------+---------------+\n",
      "|  1|1.3934592E7|             KR|\n",
      "|  2|  2182227.0|             KR|\n",
      "|  3|  4226242.0|             KR|\n",
      "|  4|1.0303058E7|             KR|\n",
      "|  5|  4300365.0|             KR|\n",
      "+---+-----------+---------------+\n",
      "\n"
     ]
    }
   ],
   "source": [
    "att_df.select('*').show()"
   ]
  },
  {
   "cell_type": "code",
   "execution_count": null,
   "id": "1696875a-6c90-4511-8161-1b86a148fab1",
   "metadata": {},
   "outputs": [],
   "source": []
  },
  {
   "cell_type": "code",
   "execution_count": 33,
   "id": "39728e25-e33a-4ff9-91a7-614739936279",
   "metadata": {},
   "outputs": [
    {
     "name": "stdout",
     "output_type": "stream",
     "text": [
      "+---+--------+-------+-----------+\n",
      "| id|    name|company|        att|\n",
      "+---+--------+-------+-----------+\n",
      "|  1|어벤져스|   마블|1.3934592E7|\n",
      "|  2|  슈퍼맨|     DC|  2182227.0|\n",
      "|  3|  배트맨|     DC|  4226242.0|\n",
      "|  4|겨울왕국| 디즈니|1.0303058E7|\n",
      "|  5|아이언맨|   마블|  4300365.0|\n",
      "+---+--------+-------+-----------+\n",
      "\n"
     ]
    }
   ],
   "source": [
    "# df와 join\n",
    "query = '''\n",
    "select movies.id, movies.name, movies.company, att.att\n",
    "from movies\n",
    "join att ON movies.id = att.id\n",
    "'''\n",
    "\n",
    "spark.sql(query).show()"
   ]
  },
  {
   "cell_type": "code",
   "execution_count": null,
   "id": "e21137bb-0fb6-49ef-8853-4928daec4e54",
   "metadata": {},
   "outputs": [],
   "source": []
  },
  {
   "cell_type": "code",
   "execution_count": null,
   "id": "0e28ade1-0b13-4494-a968-b87ee30df0e0",
   "metadata": {},
   "outputs": [],
   "source": []
  },
  {
   "cell_type": "code",
   "execution_count": null,
   "id": "ceea8b49-beed-46a0-ab5e-220852e30aa4",
   "metadata": {},
   "outputs": [],
   "source": [
    "# 데이터 프레임 API"
   ]
  },
  {
   "cell_type": "code",
   "execution_count": null,
   "id": "0ec5e568-23bb-47a0-9c9a-d8ee8581c684",
   "metadata": {},
   "outputs": [],
   "source": [
    "# select\n",
    "df.select(\"*\").collect()"
   ]
  },
  {
   "cell_type": "code",
   "execution_count": null,
   "id": "73334616-316a-47ba-bbca-3780b58fe6c7",
   "metadata": {},
   "outputs": [],
   "source": [
    "df.select(\"name\", \"company\").collect()"
   ]
  },
  {
   "cell_type": "code",
   "execution_count": null,
   "id": "40db9364-606b-4974-873a-5fd5ef3a8918",
   "metadata": {},
   "outputs": [],
   "source": [
    "df.select(df.name, (df.year-2000).alias(\"year\")).show()"
   ]
  },
  {
   "cell_type": "code",
   "execution_count": null,
   "id": "edb58352-d6b8-4545-a335-632d52473def",
   "metadata": {},
   "outputs": [],
   "source": [
    "# agg : Aggreagte의 약자로써, 그룹핑 후 데이터를 하나로 합쳐주는 역할\n",
    "df.agg({\"id\": \"count\"}).collect()"
   ]
  },
  {
   "cell_type": "code",
   "execution_count": null,
   "id": "757c9f7c-6836-4924-8f08-b01e5272d541",
   "metadata": {},
   "outputs": [],
   "source": []
  },
  {
   "cell_type": "code",
   "execution_count": null,
   "id": "51212c6f-0199-49ba-9995-09783594c41e",
   "metadata": {},
   "outputs": [],
   "source": [
    "from pyspark.sql import functions as F\n",
    "df.agg(F.min(df.year)).collect()"
   ]
  },
  {
   "cell_type": "code",
   "execution_count": null,
   "id": "8bec3f7a-c11a-4aa8-b50c-9abfd0eb806c",
   "metadata": {},
   "outputs": [],
   "source": []
  },
  {
   "cell_type": "code",
   "execution_count": null,
   "id": "336d60a1-222c-4e5a-8a73-ec74fc187862",
   "metadata": {},
   "outputs": [],
   "source": [
    "df.groupBy().avg().collect()"
   ]
  },
  {
   "cell_type": "code",
   "execution_count": null,
   "id": "03955127-cabe-4020-803a-d80605ec090d",
   "metadata": {},
   "outputs": [],
   "source": [
    "# 회사별 개봉월의 평균\n",
    "df.groupBy('company').agg({\"month\": \"mean\"}).collect()"
   ]
  },
  {
   "cell_type": "code",
   "execution_count": null,
   "id": "94641161-4fda-4170-97a6-0f04728b4aa5",
   "metadata": {},
   "outputs": [],
   "source": [
    "# 회사 별 월 별 영화 개수 정보\n"
   ]
  },
  {
   "cell_type": "code",
   "execution_count": null,
   "id": "d8807e25-22f4-439a-91fe-e51c5ce34f71",
   "metadata": {},
   "outputs": [],
   "source": [
    "# join : 다른 데이터 프레임과 사용자가 지정한 컬럼을 기준으로 합치는 작업\n",
    "df.join(att_df, 'id').select(df.name, att_df.att).show()"
   ]
  },
  {
   "cell_type": "code",
   "execution_count": null,
   "id": "973769b0-f1cd-4b87-8172-805f3bcdce85",
   "metadata": {},
   "outputs": [],
   "source": []
  },
  {
   "cell_type": "code",
   "execution_count": null,
   "id": "15abf176-7d4b-4233-bba1-bd032c66ef63",
   "metadata": {},
   "outputs": [],
   "source": [
    "# select, where, orderBy 절 사용\n",
    "marvel_df = df.select(\"name\", \"company\", \"year\").where(\"company=='마블'\").orderBy(\"id\")\n",
    "marvel_df.collect()"
   ]
  },
  {
   "cell_type": "code",
   "execution_count": null,
   "id": "195c87a5-3db2-41d8-a6da-b47d6e030e1f",
   "metadata": {},
   "outputs": [],
   "source": [
    "spark.stop()\n",
    "sc.stop()"
   ]
  },
  {
   "cell_type": "code",
   "execution_count": null,
   "id": "8327cca2-6eca-4090-b1e1-004f28e598ff",
   "metadata": {},
   "outputs": [],
   "source": [
    "ㅌ"
   ]
  },
  {
   "cell_type": "code",
   "execution_count": null,
   "id": "f27c205c-c9d3-4f7f-90bf-aeeffda08ec8",
   "metadata": {},
   "outputs": [],
   "source": [
    "# SQL 최적화"
   ]
  },
  {
   "cell_type": "code",
   "execution_count": 34,
   "id": "6824043e-9457-4f3f-9ca5-f3aa89b29087",
   "metadata": {},
   "outputs": [],
   "source": [
    "from pyspark.sql import SparkSession\n",
    "\n",
    "spark = SparkSession.builder.appName(\"trip_count_sql\").getOrCreate()"
   ]
  },
  {
   "cell_type": "code",
   "execution_count": 37,
   "id": "00b00cb7-73f7-4011-8b53-b0df55938fcc",
   "metadata": {},
   "outputs": [],
   "source": [
    "trip_file = \"learning_spark_data/fhvhv_tripdata_2020-03.csv\""
   ]
  },
  {
   "cell_type": "code",
   "execution_count": 38,
   "id": "071ddd29-2ab5-412b-be45-0d067175d321",
   "metadata": {},
   "outputs": [],
   "source": [
    "# inferSchema : 자동으로 스키마 예측하게 하기\n",
    "data = spark.read.csv(trip_file, inferSchema=True, header=True)"
   ]
  },
  {
   "cell_type": "code",
   "execution_count": null,
   "id": "837bd54d-1d5c-4cbb-bc09-76ecbe678e81",
   "metadata": {},
   "outputs": [],
   "source": []
  },
  {
   "cell_type": "code",
   "execution_count": 39,
   "id": "9fdfa452-8e10-4401-802c-b7fb1df93aac",
   "metadata": {},
   "outputs": [],
   "source": [
    "data.createOrReplaceTempView(\"mobility_data\")"
   ]
  },
  {
   "cell_type": "code",
   "execution_count": 40,
   "id": "9d4843ad-cdc8-40de-9970-9e8ba15b32bc",
   "metadata": {},
   "outputs": [
    {
     "name": "stdout",
     "output_type": "stream",
     "text": [
      "+-----------------+--------------------+-------------------+-------------------+------------+------------+-------+\n",
      "|hvfhs_license_num|dispatching_base_num|    pickup_datetime|   dropoff_datetime|PULocationID|DOLocationID|SR_Flag|\n",
      "+-----------------+--------------------+-------------------+-------------------+------------+------------+-------+\n",
      "|           HV0005|              B02510|2020-03-01 00:03:40|2020-03-01 00:23:39|          81|         159|   NULL|\n",
      "|           HV0005|              B02510|2020-03-01 00:28:05|2020-03-01 00:38:57|         168|         119|   NULL|\n",
      "|           HV0003|              B02764|2020-03-01 00:03:07|2020-03-01 00:15:04|         137|         209|      1|\n",
      "|           HV0003|              B02764|2020-03-01 00:18:42|2020-03-01 00:38:42|         209|          80|   NULL|\n",
      "|           HV0003|              B02764|2020-03-01 00:44:24|2020-03-01 00:58:44|         256|         226|   NULL|\n",
      "+-----------------+--------------------+-------------------+-------------------+------------+------------+-------+\n",
      "\n"
     ]
    }
   ],
   "source": [
    "query = \"\"\"\n",
    "select *\n",
    "from mobility_data\n",
    "limit 5\n",
    "\"\"\"\n",
    "spark.sql(query).show()"
   ]
  },
  {
   "cell_type": "code",
   "execution_count": null,
   "id": "737f9776-6194-4eeb-9144-96f88802f396",
   "metadata": {},
   "outputs": [],
   "source": []
  },
  {
   "cell_type": "code",
   "execution_count": 41,
   "id": "d0071187-c4f9-44f5-8716-ab5cbef1fc36",
   "metadata": {},
   "outputs": [],
   "source": [
    "# 스파크 SQL을 사용하는 이유"
   ]
  },
  {
   "cell_type": "code",
   "execution_count": 42,
   "id": "6b8134e5-bb59-411d-9d1c-c31bb358beee",
   "metadata": {},
   "outputs": [
    {
     "name": "stdout",
     "output_type": "stream",
     "text": [
      "+-----------+------+\n",
      "|pickup_date| trips|\n",
      "+-----------+------+\n",
      "| 2020-03-03|697880|\n",
      "| 2020-03-02|648986|\n",
      "| 2020-03-01|784246|\n",
      "| 2020-03-06|872012|\n",
      "| 2020-03-05|731165|\n",
      "| 2020-03-04|707879|\n",
      "| 2020-03-09|628940|\n",
      "| 2020-03-08|731222|\n",
      "| 2020-03-07|886071|\n",
      "| 2020-03-10|626474|\n",
      "| 2020-03-12|643257|\n",
      "| 2020-03-11|628601|\n",
      "| 2020-03-16|391518|\n",
      "| 2020-03-13|660914|\n",
      "| 2020-03-15|448125|\n",
      "| 2020-03-14|569397|\n",
      "| 2020-03-26|141607|\n",
      "| 2020-03-25|141088|\n",
      "| 2020-03-20|261900|\n",
      "| 2020-03-24|141686|\n",
      "+-----------+------+\n",
      "only showing top 20 rows\n",
      "\n"
     ]
    }
   ],
   "source": [
    "query = \"\"\"\n",
    "\n",
    "select split(pickup_datetime, ' ')[0] as pickup_date, count(*) as trips\n",
    "from mobility_data\n",
    "\n",
    "group by pickup_date\n",
    "\"\"\"\n",
    "\n",
    "spark.sql(query).show()"
   ]
  },
  {
   "cell_type": "code",
   "execution_count": 43,
   "id": "30eb5a6f-2246-4e55-b6f1-aef9fdce364a",
   "metadata": {
    "collapsed": true,
    "jupyter": {
     "outputs_hidden": true
    }
   },
   "outputs": [
    {
     "name": "stdout",
     "output_type": "stream",
     "text": [
      "== Parsed Logical Plan ==\n",
      "'Aggregate ['pickup_date], ['split('pickup_datetime,  )[0] AS pickup_date#281, 'count(1) AS trips#282]\n",
      "+- 'UnresolvedRelation [mobility_data], [], false\n",
      "\n",
      "== Analyzed Logical Plan ==\n",
      "pickup_date: string, trips: bigint\n",
      "Aggregate [split(cast(pickup_datetime#208 as string),  , -1)[0]], [split(cast(pickup_datetime#208 as string),  , -1)[0] AS pickup_date#281, count(1) AS trips#282L]\n",
      "+- SubqueryAlias mobility_data\n",
      "   +- View (`mobility_data`, [hvfhs_license_num#206,dispatching_base_num#207,pickup_datetime#208,dropoff_datetime#209,PULocationID#210,DOLocationID#211,SR_Flag#212])\n",
      "      +- Relation [hvfhs_license_num#206,dispatching_base_num#207,pickup_datetime#208,dropoff_datetime#209,PULocationID#210,DOLocationID#211,SR_Flag#212] csv\n",
      "\n",
      "== Optimized Logical Plan ==\n",
      "Aggregate [_groupingexpression#286], [_groupingexpression#286 AS pickup_date#281, count(1) AS trips#282L]\n",
      "+- Project [split(cast(pickup_datetime#208 as string),  , -1)[0] AS _groupingexpression#286]\n",
      "   +- Relation [hvfhs_license_num#206,dispatching_base_num#207,pickup_datetime#208,dropoff_datetime#209,PULocationID#210,DOLocationID#211,SR_Flag#212] csv\n",
      "\n",
      "== Physical Plan ==\n",
      "AdaptiveSparkPlan isFinalPlan=false\n",
      "+- HashAggregate(keys=[_groupingexpression#286], functions=[count(1)], output=[pickup_date#281, trips#282L])\n",
      "   +- Exchange hashpartitioning(_groupingexpression#286, 200), ENSURE_REQUIREMENTS, [plan_id=356]\n",
      "      +- HashAggregate(keys=[_groupingexpression#286], functions=[partial_count(1)], output=[_groupingexpression#286, count#288L])\n",
      "         +- Project [split(cast(pickup_datetime#208 as string),  , -1)[0] AS _groupingexpression#286]\n",
      "            +- FileScan csv [pickup_datetime#208] Batched: false, DataFilters: [], Format: CSV, Location: InMemoryFileIndex(1 paths)[file:/home/jovyan/work/learning_spark_data/fhvhv_tripdata_2020-03.csv], PartitionFilters: [], PushedFilters: [], ReadSchema: struct<pickup_datetime:timestamp>\n",
      "\n"
     ]
    }
   ],
   "source": [
    "# 실행 계획 살펴보기\n",
    "spark.sql(query).explain(True)"
   ]
  },
  {
   "cell_type": "code",
   "execution_count": null,
   "id": "de790c06-75d5-4f02-b4e0-213444ef1297",
   "metadata": {},
   "outputs": [],
   "source": []
  },
  {
   "cell_type": "code",
   "execution_count": 44,
   "id": "6d5fe4a0-a753-4fc1-b80a-67e49b31b258",
   "metadata": {
    "collapsed": true,
    "jupyter": {
     "outputs_hidden": true
    }
   },
   "outputs": [
    {
     "name": "stdout",
     "output_type": "stream",
     "text": [
      "== Parsed Logical Plan ==\n",
      "'Aggregate ['pickup_date], ['pickup_date, 'count(1) AS trips#290]\n",
      "+- 'SubqueryAlias __auto_generated_subquery_name\n",
      "   +- 'Project ['split('pickup_datetime,  )[0] AS pickup_date#289]\n",
      "      +- 'UnresolvedRelation [mobility_data], [], false\n",
      "\n",
      "== Analyzed Logical Plan ==\n",
      "pickup_date: string, trips: bigint\n",
      "Aggregate [pickup_date#289], [pickup_date#289, count(1) AS trips#290L]\n",
      "+- SubqueryAlias __auto_generated_subquery_name\n",
      "   +- Project [split(cast(pickup_datetime#208 as string),  , -1)[0] AS pickup_date#289]\n",
      "      +- SubqueryAlias mobility_data\n",
      "         +- View (`mobility_data`, [hvfhs_license_num#206,dispatching_base_num#207,pickup_datetime#208,dropoff_datetime#209,PULocationID#210,DOLocationID#211,SR_Flag#212])\n",
      "            +- Relation [hvfhs_license_num#206,dispatching_base_num#207,pickup_datetime#208,dropoff_datetime#209,PULocationID#210,DOLocationID#211,SR_Flag#212] csv\n",
      "\n",
      "== Optimized Logical Plan ==\n",
      "Aggregate [pickup_date#289], [pickup_date#289, count(1) AS trips#290L]\n",
      "+- Project [split(cast(pickup_datetime#208 as string),  , -1)[0] AS pickup_date#289]\n",
      "   +- Relation [hvfhs_license_num#206,dispatching_base_num#207,pickup_datetime#208,dropoff_datetime#209,PULocationID#210,DOLocationID#211,SR_Flag#212] csv\n",
      "\n",
      "== Physical Plan ==\n",
      "AdaptiveSparkPlan isFinalPlan=false\n",
      "+- HashAggregate(keys=[pickup_date#289], functions=[count(1)], output=[pickup_date#289, trips#290L])\n",
      "   +- Exchange hashpartitioning(pickup_date#289, 200), ENSURE_REQUIREMENTS, [plan_id=371]\n",
      "      +- HashAggregate(keys=[pickup_date#289], functions=[partial_count(1)], output=[pickup_date#289, count#295L])\n",
      "         +- Project [split(cast(pickup_datetime#208 as string),  , -1)[0] AS pickup_date#289]\n",
      "            +- FileScan csv [pickup_datetime#208] Batched: false, DataFilters: [], Format: CSV, Location: InMemoryFileIndex(1 paths)[file:/home/jovyan/work/learning_spark_data/fhvhv_tripdata_2020-03.csv], PartitionFilters: [], PushedFilters: [], ReadSchema: struct<pickup_datetime:timestamp>\n",
      "\n"
     ]
    }
   ],
   "source": [
    "# 두번째 쿼리\n",
    "spark.sql(\"\"\"select \n",
    "                pickup_date, \n",
    "                count(*) as trips\n",
    "             from ( select\n",
    "                          split(pickup_datetime, ' ')[0] as pickup_date\n",
    "                          from mobility_data )\n",
    "             group by pickup_date\"\"\").explain(True)"
   ]
  },
  {
   "cell_type": "code",
   "execution_count": null,
   "id": "c754e8a1-6381-41a0-9d12-a6d7796b9500",
   "metadata": {},
   "outputs": [],
   "source": []
  },
  {
   "cell_type": "code",
   "execution_count": null,
   "id": "d9aa74e7-3de7-4210-addb-c2c878353696",
   "metadata": {},
   "outputs": [],
   "source": []
  },
  {
   "cell_type": "code",
   "execution_count": null,
   "id": "8c141516-2732-4f98-8cf0-26cf7fd516e6",
   "metadata": {},
   "outputs": [],
   "source": []
  },
  {
   "cell_type": "code",
   "execution_count": null,
   "id": "dff82d85-109a-4dad-950b-e21371e1d32f",
   "metadata": {},
   "outputs": [],
   "source": []
  },
  {
   "cell_type": "code",
   "execution_count": null,
   "id": "4e7c7f4e-ce7c-4b93-946e-e6b373d89f17",
   "metadata": {},
   "outputs": [],
   "source": []
  },
  {
   "cell_type": "code",
   "execution_count": null,
   "id": "b8623fc7-7328-449e-85ab-4103d169c15d",
   "metadata": {},
   "outputs": [],
   "source": []
  },
  {
   "cell_type": "code",
   "execution_count": null,
   "id": "5aca2acb-7189-4fe9-a17e-b658088b98c4",
   "metadata": {},
   "outputs": [],
   "source": []
  },
  {
   "cell_type": "code",
   "execution_count": null,
   "id": "ea9d8d7c-ef6d-4a39-a763-d5f44b3fc93e",
   "metadata": {},
   "outputs": [],
   "source": []
  },
  {
   "cell_type": "code",
   "execution_count": null,
   "id": "06d730f7-78ea-471f-946b-d0678ab227f5",
   "metadata": {},
   "outputs": [],
   "source": [
    "spark.stop()"
   ]
  },
  {
   "cell_type": "code",
   "execution_count": null,
   "id": "971e0e07-04ea-47b3-9e62-4c4fd4d1cda5",
   "metadata": {},
   "outputs": [],
   "source": []
  },
  {
   "cell_type": "code",
   "execution_count": null,
   "id": "59b395d7-17dc-4681-9bbb-63d075da63ee",
   "metadata": {},
   "outputs": [],
   "source": []
  },
  {
   "cell_type": "code",
   "execution_count": 46,
   "id": "50700b0b-cf2e-45ed-b8b4-603729a34f38",
   "metadata": {},
   "outputs": [],
   "source": [
    "trip_file = \"learning_spark_data/fhvhv_tripdata_2020-03.csv\"\n",
    "\n",
    "zone_file = \"taxi+_zone_lookup.csv\""
   ]
  },
  {
   "cell_type": "code",
   "execution_count": null,
   "id": "bf54e5e5-628e-449f-ae84-961eb14f495e",
   "metadata": {},
   "outputs": [],
   "source": [
    "# 운행 데이터프레임 생성, zone 데이터프레임 생성\n",
    "# "
   ]
  },
  {
   "cell_type": "code",
   "execution_count": 47,
   "id": "d79c67de-c31b-42f9-8bb4-838ddfe29a09",
   "metadata": {},
   "outputs": [
    {
     "name": "stdout",
     "output_type": "stream",
     "text": [
      "root\n",
      " |-- hvfhs_license_num: string (nullable = true)\n",
      " |-- dispatching_base_num: string (nullable = true)\n",
      " |-- pickup_datetime: timestamp (nullable = true)\n",
      " |-- dropoff_datetime: timestamp (nullable = true)\n",
      " |-- PULocationID: integer (nullable = true)\n",
      " |-- DOLocationID: integer (nullable = true)\n",
      " |-- SR_Flag: integer (nullable = true)\n",
      "\n"
     ]
    }
   ],
   "source": [
    "trip_df  = spark.read.format('csv')\\\n",
    "            .option('header', 'true')\\\n",
    "            .option('inferSchema', 'true')\\\n",
    "            .load('learning_spark_data/fhvhv_tripdata_2020-03.csv')\n",
    "trip_df.printSchema()"
   ]
  },
  {
   "cell_type": "code",
   "execution_count": 48,
   "id": "299ea85f-f1b2-46e4-88b0-8f7aa342771b",
   "metadata": {},
   "outputs": [
    {
     "name": "stdout",
     "output_type": "stream",
     "text": [
      "root\n",
      " |-- LocationID: integer (nullable = true)\n",
      " |-- Borough: string (nullable = true)\n",
      " |-- Zone: string (nullable = true)\n",
      " |-- service_zone: string (nullable = true)\n",
      "\n"
     ]
    }
   ],
   "source": [
    "zone_df  = spark.read.format('csv')\\\n",
    "            .option('header', 'true')\\\n",
    "            .option('inferSchema', 'true')\\\n",
    "            .load('learning_spark_data/taxi+_zone_lookup.csv')\n",
    "zone_df.printSchema()"
   ]
  },
  {
   "cell_type": "code",
   "execution_count": null,
   "id": "ba15ec6d-709f-4826-bab2-c4bb8ee224f2",
   "metadata": {},
   "outputs": [],
   "source": [
    "# 승차 Location(PULocationID)별 개수 세기"
   ]
  },
  {
   "cell_type": "code",
   "execution_count": 49,
   "id": "895a35fc-f894-426e-ad4f-620c7812708c",
   "metadata": {},
   "outputs": [
    {
     "name": "stdout",
     "output_type": "stream",
     "text": [
      "+------------+------+\n",
      "|PULocationID| count|\n",
      "+------------+------+\n",
      "|         148|116205|\n",
      "|         243| 87431|\n",
      "|          31|  5285|\n",
      "|         137| 85552|\n",
      "|          85| 46120|\n",
      "|         251|  9080|\n",
      "|          65| 66622|\n",
      "|         255|113947|\n",
      "|          53| 17571|\n",
      "|         133| 27200|\n",
      "|          78| 76155|\n",
      "|         108| 20378|\n",
      "|         155| 39527|\n",
      "|         211| 61075|\n",
      "|         193| 20111|\n",
      "|          34| 11823|\n",
      "|         115| 10806|\n",
      "|         126| 52833|\n",
      "|         101|  8983|\n",
      "|          81| 41425|\n",
      "+------------+------+\n",
      "only showing top 20 rows\n",
      "\n"
     ]
    }
   ],
   "source": [
    "trip_df.groupBy('PULocationID').count().show()"
   ]
  },
  {
   "cell_type": "code",
   "execution_count": null,
   "id": "22b7fd08-377a-485c-a86e-32755eaaaee7",
   "metadata": {},
   "outputs": [],
   "source": [
    "# 하차 Location(DOLocationID)별 개수 세기"
   ]
  },
  {
   "cell_type": "code",
   "execution_count": 50,
   "id": "01d9c07c-da07-4824-b414-74f5b273e68a",
   "metadata": {},
   "outputs": [
    {
     "name": "stdout",
     "output_type": "stream",
     "text": [
      "+------------+------+\n",
      "|DOLocationID| count|\n",
      "+------------+------+\n",
      "|         148| 91601|\n",
      "|         243| 86795|\n",
      "|          31|  5526|\n",
      "|          85| 44509|\n",
      "|         137| 80098|\n",
      "|         251|  8525|\n",
      "|          65| 58888|\n",
      "|         255|105051|\n",
      "|          53| 19013|\n",
      "|         133| 27760|\n",
      "|          78| 74447|\n",
      "|         155| 42239|\n",
      "|         108| 21354|\n",
      "|         211| 54176|\n",
      "|         193| 19104|\n",
      "|          34| 12392|\n",
      "|         115|  9809|\n",
      "|         101|  7218|\n",
      "|         126| 59027|\n",
      "|          81| 38445|\n",
      "+------------+------+\n",
      "only showing top 20 rows\n",
      "\n"
     ]
    }
   ],
   "source": [
    "trip_df.groupBy('DOLocationID').count().show()"
   ]
  },
  {
   "cell_type": "code",
   "execution_count": null,
   "id": "19b43557-cf14-4acb-912f-d31b0bd7ecdc",
   "metadata": {},
   "outputs": [],
   "source": [
    "#HV0003 운송사업자의 승차 지역별 트립 건수를 집계하고, \n",
    "#가장 많은 운송사업자순으로 정렬하는 분석 쿼리  hvfhs_license_num"
   ]
  },
  {
   "cell_type": "code",
   "execution_count": 55,
   "id": "62937631-2fdd-437a-bd6b-c439a2aa0ef9",
   "metadata": {},
   "outputs": [],
   "source": [
    "from pyspark.sql.functions import count, desc"
   ]
  },
  {
   "cell_type": "code",
   "execution_count": 61,
   "id": "804a93e7-9d83-4306-bfec-1f432d3b59a1",
   "metadata": {},
   "outputs": [],
   "source": [
    "hv0003_df = trip_df.filter(trip_df.hvfhs_license_num == 'HV0003')   # HV0003 운송사업자만 필터링\n",
    "\n",
    "trip_count_by_location = hv0003_df.groupBy('PULocationID').count()   # 필터링된 데이터에서 PULocationID별로 그룹화하고 개수를 센다"
   ]
  },
  {
   "cell_type": "code",
   "execution_count": 62,
   "id": "0e193bdb-6af6-4762-86c8-4c9f8b12002c",
   "metadata": {},
   "outputs": [
    {
     "name": "stdout",
     "output_type": "stream",
     "text": [
      "+------------+------+\n",
      "|PULocationID| count|\n",
      "+------------+------+\n",
      "|          61|163091|\n",
      "|          76|134198|\n",
      "|         132|114179|\n",
      "|          79|112017|\n",
      "|          37|110150|\n",
      "|          42|108070|\n",
      "|         138|104119|\n",
      "|         244| 97324|\n",
      "|          89| 95724|\n",
      "|          39| 94484|\n",
      "|         231| 94155|\n",
      "|           7| 92676|\n",
      "|          17| 90352|\n",
      "|         161| 90261|\n",
      "|         225| 88749|\n",
      "|         234| 88372|\n",
      "|         230| 86870|\n",
      "|         188| 84347|\n",
      "|          35| 82764|\n",
      "|         168| 82396|\n",
      "+------------+------+\n",
      "only showing top 20 rows\n",
      "\n"
     ]
    }
   ],
   "source": [
    "sorted_trip_count = trip_count_by_location.orderBy(desc('count'))   # 결과를 count 컬럼을 기준으로 내림차순 정렬\n",
    "\n",
    "sorted_trip_count.show()"
   ]
  },
  {
   "cell_type": "code",
   "execution_count": null,
   "id": "e4caca45-fa14-4931-ae21-bed1cdc44f3c",
   "metadata": {},
   "outputs": [],
   "source": []
  },
  {
   "cell_type": "code",
   "execution_count": null,
   "id": "750c2912-1bd2-40d3-8b68-7a2af2aaa53c",
   "metadata": {},
   "outputs": [],
   "source": [
    "#운송사별 운행 건수 비교"
   ]
  },
  {
   "cell_type": "code",
   "execution_count": 63,
   "id": "bd0a13aa-8ab8-4da3-872b-94d56407fec3",
   "metadata": {},
   "outputs": [
    {
     "name": "stdout",
     "output_type": "stream",
     "text": [
      "+-----------------+-----------+\n",
      "|hvfhs_license_num|total_trips|\n",
      "+-----------------+-----------+\n",
      "|           HV0003|    9836763|\n",
      "|           HV0005|    3219535|\n",
      "|           HV0004|     336606|\n",
      "+-----------------+-----------+\n",
      "\n"
     ]
    }
   ],
   "source": [
    "trips_by_hvfhs = trip_df.groupBy('hvfhs_license_num').agg(\n",
    "    count('hvfhs_license_num').alias('total_trips')\n",
    ")\n",
    "\n",
    "\n",
    "trips_by_hvfhs.orderBy(desc('total_trips')).show()"
   ]
  },
  {
   "cell_type": "code",
   "execution_count": null,
   "id": "005ba9f0-1cef-4a39-b7ee-183a751247e9",
   "metadata": {},
   "outputs": [],
   "source": [
    "#승차 위치 Borough별 운행 건수"
   ]
  },
  {
   "cell_type": "code",
   "execution_count": 64,
   "id": "bc967c00-4612-4f52-b994-708bb59a6472",
   "metadata": {},
   "outputs": [],
   "source": [
    "# 데이터 조인\n",
    "trips_with_borough = trip_df.join(zone_df, trip_df.PULocationID == zone_df.LocationID, \"inner\")"
   ]
  },
  {
   "cell_type": "code",
   "execution_count": 65,
   "id": "2aa55318-9ab0-443d-b599-a336a5ff2600",
   "metadata": {},
   "outputs": [],
   "source": [
    "# 조인된 DataFrame에서 'Borough'별로 그룹화하고 운행 건수를 집계\n",
    "borough_trip_counts = trips_with_borough.groupBy('Borough').agg(\n",
    "    count('*').alias('trip_count')\n",
    ")"
   ]
  },
  {
   "cell_type": "code",
   "execution_count": 66,
   "id": "f8ec3b07-7f4a-469d-9265-c10804543942",
   "metadata": {},
   "outputs": [
    {
     "name": "stdout",
     "output_type": "stream",
     "text": [
      "+-------------+----------+\n",
      "|      Borough|trip_count|\n",
      "+-------------+----------+\n",
      "|    Manhattan|   4953140|\n",
      "|     Brooklyn|   3735764|\n",
      "|       Queens|   2437383|\n",
      "|        Bronx|   2086592|\n",
      "|Staten Island|    178818|\n",
      "|      Unknown|       845|\n",
      "|          EWR|       362|\n",
      "+-------------+----------+\n",
      "\n"
     ]
    }
   ],
   "source": [
    "borough_trip_counts.orderBy(desc('trip_count')).show()"
   ]
  },
  {
   "cell_type": "code",
   "execution_count": null,
   "id": "798a1307-4ed5-4cbf-b7ce-093c5d297f85",
   "metadata": {},
   "outputs": [],
   "source": []
  },
  {
   "cell_type": "code",
   "execution_count": null,
   "id": "9c70dd30-c02a-4ad9-9a85-652c7700d1a7",
   "metadata": {},
   "outputs": [],
   "source": [
    "#서비스 존별 승차/하차 건수"
   ]
  },
  {
   "cell_type": "code",
   "execution_count": 67,
   "id": "e4334654-64c5-442c-99e9-63c4f5b643b5",
   "metadata": {},
   "outputs": [],
   "source": [
    "pickup_zone_df = zone_df.select(\n",
    "    col(\"LocationID\").alias(\"PULocationID\"),\n",
    "    col(\"service_zone\").alias(\"pickup_service_zone\")\n",
    ")"
   ]
  },
  {
   "cell_type": "code",
   "execution_count": 68,
   "id": "d1a3121e-148e-4214-ae30-1430ce82ac4e",
   "metadata": {},
   "outputs": [],
   "source": [
    "dropoff_zone_df = zone_df.select(\n",
    "    col(\"LocationID\").alias(\"DOLocationID\"),\n",
    "    col(\"service_zone\").alias(\"dropoff_service_zone\")\n",
    ")"
   ]
  },
  {
   "cell_type": "code",
   "execution_count": 69,
   "id": "f5ae6db6-0a9f-4751-94d1-fc9699ba208f",
   "metadata": {},
   "outputs": [],
   "source": [
    "# \n",
    "trips_with_zones = trip_df.join(\n",
    "    pickup_zone_df,\n",
    "    on=\"PULocationID\",\n",
    "    how=\"inner\"\n",
    ").join(\n",
    "    dropoff_zone_df,\n",
    "    on=\"DOLocationID\",\n",
    "    how=\"inner\"\n",
    ")"
   ]
  },
  {
   "cell_type": "code",
   "execution_count": 70,
   "id": "7d88977f-868b-42f5-8744-f668891ab1f4",
   "metadata": {},
   "outputs": [
    {
     "name": "stdout",
     "output_type": "stream",
     "text": [
      "+-------------------+------------+\n",
      "|pickup_service_zone|pickup_trips|\n",
      "+-------------------+------------+\n",
      "|Boro Zone          |9046897     |\n",
      "|Yellow Zone        |4025190     |\n",
      "|Airports           |319610      |\n",
      "|N/A                |845         |\n",
      "|EWR                |362         |\n",
      "+-------------------+------------+\n",
      "\n"
     ]
    }
   ],
   "source": [
    "# 승차 서비스 존별 건수 집계\n",
    "pickup_counts = trips_with_zones.groupBy(\"pickup_service_zone\").agg(\n",
    "    count(col(\"PULocationID\")).alias(\"pickup_trips\")\n",
    ")\n",
    "\n",
    "pickup_counts.orderBy(desc(\"pickup_trips\")).show(truncate=False)"
   ]
  },
  {
   "cell_type": "code",
   "execution_count": 71,
   "id": "8e407cbb-b97a-41a0-83fd-34b6d139dd13",
   "metadata": {},
   "outputs": [
    {
     "name": "stdout",
     "output_type": "stream",
     "text": [
      "+--------------------+-------------+\n",
      "|dropoff_service_zone|dropoff_trips|\n",
      "+--------------------+-------------+\n",
      "|Boro Zone           |8885136      |\n",
      "|Yellow Zone         |3643787      |\n",
      "|Airports            |411156       |\n",
      "|N/A                 |387759       |\n",
      "|EWR                 |65066        |\n",
      "+--------------------+-------------+\n",
      "\n"
     ]
    }
   ],
   "source": [
    "# 하차 서비스 존별 건수 집계\n",
    "dropoff_counts = trips_with_zones.groupBy(\"dropoff_service_zone\").agg(\n",
    "    count(col(\"DOLocationID\")).alias(\"dropoff_trips\")\n",
    ")\n",
    "\n",
    "dropoff_counts.orderBy(desc(\"dropoff_trips\")).show(truncate=False)"
   ]
  },
  {
   "cell_type": "code",
   "execution_count": null,
   "id": "408d31e0-8b10-4e02-91c3-525c50a1f03e",
   "metadata": {},
   "outputs": [],
   "source": []
  },
  {
   "cell_type": "code",
   "execution_count": null,
   "id": "ee8815dc-ff88-484b-a16d-a20d55ac5261",
   "metadata": {},
   "outputs": [],
   "source": [
    "# 질문 만들어보기 3개씩"
   ]
  },
  {
   "cell_type": "code",
   "execution_count": 72,
   "id": "bf582076-c610-432e-8445-d19279ff7c22",
   "metadata": {},
   "outputs": [
    {
     "name": "stdout",
     "output_type": "stream",
     "text": [
      "+------------+----------+\n",
      "|PULocationID|trip_count|\n",
      "+------------+----------+\n",
      "|          61|    222094|\n",
      "|          79|    183821|\n",
      "|          76|    168311|\n",
      "|         132|    163734|\n",
      "|         138|    155876|\n",
      "|          37|    155388|\n",
      "|          42|    143389|\n",
      "|         231|    135712|\n",
      "|         234|    132693|\n",
      "|         161|    128751|\n",
      "+------------+----------+\n",
      "\n"
     ]
    }
   ],
   "source": [
    "# - 승객이 가장 많이 승차한 지역ID TOP10\n",
    "pickup_counts = trip_df.groupBy(\"PULocationID\").agg(\n",
    "    count(\"*\").alias(\"trip_count\")\n",
    ")\n",
    "\n",
    "top_10_pickup_locations = pickup_counts.orderBy(desc(\"trip_count\")).limit(10)\n",
    "top_10_pickup_locations.show()"
   ]
  },
  {
   "cell_type": "code",
   "execution_count": 73,
   "id": "9d04a2dd-530b-400d-91d3-7e79472886bc",
   "metadata": {},
   "outputs": [
    {
     "name": "stdout",
     "output_type": "stream",
     "text": [
      "+------------+----------+\n",
      "|DOLocationID|trip_count|\n",
      "+------------+----------+\n",
      "|         265|    387758|\n",
      "|          61|    224476|\n",
      "|         132|    216213|\n",
      "|         138|    194943|\n",
      "|          76|    172649|\n",
      "|          37|    158832|\n",
      "|          79|    147732|\n",
      "|          42|    136729|\n",
      "|         225|    128945|\n",
      "|          17|    128152|\n",
      "+------------+----------+\n",
      "\n"
     ]
    }
   ],
   "source": [
    "# - 승객이 가장 많이 하차한 지역ID TOP10\n",
    "pickdown_counts = trip_df.groupBy(\"DOLocationID\").agg(\n",
    "    count(\"*\").alias(\"trip_count\")\n",
    ")\n",
    "\n",
    "top_10_pickdown_locations = pickdown_counts.orderBy(desc(\"trip_count\")).limit(10)\n",
    "top_10_pickdown_locations.show()"
   ]
  },
  {
   "cell_type": "code",
   "execution_count": 78,
   "id": "04b9e08b-cf70-49d6-8c82-8bd46a6e695e",
   "metadata": {},
   "outputs": [
    {
     "name": "stdout",
     "output_type": "stream",
     "text": [
      "+------------------+\n",
      "|count_of_locations|\n",
      "+------------------+\n",
      "|               258|\n",
      "+------------------+\n",
      "\n"
     ]
    }
   ],
   "source": [
    "# - 승차, 하차 지역ID 동일한 지역의 개수\n",
    "from pyspark.sql import Row\n",
    "\n",
    "distinct_same_location_count = trip_df.filter(col('PULocationID') == col('DOLocationID'))\\\n",
    "                                      .select('PULocationID').distinct().count()\n",
    "\n",
    "result_df = spark.createDataFrame(\n",
    "    [Row(count_of_locations=distinct_same_location_count)]\n",
    ")\n",
    "\n",
    "result_df.show()"
   ]
  },
  {
   "cell_type": "code",
   "execution_count": null,
   "id": "b69b62f5-a8b0-4923-a888-f32f4fd03837",
   "metadata": {},
   "outputs": [],
   "source": []
  },
  {
   "cell_type": "code",
   "execution_count": null,
   "id": "e1e49e46-dddd-4c42-ab08-3220ab0bf978",
   "metadata": {},
   "outputs": [],
   "source": []
  },
  {
   "cell_type": "code",
   "execution_count": null,
   "id": "581672e4-cbd0-49ff-ae32-6cd4e83a0959",
   "metadata": {},
   "outputs": [],
   "source": []
  },
  {
   "cell_type": "code",
   "execution_count": null,
   "id": "88ef4c78-db82-4e0c-843b-1f74c52f25f7",
   "metadata": {},
   "outputs": [],
   "source": []
  }
 ],
 "metadata": {
  "kernelspec": {
   "display_name": "Python 3 (ipykernel)",
   "language": "python",
   "name": "python3"
  },
  "language_info": {
   "codemirror_mode": {
    "name": "ipython",
    "version": 3
   },
   "file_extension": ".py",
   "mimetype": "text/x-python",
   "name": "python",
   "nbconvert_exporter": "python",
   "pygments_lexer": "ipython3",
   "version": "3.11.6"
  }
 },
 "nbformat": 4,
 "nbformat_minor": 5
}
