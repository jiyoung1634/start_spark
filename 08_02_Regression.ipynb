{
 "cells": [
  {
   "cell_type": "code",
   "execution_count": 2,
   "id": "1cdbf983-b0c9-4214-b366-0f837ac69b21",
   "metadata": {},
   "outputs": [],
   "source": [
    "from pyspark.sql import SparkSession\n",
    "MAX_MEMORY = '8g'\n",
    "spark = SparkSession.builder.appName(\"taxi-fare-prediction\")\\\n",
    "    .config('spark.driver.memory', MAX_MEMORY)\\\n",
    "    .config('spark.executor.memory', MAX_MEMORY)\\\n",
    "    .getOrCreate()"
   ]
  },
  {
   "cell_type": "code",
   "execution_count": 3,
   "id": "94fb3d8b-01d3-46b1-b220-d0ea08f7bb96",
   "metadata": {},
   "outputs": [
    {
     "name": "stdout",
     "output_type": "stream",
     "text": [
      "root\n",
      " |-- VendorID: integer (nullable = true)\n",
      " |-- tpep_pickup_datetime: timestamp (nullable = true)\n",
      " |-- tpep_dropoff_datetime: timestamp (nullable = true)\n",
      " |-- passenger_count: integer (nullable = true)\n",
      " |-- trip_distance: double (nullable = true)\n",
      " |-- RatecodeID: integer (nullable = true)\n",
      " |-- store_and_fwd_flag: string (nullable = true)\n",
      " |-- PULocationID: integer (nullable = true)\n",
      " |-- DOLocationID: integer (nullable = true)\n",
      " |-- payment_type: integer (nullable = true)\n",
      " |-- fare_amount: double (nullable = true)\n",
      " |-- extra: double (nullable = true)\n",
      " |-- mta_tax: double (nullable = true)\n",
      " |-- tip_amount: double (nullable = true)\n",
      " |-- tolls_amount: double (nullable = true)\n",
      " |-- improvement_surcharge: double (nullable = true)\n",
      " |-- total_amount: double (nullable = true)\n",
      " |-- congestion_surcharge: double (nullable = true)\n",
      "\n"
     ]
    }
   ],
   "source": [
    "import os\n",
    "cwd = os.getcwd()\n",
    "trip_data_path = os.path.join(cwd, 'learning_spark_data', 'trips', '*.csv')\n",
    "trip_data_path\n",
    "\n",
    "file_path = f\"file:///{trip_data_path.replace(os.sep, '/')}\"\n",
    "\n",
    "trip_df = spark.read.csv(file_path, inferSchema=True, header=True)\n",
    "trip_df.printSchema()"
   ]
  },
  {
   "cell_type": "code",
   "execution_count": 4,
   "id": "997a8cba-7617-4427-a48d-e88ba8deda58",
   "metadata": {},
   "outputs": [],
   "source": [
    "trip_df.createOrReplaceTempView('trips')"
   ]
  },
  {
   "cell_type": "code",
   "execution_count": 5,
   "id": "96392314-755a-4ca8-92de-b05d6f0e0847",
   "metadata": {},
   "outputs": [],
   "source": [
    "query = \"\"\"\n",
    "SELECT \n",
    "    passenger_count,\n",
    "    PULocationID as pickup_location_id,\n",
    "    DOLocationID as dropoff_location_id,\n",
    "    trip_distance,\n",
    "    HOUR(tpep_pickup_datetime) as pickup_time,\n",
    "    DATE_FORMAT(TO_DATE(tpep_pickup_datetime), 'EEEE') AS day_of_week,\n",
    "    total_amount\n",
    "FROM\n",
    "    trips\n",
    "WHERE\n",
    "    total_amount < 5000\n",
    "    AND total_amount > 0\n",
    "    AND trip_distance > 0\n",
    "    AND trip_distance < 500\n",
    "    AND passenger_count < 4\n",
    "    AND TO_DATE(tpep_pickup_datetime) >= '2021-01-01'\n",
    "    AND TO_DATE(tpep_pickup_datetime) < '2021-08-01'\n",
    "\"\"\""
   ]
  },
  {
   "cell_type": "code",
   "execution_count": 6,
   "id": "bb292d0d-4221-4b22-9f96-03797521af0a",
   "metadata": {},
   "outputs": [
    {
     "name": "stdout",
     "output_type": "stream",
     "text": [
      "+---------------+------------------+-------------------+-------------+-----------+-----------+------------+\n",
      "|passenger_count|pickup_location_id|dropoff_location_id|trip_distance|pickup_time|day_of_week|total_amount|\n",
      "+---------------+------------------+-------------------+-------------+-----------+-----------+------------+\n",
      "|              0|               138|                265|         16.5|          0|     Monday|       70.07|\n",
      "|              1|                68|                264|         1.13|          0|     Monday|       11.16|\n",
      "|              1|               239|                262|         2.68|          0|     Monday|       18.59|\n",
      "|              1|               186|                 91|         12.4|          0|     Monday|        43.8|\n",
      "|              2|               132|                265|          9.7|          0|     Monday|        32.3|\n",
      "+---------------+------------------+-------------------+-------------+-----------+-----------+------------+\n",
      "only showing top 5 rows\n",
      "\n"
     ]
    }
   ],
   "source": [
    "data_df = spark.sql(query)\n",
    "data_df.show(5)"
   ]
  },
  {
   "cell_type": "code",
   "execution_count": 7,
   "id": "92f2ab17-b8d6-4c8c-9d6f-246cfa9a1133",
   "metadata": {},
   "outputs": [],
   "source": [
    "# 모델 만들기"
   ]
  },
  {
   "cell_type": "code",
   "execution_count": 13,
   "id": "e4a43175-3d60-431c-9a92-7922d2dfe52c",
   "metadata": {},
   "outputs": [],
   "source": [
    "train_df, test_df = data_df.randomSplit([0.8,0.2], seed=1)"
   ]
  },
  {
   "cell_type": "code",
   "execution_count": 15,
   "id": "7560fe1b-b8de-4c4e-aeb0-f3d06ebaa9ba",
   "metadata": {},
   "outputs": [
    {
     "name": "stdout",
     "output_type": "stream",
     "text": [
      "+---------------+------------------+-------------------+-------------+-----------+-----------+------------+--------------------+\n",
      "|passenger_count|pickup_location_id|dropoff_location_id|trip_distance|pickup_time|day_of_week|total_amount|            features|\n",
      "+---------------+------------------+-------------------+-------------+-----------+-----------+------------+--------------------+\n",
      "|              0|               138|                265|         16.5|          0|     Monday|       70.07|[0.0,138.0,265.0,...|\n",
      "|              1|                68|                264|         1.13|          0|     Monday|       11.16|[1.0,68.0,264.0,1...|\n",
      "|              1|               239|                262|         2.68|          0|     Monday|       18.59|[1.0,239.0,262.0,...|\n",
      "|              1|               186|                 91|         12.4|          0|     Monday|        43.8|[1.0,186.0,91.0,1...|\n",
      "|              2|               132|                265|          9.7|          0|     Monday|        32.3|[2.0,132.0,265.0,...|\n",
      "+---------------+------------------+-------------------+-------------+-----------+-----------+------------+--------------------+\n",
      "only showing top 5 rows\n",
      "\n"
     ]
    }
   ],
   "source": [
    "from pyspark.ml.feature import VectorAssembler\n",
    "vassembler = VectorAssembler(inputCols=['passenger_count', 'pickup_location_id', 'dropoff_location_id','trip_distance', 'pickup_time'], outputCol='features')\n",
    "vtrain_df = vassembler.transform(data_df)\n",
    "vtrain_df.show(5)"
   ]
  },
  {
   "cell_type": "code",
   "execution_count": 16,
   "id": "c48a02dc-df76-4c8e-b7c1-c0c5302f8dae",
   "metadata": {},
   "outputs": [],
   "source": [
    "from pyspark.ml.regression import LinearRegression\n",
    "lr = LinearRegression(    maxIter=50, labelCol='total_amount', featuresCol='features')\n",
    "lr_model = lr.fit(vtrain_df) #천만건데이터 학습\n",
    "\n",
    "vtest_df = vassembler.transform(test_df)\n",
    "pred = lr_model.transform(vtest_df)"
   ]
  },
  {
   "cell_type": "code",
   "execution_count": 17,
   "id": "1939b53e-813c-4eca-ba88-89f76dddb516",
   "metadata": {},
   "outputs": [
    {
     "name": "stdout",
     "output_type": "stream",
     "text": [
      "+---------------+------------------+-------------------+-------------+-----------+-----------+------------+--------------------+------------------+\n",
      "|passenger_count|pickup_location_id|dropoff_location_id|trip_distance|pickup_time|day_of_week|total_amount|            features|        prediction|\n",
      "+---------------+------------------+-------------------+-------------+-----------+-----------+------------+--------------------+------------------+\n",
      "|              0|                 4|                107|          1.0|          9|    Tuesday|       10.55|[0.0,4.0,107.0,1....|11.879656745172685|\n",
      "|              0|                 4|                234|          1.7|         18|   Saturday|        13.3|[0.0,4.0,234.0,1....|14.515770368184366|\n",
      "|              0|                 4|                236|          4.1|         15|     Friday|        21.3|[0.0,4.0,236.0,4....| 21.49762126708708|\n",
      "|              0|                 4|                243|         11.5|          1|     Sunday|        41.3|[0.0,4.0,243.0,11...|42.762099564442586|\n",
      "|              0|                 4|                249|          1.7|          0|   Saturday|       14.15|[0.0,4.0,249.0,1....|13.524451197999667|\n",
      "+---------------+------------------+-------------------+-------------+-----------+-----------+------------+--------------------+------------------+\n",
      "only showing top 5 rows\n",
      "\n"
     ]
    }
   ],
   "source": [
    "pred.show(5)"
   ]
  },
  {
   "cell_type": "code",
   "execution_count": 18,
   "id": "ea46a5f3-8c24-4c6d-94eb-26a47a0b5337",
   "metadata": {},
   "outputs": [],
   "source": [
    "# 강사님 답"
   ]
  },
  {
   "cell_type": "code",
   "execution_count": 19,
   "id": "d03fb867-eb4a-422f-9157-b54c6f862242",
   "metadata": {},
   "outputs": [],
   "source": [
    "train_df, test_df = data_df.randomSplit([0.8,0.2], seed=1)"
   ]
  },
  {
   "cell_type": "markdown",
   "id": "6a2589c3-0116-4c26-b249-c29137613bd6",
   "metadata": {},
   "source": [
    "# 파이프라인 생성\n",
    "- 전처리 과정을 각 스테이지로 정의해서 쌓는다\n",
    "- 범주형) StringIndexer & 원핫인코딩 : 'pickup_location_id', 'dropoff_location_id', 'day_of_week'\n",
    "- 수치형) StandardScaler : 'passenger_count', 'trip_distance', 'pickup_time'"
   ]
  },
  {
   "cell_type": "code",
   "execution_count": 22,
   "id": "8ceefb2a-e860-4fd5-987f-b8dec1dc856d",
   "metadata": {},
   "outputs": [],
   "source": [
    "stages = []"
   ]
  },
  {
   "cell_type": "code",
   "execution_count": 23,
   "id": "a2d506d9-c8ac-43ca-a8a1-19e2760bdd32",
   "metadata": {},
   "outputs": [
    {
     "data": {
      "text/plain": [
       "[StringIndexer_0d58d2430a6f,\n",
       " OneHotEncoder_61795766de61,\n",
       " StringIndexer_28056f54160b,\n",
       " OneHotEncoder_05e794fc4d97,\n",
       " StringIndexer_79e245269036,\n",
       " OneHotEncoder_fb10663a68d0]"
      ]
     },
     "execution_count": 23,
     "metadata": {},
     "output_type": "execute_result"
    }
   ],
   "source": [
    "from pyspark.ml.feature import OneHotEncoder, StringIndexer\n",
    "\n",
    "cat_features = ['pickup_location_id', 'dropoff_location_id', 'day_of_week']\n",
    "for cat in cat_features:\n",
    "    cat_index = StringIndexer(inputCol=cat, outputCol=cat+'_idx').setHandleInvalid('keep')\n",
    "    onehot_encode = OneHotEncoder(inputCols=[cat_index.getOutputCol()],   # _idx 컬럼들\n",
    "                                 outputCols=[cat+'_onehot'])   # postfix 뒤에 붙이기\n",
    "    stages += [cat_index, onehot_encode]   # 컬럼목록list\n",
    "stages"
   ]
  },
  {
   "cell_type": "code",
   "execution_count": null,
   "id": "632ad9d9-7c45-4d55-b8e8-4275e1a13f17",
   "metadata": {},
   "outputs": [],
   "source": []
  },
  {
   "cell_type": "code",
   "execution_count": 29,
   "id": "9a184603-cf29-4889-8e7b-081fa6952bcd",
   "metadata": {},
   "outputs": [
    {
     "data": {
      "text/plain": [
       "[StringIndexer_0d58d2430a6f,\n",
       " OneHotEncoder_61795766de61,\n",
       " StringIndexer_28056f54160b,\n",
       " OneHotEncoder_05e794fc4d97,\n",
       " StringIndexer_79e245269036,\n",
       " OneHotEncoder_fb10663a68d0,\n",
       " VectorAssembler_57c69ca5b635,\n",
       " StandardScaler_4666af4e50ca,\n",
       " VectorAssembler_fe2079e48844,\n",
       " StandardScaler_a0f203788fd4,\n",
       " VectorAssembler_3f35cfde98f3,\n",
       " StandardScaler_1bbaa32a9ab4]"
      ]
     },
     "execution_count": 29,
     "metadata": {},
     "output_type": "execute_result"
    }
   ],
   "source": [
    "from pyspark.ml.feature import StandardScaler, VectorAssembler\n",
    "num_features = ['passenger_count', 'trip_distance', 'pickup_time']\n",
    "\n",
    "for num in num_features:\n",
    "    num_assembler = VectorAssembler(inputCols=[num], outputCol=num+'_vector')\n",
    "    num_scaler = StandardScaler(inputCol=num_assembler.getOutputCol(), outputCol=num+'_scaled')\n",
    "    stages += [num_assembler, num_scaler]\n",
    "stages"
   ]
  },
  {
   "cell_type": "code",
   "execution_count": 31,
   "id": "20b7e7a6-dbf3-47aa-93c7-22977bf7dbda",
   "metadata": {},
   "outputs": [
    {
     "data": {
      "text/plain": [
       "['pickup_location_id_onehot',\n",
       " 'dropoff_location_id_onehot',\n",
       " 'day_of_week_onehot',\n",
       " 'passenger_count_scaled',\n",
       " 'trip_distance_scaled',\n",
       " 'pickup_time_scaled']"
      ]
     },
     "execution_count": 31,
     "metadata": {},
     "output_type": "execute_result"
    }
   ],
   "source": [
    "assembler_input = [cat+'_onehot' for cat in cat_features] + [num+'_scaled' for num in num_features]\n",
    "assembler_input"
   ]
  },
  {
   "cell_type": "code",
   "execution_count": 32,
   "id": "30836b7b-5a4b-49b9-a1be-7486107f053d",
   "metadata": {},
   "outputs": [
    {
     "data": {
      "text/plain": [
       "[StringIndexer_0d58d2430a6f,\n",
       " OneHotEncoder_61795766de61,\n",
       " StringIndexer_28056f54160b,\n",
       " OneHotEncoder_05e794fc4d97,\n",
       " StringIndexer_79e245269036,\n",
       " OneHotEncoder_fb10663a68d0,\n",
       " VectorAssembler_57c69ca5b635,\n",
       " StandardScaler_4666af4e50ca,\n",
       " VectorAssembler_fe2079e48844,\n",
       " StandardScaler_a0f203788fd4,\n",
       " VectorAssembler_3f35cfde98f3,\n",
       " StandardScaler_1bbaa32a9ab4,\n",
       " VectorAssembler_aaef482c26a6]"
      ]
     },
     "execution_count": 32,
     "metadata": {},
     "output_type": "execute_result"
    }
   ],
   "source": [
    "assembler = VectorAssembler(inputCols=assembler_input, outputCol='feature_vector')\n",
    "stages += [assembler]\n",
    "stages"
   ]
  },
  {
   "cell_type": "code",
   "execution_count": 33,
   "id": "476a12eb-ff4d-4aec-aa5b-b5476396ad5d",
   "metadata": {},
   "outputs": [
    {
     "name": "stdout",
     "output_type": "stream",
     "text": [
      "root\n",
      " |-- passenger_count: integer (nullable = true)\n",
      " |-- pickup_location_id: integer (nullable = true)\n",
      " |-- dropoff_location_id: integer (nullable = true)\n",
      " |-- trip_distance: double (nullable = true)\n",
      " |-- pickup_time: integer (nullable = true)\n",
      " |-- day_of_week: string (nullable = true)\n",
      " |-- total_amount: double (nullable = true)\n",
      " |-- pickup_location_id_idx: double (nullable = false)\n",
      " |-- pickup_location_id_onehot: vector (nullable = true)\n",
      " |-- dropoff_location_id_idx: double (nullable = false)\n",
      " |-- dropoff_location_id_onehot: vector (nullable = true)\n",
      " |-- day_of_week_idx: double (nullable = false)\n",
      " |-- day_of_week_onehot: vector (nullable = true)\n",
      " |-- passenger_count_vector: vector (nullable = true)\n",
      " |-- passenger_count_scaled: vector (nullable = true)\n",
      " |-- trip_distance_vector: vector (nullable = true)\n",
      " |-- trip_distance_scaled: vector (nullable = true)\n",
      " |-- pickup_time_vector: vector (nullable = true)\n",
      " |-- pickup_time_scaled: vector (nullable = true)\n",
      " |-- feature_vector: vector (nullable = true)\n",
      "\n"
     ]
    }
   ],
   "source": [
    "from pyspark.ml import Pipeline\n",
    "pipeline = Pipeline(stages=stages)\n",
    "fitted_transform = pipeline.fit(train_df)\n",
    "vtrain_df = fitted_transform.transform(train_df)\n",
    "vtrain_df.printSchema()"
   ]
  },
  {
   "cell_type": "code",
   "execution_count": 35,
   "id": "dfc086a5-fcc8-472c-8f17-b3e112d1544f",
   "metadata": {},
   "outputs": [
    {
     "name": "stdout",
     "output_type": "stream",
     "text": [
      "+--------------------+\n",
      "|      feature_vector|\n",
      "+--------------------+\n",
      "|(533,[62,311,527,...|\n",
      "|(533,[62,280,526,...|\n",
      "|(533,[62,280,527,...|\n",
      "|(533,[62,280,528,...|\n",
      "|(533,[62,299,523,...|\n",
      "+--------------------+\n",
      "only showing top 5 rows\n",
      "\n"
     ]
    }
   ],
   "source": [
    "vtrain_df.select('feature_vector').show(5)"
   ]
  },
  {
   "cell_type": "code",
   "execution_count": null,
   "id": "17cef031-2d23-4d6c-bfbc-310636de85e5",
   "metadata": {},
   "outputs": [],
   "source": []
  },
  {
   "cell_type": "code",
   "execution_count": 42,
   "id": "d072bab2-86d2-43c2-a166-18d171316c59",
   "metadata": {},
   "outputs": [],
   "source": [
    "from pyspark.ml.regression import LinearRegression\n",
    "lr = LinearRegression(\n",
    "    maxIter=50, solver='normal', labelCol='total_amount', featuresCol='feature_vector'\n",
    ")"
   ]
  },
  {
   "cell_type": "code",
   "execution_count": 44,
   "id": "66c378c7-3697-4766-8b18-6dd2a176b705",
   "metadata": {},
   "outputs": [],
   "source": [
    "model = lr.fit(vtrain_df)"
   ]
  },
  {
   "cell_type": "code",
   "execution_count": 45,
   "id": "2c5be13e-fe3c-4321-89d2-97129a00b748",
   "metadata": {},
   "outputs": [],
   "source": [
    "# 테스트데이터도 변환\n",
    "vtest_df = fitted_transform.transform(test_df)\n",
    "# 테스트데이터로 예측\n",
    "pred = model.transform(vtest_df)"
   ]
  },
  {
   "cell_type": "code",
   "execution_count": 46,
   "id": "a1eaac88-56fc-45f5-b407-326d775e93d0",
   "metadata": {},
   "outputs": [
    {
     "data": {
      "text/plain": [
       "DataFrame[passenger_count: int, pickup_location_id: int, dropoff_location_id: int, trip_distance: double, pickup_time: int, day_of_week: string, total_amount: double, pickup_location_id_idx: double, pickup_location_id_onehot: vector, dropoff_location_id_idx: double, dropoff_location_id_onehot: vector, day_of_week_idx: double, day_of_week_onehot: vector, passenger_count_vector: vector, passenger_count_scaled: vector, trip_distance_vector: vector, trip_distance_scaled: vector, pickup_time_vector: vector, pickup_time_scaled: vector, feature_vector: vector, prediction: double]"
      ]
     },
     "execution_count": 46,
     "metadata": {},
     "output_type": "execute_result"
    }
   ],
   "source": [
    "pred.cache()"
   ]
  },
  {
   "cell_type": "code",
   "execution_count": 47,
   "id": "45904ba7-7ff9-4350-ac3f-e4ba7839d178",
   "metadata": {},
   "outputs": [
    {
     "name": "stdout",
     "output_type": "stream",
     "text": [
      "+------------+------------------+\n",
      "|total_amount|        prediction|\n",
      "+------------+------------------+\n",
      "|       10.55|12.695522792729275|\n",
      "|        13.3|14.450558014776915|\n",
      "|        21.3|21.108271361254218|\n",
      "|        41.3| 40.87993984204378|\n",
      "|       14.15|13.906932982613997|\n",
      "+------------+------------------+\n",
      "only showing top 5 rows\n",
      "\n"
     ]
    }
   ],
   "source": [
    "pred.select('total_amount', 'prediction').show(5)"
   ]
  },
  {
   "cell_type": "code",
   "execution_count": 48,
   "id": "523442f3-6d02-43cf-bb92-5304f071195a",
   "metadata": {},
   "outputs": [
    {
     "data": {
      "text/plain": [
       "(0.80849012500813, 5.6485201652667625)"
      ]
     },
     "execution_count": 48,
     "metadata": {},
     "output_type": "execute_result"
    }
   ],
   "source": [
    "model.summary.r2, model.summary.rootMeanSquaredError"
   ]
  },
  {
   "cell_type": "code",
   "execution_count": null,
   "id": "b375f89a-93cb-4ed2-bda9-b3a3b082c6c8",
   "metadata": {},
   "outputs": [],
   "source": []
  },
  {
   "cell_type": "code",
   "execution_count": 49,
   "id": "8fedc3fd-e892-423c-9d14-f51e5e55e8ba",
   "metadata": {},
   "outputs": [],
   "source": [
    "spark.stop()"
   ]
  },
  {
   "cell_type": "code",
   "execution_count": null,
   "id": "cecd8c96-31a8-4e3a-a024-e4181e6b2564",
   "metadata": {},
   "outputs": [],
   "source": []
  },
  {
   "cell_type": "code",
   "execution_count": null,
   "id": "bfba6044-32dd-47e3-850f-0ae3dcdc6268",
   "metadata": {},
   "outputs": [],
   "source": []
  }
 ],
 "metadata": {
  "kernelspec": {
   "display_name": "Python 3 (ipykernel)",
   "language": "python",
   "name": "python3"
  },
  "language_info": {
   "codemirror_mode": {
    "name": "ipython",
    "version": 3
   },
   "file_extension": ".py",
   "mimetype": "text/x-python",
   "name": "python",
   "nbconvert_exporter": "python",
   "pygments_lexer": "ipython3",
   "version": "3.11.6"
  }
 },
 "nbformat": 4,
 "nbformat_minor": 5
}
