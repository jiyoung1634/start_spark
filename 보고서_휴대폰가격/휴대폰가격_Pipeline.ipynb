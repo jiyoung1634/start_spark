{
 "cells": [
  {
   "cell_type": "markdown",
   "id": "4e5c839c-00cd-4a5f-a3e8-ae59e6f3e475",
   "metadata": {},
   "source": [
    "# 휴대폰 가격 예측 보고서 (파이프라인 파일)\n",
    "\n",
    "# 1. Spark세션 불러오기"
   ]
  },
  {
   "cell_type": "code",
   "execution_count": 1,
   "id": "b64b7ece-0a27-44ab-8771-0c3eb46a071e",
   "metadata": {},
   "outputs": [],
   "source": [
    "from pyspark.sql import SparkSession"
   ]
  },
  {
   "cell_type": "code",
   "execution_count": 2,
   "id": "77dbd872-80e4-4efc-beca-aef348704445",
   "metadata": {},
   "outputs": [],
   "source": [
    "# 메모리 부족하지 않도록 용량 8g로 설정\n",
    "\n",
    "MAX_MEMORY = '8g'"
   ]
  },
  {
   "cell_type": "code",
   "execution_count": 3,
   "id": "09d938ea-c303-4bab-a3ac-110e474cc711",
   "metadata": {},
   "outputs": [],
   "source": [
    "spark = SparkSession.builder.appName(\"MobilePhonePricePredict\")\\\n",
    "    .config('spark.driver.memory', MAX_MEMORY)\\\n",
    "    .config('spark.executor.memory', MAX_MEMORY)\\\n",
    "    .getOrCreate()"
   ]
  },
  {
   "cell_type": "markdown",
   "id": "83be43df-0e01-4cb3-9f0d-bace2be4dd5d",
   "metadata": {},
   "source": [
    "## 1-1. 데이터 가져오기"
   ]
  },
  {
   "cell_type": "code",
   "execution_count": 4,
   "id": "4e457b35-cc0d-4e97-a792-5a56f11bf7ba",
   "metadata": {},
   "outputs": [],
   "source": [
    "import os\n",
    "\n",
    "data_file_path = 'mobile_dataset.csv'\n",
    "df = spark.read.csv(data_file_path, inferSchema=True, header=True)"
   ]
  },
  {
   "cell_type": "code",
   "execution_count": null,
   "id": "5814957d-a1ee-4cf4-b16c-af69450c8e61",
   "metadata": {},
   "outputs": [],
   "source": []
  },
  {
   "cell_type": "markdown",
   "id": "718f9080-fa7b-4ba8-8470-313ef2f94989",
   "metadata": {},
   "source": [
    "# 2. 모델 만들기"
   ]
  },
  {
   "cell_type": "code",
   "execution_count": 5,
   "id": "5cd9d161-c566-49c3-a17b-3a89f26c3b24",
   "metadata": {},
   "outputs": [],
   "source": [
    "train_df, test_df = df.randomSplit([0.7,0.3], seed=42)   # 데이터프레임을 7:3 비율로 분할"
   ]
  },
  {
   "cell_type": "markdown",
   "id": "72bb32bc-09b1-46aa-97ec-74ab54000bea",
   "metadata": {},
   "source": [
    "# 3. 전처리 파이프라인 구축"
   ]
  },
  {
   "cell_type": "code",
   "execution_count": 6,
   "id": "86b00497-542f-4a1a-ae39-fc2e6d4a13ca",
   "metadata": {},
   "outputs": [],
   "source": [
    "# 전처리할 범주형 특성 목록\n",
    "# EDA에서 중요하다고 판단한 'processor', 'storage', 'battery', 'camera'\n",
    "cat_features = ['processor', 'storage', 'battery', 'camera']\n",
    "\n",
    "# 전처리할 숫자형 특성 목록\n",
    "# EDA에서 중요하다고 판단한'Spec Score'와 'rating'\n",
    "num_features = ['Spec Score', 'rating']"
   ]
  },
  {
   "cell_type": "markdown",
   "id": "3682bac4-a1d4-4910-aa0c-b72da560fad2",
   "metadata": {},
   "source": [
    "## 3-1. 범주형 데이터 전처리 파이프라인 구축"
   ]
  },
  {
   "cell_type": "code",
   "execution_count": 7,
   "id": "5cc87f8f-a123-4abc-8356-a279fe5ef11b",
   "metadata": {},
   "outputs": [],
   "source": [
    "from pyspark.ml.feature import OneHotEncoder, StringIndexer"
   ]
  },
  {
   "cell_type": "code",
   "execution_count": 8,
   "id": "47d91082-061f-406d-bc1a-daa4f73d0cf7",
   "metadata": {},
   "outputs": [],
   "source": [
    "stages = []"
   ]
  },
  {
   "cell_type": "code",
   "execution_count": 9,
   "id": "1c61f4f0-80e9-4b80-9af8-7b534658cb64",
   "metadata": {},
   "outputs": [
    {
     "data": {
      "text/plain": [
       "[StringIndexer_2289fbfe42fa,\n",
       " OneHotEncoder_85287a3b723f,\n",
       " StringIndexer_40694006918d,\n",
       " OneHotEncoder_e988ea507355,\n",
       " StringIndexer_3558e4d153f7,\n",
       " OneHotEncoder_141b2e206f8f,\n",
       " StringIndexer_8976c7b4d4ad,\n",
       " OneHotEncoder_0757e7df7f0c]"
      ]
     },
     "execution_count": 9,
     "metadata": {},
     "output_type": "execute_result"
    }
   ],
   "source": [
    "for cat in cat_features:\n",
    "    cat_index = StringIndexer(inputCol=cat, outputCol=cat+'_idx').setHandleInvalid('keep')\n",
    "    onehot_encode = OneHotEncoder(inputCols=[cat_index.getOutputCol()], outputCols=[cat+'_onehot'])\n",
    "    \n",
    "    stages += [cat_index, onehot_encode]\n",
    "\n",
    "stages"
   ]
  },
  {
   "cell_type": "markdown",
   "id": "0f91b1b3-237e-48f0-bd91-5c1330d033d5",
   "metadata": {},
   "source": [
    "## 3-2. 숫자형 데이터 전처리 파이프라인 구축"
   ]
  },
  {
   "cell_type": "code",
   "execution_count": 10,
   "id": "5a837e93-3118-40f6-b3e8-7c22af18da3b",
   "metadata": {},
   "outputs": [],
   "source": [
    "from pyspark.ml.feature import StandardScaler, VectorAssembler"
   ]
  },
  {
   "cell_type": "code",
   "execution_count": 11,
   "id": "715f6285-689e-45fb-8a62-706e10ab3517",
   "metadata": {},
   "outputs": [
    {
     "data": {
      "text/plain": [
       "[StringIndexer_2289fbfe42fa,\n",
       " OneHotEncoder_85287a3b723f,\n",
       " StringIndexer_40694006918d,\n",
       " OneHotEncoder_e988ea507355,\n",
       " StringIndexer_3558e4d153f7,\n",
       " OneHotEncoder_141b2e206f8f,\n",
       " StringIndexer_8976c7b4d4ad,\n",
       " OneHotEncoder_0757e7df7f0c,\n",
       " VectorAssembler_41d9cb8c4d31,\n",
       " StandardScaler_27c7b1e11952,\n",
       " VectorAssembler_f8f064e2cbaa,\n",
       " StandardScaler_633e1c9c6195]"
      ]
     },
     "execution_count": 11,
     "metadata": {},
     "output_type": "execute_result"
    }
   ],
   "source": [
    "for num in num_features:\n",
    "    num_assembler = VectorAssembler(inputCols=[num], outputCol=num+'_vector')\n",
    "    num_scaler = StandardScaler(inputCol=num_assembler.getOutputCol(), outputCol=num+'_scaled')\n",
    "    \n",
    "    stages += [num_assembler, num_scaler]\n",
    "\n",
    "stages"
   ]
  },
  {
   "cell_type": "code",
   "execution_count": 12,
   "id": "612f8aa8-cc6c-4644-8413-2a060e720d2b",
   "metadata": {},
   "outputs": [
    {
     "data": {
      "text/plain": [
       "['processor_onehot',\n",
       " 'storage_onehot',\n",
       " 'battery_onehot',\n",
       " 'camera_onehot',\n",
       " 'Spec Score_scaled',\n",
       " 'rating_scaled']"
      ]
     },
     "execution_count": 12,
     "metadata": {},
     "output_type": "execute_result"
    }
   ],
   "source": [
    "assembler_input = [cat+'_onehot' for cat in cat_features] + [num+'_scaled' for num in num_features]\n",
    "assembler_input"
   ]
  },
  {
   "cell_type": "code",
   "execution_count": 13,
   "id": "fade3142-1891-4f86-937b-af006bfa6bb1",
   "metadata": {},
   "outputs": [
    {
     "data": {
      "text/plain": [
       "[StringIndexer_2289fbfe42fa,\n",
       " OneHotEncoder_85287a3b723f,\n",
       " StringIndexer_40694006918d,\n",
       " OneHotEncoder_e988ea507355,\n",
       " StringIndexer_3558e4d153f7,\n",
       " OneHotEncoder_141b2e206f8f,\n",
       " StringIndexer_8976c7b4d4ad,\n",
       " OneHotEncoder_0757e7df7f0c,\n",
       " VectorAssembler_41d9cb8c4d31,\n",
       " StandardScaler_27c7b1e11952,\n",
       " VectorAssembler_f8f064e2cbaa,\n",
       " StandardScaler_633e1c9c6195,\n",
       " VectorAssembler_4ccee8d2e09f]"
      ]
     },
     "execution_count": 13,
     "metadata": {},
     "output_type": "execute_result"
    }
   ],
   "source": [
    "assembler = VectorAssembler(inputCols=assembler_input, outputCol='feature_vector')\n",
    "stages += [assembler]\n",
    "stages"
   ]
  },
  {
   "cell_type": "markdown",
   "id": "5f379e82-5a89-4ca2-9427-d826b862a097",
   "metadata": {},
   "source": [
    "## 3-3. 파이프라인 만들고 학습 데이터에 적용"
   ]
  },
  {
   "cell_type": "code",
   "execution_count": 14,
   "id": "6419a291-039a-436b-98ec-d900a19ac45d",
   "metadata": {},
   "outputs": [],
   "source": [
    "from pyspark.ml import Pipeline"
   ]
  },
  {
   "cell_type": "code",
   "execution_count": 15,
   "id": "793c16bc-cfd9-4f6d-9b91-7ea12c5f3c94",
   "metadata": {},
   "outputs": [
    {
     "name": "stdout",
     "output_type": "stream",
     "text": [
      "root\n",
      " |-- Name: string (nullable = true)\n",
      " |-- Spec Score: integer (nullable = true)\n",
      " |-- rating: double (nullable = true)\n",
      " |-- price: integer (nullable = true)\n",
      " |-- img: string (nullable = true)\n",
      " |-- tag: string (nullable = true)\n",
      " |-- sim: string (nullable = true)\n",
      " |-- processor: string (nullable = true)\n",
      " |-- storage: string (nullable = true)\n",
      " |-- battery: string (nullable = true)\n",
      " |-- display: string (nullable = true)\n",
      " |-- camera: string (nullable = true)\n",
      " |-- memoryExternal: string (nullable = true)\n",
      " |-- version: string (nullable = true)\n",
      " |-- fm: string (nullable = true)\n",
      " |-- processor_idx: double (nullable = false)\n",
      " |-- processor_onehot: vector (nullable = true)\n",
      " |-- storage_idx: double (nullable = false)\n",
      " |-- storage_onehot: vector (nullable = true)\n",
      " |-- battery_idx: double (nullable = false)\n",
      " |-- battery_onehot: vector (nullable = true)\n",
      " |-- camera_idx: double (nullable = false)\n",
      " |-- camera_onehot: vector (nullable = true)\n",
      " |-- Spec Score_vector: vector (nullable = true)\n",
      " |-- Spec Score_scaled: vector (nullable = true)\n",
      " |-- rating_vector: vector (nullable = true)\n",
      " |-- rating_scaled: vector (nullable = true)\n",
      " |-- feature_vector: vector (nullable = true)\n",
      "\n"
     ]
    }
   ],
   "source": [
    "pipeline = Pipeline(stages=stages)\n",
    "\n",
    "fitted_transform = pipeline.fit(train_df)\n",
    "vtrain_df = fitted_transform.transform(train_df)\n",
    "\n",
    "vtrain_df.printSchema()"
   ]
  },
  {
   "cell_type": "code",
   "execution_count": 16,
   "id": "68e60475-f4f4-49ce-8953-848c0f4174b8",
   "metadata": {},
   "outputs": [
    {
     "name": "stdout",
     "output_type": "stream",
     "text": [
      "+--------------------+\n",
      "|      feature_vector|\n",
      "+--------------------+\n",
      "|(718,[1,207,234,4...|\n",
      "|(718,[1,207,249,4...|\n",
      "|(718,[0,210,234,5...|\n",
      "|(718,[0,207,234,5...|\n",
      "|(718,[35,209,234,...|\n",
      "+--------------------+\n",
      "only showing top 5 rows\n",
      "\n"
     ]
    }
   ],
   "source": [
    "vtrain_df.select('feature_vector').show(5)"
   ]
  },
  {
   "cell_type": "markdown",
   "id": "4f0dfc68-450e-451f-98d6-897642998408",
   "metadata": {},
   "source": [
    "# 4. 모델 만들기 및 학습"
   ]
  },
  {
   "cell_type": "markdown",
   "id": "06932d4b-ad73-4105-9503-9a0b185f965b",
   "metadata": {},
   "source": [
    "## 4-1. LinearRegression"
   ]
  },
  {
   "cell_type": "code",
   "execution_count": 17,
   "id": "b0e4007c-7b2b-468e-b459-b080f9fb1843",
   "metadata": {},
   "outputs": [],
   "source": [
    "from pyspark.ml.regression import LinearRegression"
   ]
  },
  {
   "cell_type": "code",
   "execution_count": 18,
   "id": "d48aa757-dd66-4b6e-a887-d26ad9757623",
   "metadata": {},
   "outputs": [],
   "source": [
    "lr = LinearRegression(maxIter=50, solver='normal', labelCol='price', featuresCol='feature_vector')"
   ]
  },
  {
   "cell_type": "code",
   "execution_count": 19,
   "id": "ad335e9b-06df-4dab-9e30-a6582b5cc672",
   "metadata": {},
   "outputs": [],
   "source": [
    "model = lr.fit(vtrain_df)"
   ]
  },
  {
   "cell_type": "code",
   "execution_count": 20,
   "id": "ac70f2c7-1339-4c67-8fad-056f1a5462a4",
   "metadata": {},
   "outputs": [],
   "source": [
    "vtest_df = fitted_transform.transform(test_df)\n",
    "\n",
    "pred = model.transform(vtest_df)"
   ]
  },
  {
   "cell_type": "code",
   "execution_count": 21,
   "id": "87c72c24-3904-4d15-b2d8-7b96c55736c4",
   "metadata": {},
   "outputs": [
    {
     "data": {
      "text/plain": [
       "DataFrame[Name: string, Spec Score: int, rating: double, price: int, img: string, tag: string, sim: string, processor: string, storage: string, battery: string, display: string, camera: string, memoryExternal: string, version: string, fm: string, processor_idx: double, processor_onehot: vector, storage_idx: double, storage_onehot: vector, battery_idx: double, battery_onehot: vector, camera_idx: double, camera_onehot: vector, Spec Score_vector: vector, Spec Score_scaled: vector, rating_vector: vector, rating_scaled: vector, feature_vector: vector, prediction: double]"
      ]
     },
     "execution_count": 21,
     "metadata": {},
     "output_type": "execute_result"
    }
   ],
   "source": [
    "pred.cache()"
   ]
  },
  {
   "cell_type": "code",
   "execution_count": 22,
   "id": "86503e83-514f-405a-8cab-a63e5709b611",
   "metadata": {},
   "outputs": [
    {
     "name": "stdout",
     "output_type": "stream",
     "text": [
      "+-----+------------------+\n",
      "|price|        prediction|\n",
      "+-----+------------------+\n",
      "|10999|11234.325588128015|\n",
      "|19999| 21830.60515727061|\n",
      "|43900| 43421.12665071717|\n",
      "|48900| 44643.53233537533|\n",
      "|60900| 47699.22207947068|\n",
      "+-----+------------------+\n",
      "only showing top 5 rows\n",
      "\n"
     ]
    }
   ],
   "source": [
    "pred.select('price', 'prediction').show(5)"
   ]
  },
  {
   "cell_type": "markdown",
   "id": "7a454b21-5cdc-48cf-b688-b806f4a41da7",
   "metadata": {},
   "source": [
    "## 4-2. LinearRegression 모델 평가"
   ]
  },
  {
   "cell_type": "code",
   "execution_count": 23,
   "id": "fe1feefb-a299-4520-9378-d4b46534a6bd",
   "metadata": {},
   "outputs": [
    {
     "name": "stdout",
     "output_type": "stream",
     "text": [
      "LinearRegresstion모델의 r2 : 0.9950\n",
      "LinearRegresstion모델의 RMSE : 2964.4374\n"
     ]
    }
   ],
   "source": [
    "# 훈련 데이터에 대한 요약 정보 r2 & RMSE\n",
    "lr_r2 = model.summary.r2\n",
    "lr_RMSE = model.summary.rootMeanSquaredError\n",
    "print(f'LinearRegresstion모델의 r2 : {lr_r2:.4f}')\n",
    "print(f'LinearRegresstion모델의 RMSE : {lr_RMSE:.4f}')"
   ]
  },
  {
   "cell_type": "code",
   "execution_count": 24,
   "id": "8c948580-e5e9-4e52-a09e-52a61d4d5e34",
   "metadata": {},
   "outputs": [
    {
     "name": "stdout",
     "output_type": "stream",
     "text": [
      "LinearRegresstion모델의 r2 : 0.9950\n",
      "LinearRegresstion모델의 RMSE : 2964.4374\n"
     ]
    }
   ],
   "source": [
    "# 테스트 데이터에 대한 평가 r2 & RMSE\n",
    "from pyspark.ml.evaluation import RegressionEvaluator\n",
    "\n",
    "# R-squared(결정계수) 평가\n",
    "lr_evaluator_r2 = RegressionEvaluator(\n",
    "    labelCol='price',\n",
    "    predictionCol='prediction',\n",
    "    metricName='r2'\n",
    ")\n",
    "lr_r2_score = lr_evaluator_r2.evaluate(pred)\n",
    "\n",
    "# RMSE(제곱근 평균 제곱 오차) 평가\n",
    "lr_evaluator_rmse = RegressionEvaluator(\n",
    "    labelCol='price',\n",
    "    predictionCol='prediction',\n",
    "    metricName='rmse'\n",
    ")\n",
    "lr_rmse_score = lr_evaluator_rmse.evaluate(pred)\n",
    "\n",
    "print(f'LinearRegresstion모델의 r2 : {lr_r2:.4f}')\n",
    "print(f'LinearRegresstion모델의 RMSE : {lr_RMSE:.4f}')"
   ]
  },
  {
   "cell_type": "markdown",
   "id": "dc631a98-976b-4735-84bd-1f2079257e4e",
   "metadata": {},
   "source": [
    "# 5. 결론"
   ]
  },
  {
   "cell_type": "markdown",
   "id": "e256351d-270c-49ef-b7cc-358c4e26631f",
   "metadata": {},
   "source": [
    "+ 결정계수 (R2): 0.9950\n",
    "\n",
    "+ 제곱근 평균 제곱 오차 (RMSE): 2964.44"
   ]
  },
  {
   "cell_type": "markdown",
   "id": "e9b5ddb7-ad94-4813-8fd7-f13a28a0f538",
   "metadata": {},
   "source": [
    "탐색적 데이터 분석(EDA)을 통해 얻은 인사이트를 바탕으로, 휴대폰의 사양 정보(프로세서, 저장 용량, 스펙 점수 등)가 가격에 미치는 영향을 분석하여 선형 회귀 모델을 구축했습니다.\n",
    "\n",
    "모델 평가 결과, `매우 높은 R2 값(0.9950)`과 `낮은 RMSE 값(2964.44)`을 얻었습니다. 이는 우리가 구축한 모델이 **휴대폰 가격을 정확하게 예측하는 데 매우 효과적**이라는 것을 의미합니다. <br>\n",
    "특히 Spec Score와 같은 **숫자형 특성들이 가격 예측에 결정적인 역할**을 한 것으로 분석됩니다.\n",
    "\n",
    "따라서, 이 모델은 향후 휴대폰 가격을 예측하거나, 새로운 휴대폰 모델의 가격을 책정하는 데 유용한 도구가 될 수 있습니다."
   ]
  },
  {
   "cell_type": "code",
   "execution_count": null,
   "id": "384d7d66-29ac-4a9d-ba7d-ffd929a301a6",
   "metadata": {},
   "outputs": [],
   "source": []
  },
  {
   "cell_type": "code",
   "execution_count": null,
   "id": "e4734e35-fa44-41df-bf70-24adc2579772",
   "metadata": {},
   "outputs": [],
   "source": [
    "spark.stop()"
   ]
  }
 ],
 "metadata": {
  "kernelspec": {
   "display_name": "Python 3 (ipykernel)",
   "language": "python",
   "name": "python3"
  },
  "language_info": {
   "codemirror_mode": {
    "name": "ipython",
    "version": 3
   },
   "file_extension": ".py",
   "mimetype": "text/x-python",
   "name": "python",
   "nbconvert_exporter": "python",
   "pygments_lexer": "ipython3",
   "version": "3.11.6"
  }
 },
 "nbformat": 4,
 "nbformat_minor": 5
}
