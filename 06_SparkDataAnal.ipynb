{
 "cells": [
  {
   "cell_type": "markdown",
   "id": "9aae0f57-500c-4adb-8d0d-f5722cef767e",
   "metadata": {},
   "source": [
    "#06_SparkDataAnal.ipynb\n",
    "TLC Trip Record Data\n",
    "출처: https://www.nyc.gov/site/tlc/about/tlc-trip-record-data.page"
   ]
  },
  {
   "cell_type": "code",
   "execution_count": 43,
   "id": "55f9dbf9-77ee-477b-853d-d45ed544e8b2",
   "metadata": {},
   "outputs": [],
   "source": [
    "from pyspark.sql import SparkSession\n",
    "spark = SparkSession.builder.master(\"local\").appName(\"spark-sql\").getOrCreate()"
   ]
  },
  {
   "cell_type": "code",
   "execution_count": 3,
   "id": "1aed4298-418f-4e9f-8ace-f2acbe6f4f2b",
   "metadata": {},
   "outputs": [],
   "source": [
    "# 2015-summary.json"
   ]
  },
  {
   "cell_type": "code",
   "execution_count": 4,
   "id": "777c2c32-4e07-4a21-b395-9e3e96d08a5b",
   "metadata": {},
   "outputs": [],
   "source": [
    "df = spark.read.format('json').load(\"learning_spark_data\")"
   ]
  },
  {
   "cell_type": "code",
   "execution_count": 5,
   "id": "c0804289-68fd-4a6c-89f0-05a95ce1f183",
   "metadata": {},
   "outputs": [
    {
     "data": {
      "text/plain": [
       "[('DEST_COUNTRY_NAME', 'string'),\n",
       " ('ORIGIN_COUNTRY_NAME', 'string'),\n",
       " ('_corrupt_record', 'string'),\n",
       " ('count', 'bigint')]"
      ]
     },
     "execution_count": 5,
     "metadata": {},
     "output_type": "execute_result"
    }
   ],
   "source": [
    "df.dtypes"
   ]
  },
  {
   "cell_type": "code",
   "execution_count": 6,
   "id": "54a11870-5076-4f4d-8502-3f3071771cbc",
   "metadata": {},
   "outputs": [
    {
     "name": "stdout",
     "output_type": "stream",
     "text": [
      "root\n",
      " |-- DEST_COUNTRY_NAME: string (nullable = true)\n",
      " |-- ORIGIN_COUNTRY_NAME: string (nullable = true)\n",
      " |-- _corrupt_record: string (nullable = true)\n",
      " |-- count: long (nullable = true)\n",
      "\n"
     ]
    }
   ],
   "source": [
    "df.printSchema()"
   ]
  },
  {
   "cell_type": "code",
   "execution_count": 7,
   "id": "fa3504c6-bc95-4be8-99fc-f2e78f8cfe8f",
   "metadata": {
    "collapsed": true,
    "jupyter": {
     "outputs_hidden": true
    }
   },
   "outputs": [
    {
     "data": {
      "text/plain": [
       "[Row(DEST_COUNTRY_NAME='United States', ORIGIN_COUNTRY_NAME='Romania', _corrupt_record=None, count=15),\n",
       " Row(DEST_COUNTRY_NAME='United States', ORIGIN_COUNTRY_NAME='Croatia', _corrupt_record=None, count=1),\n",
       " Row(DEST_COUNTRY_NAME='United States', ORIGIN_COUNTRY_NAME='Ireland', _corrupt_record=None, count=344),\n",
       " Row(DEST_COUNTRY_NAME='Egypt', ORIGIN_COUNTRY_NAME='United States', _corrupt_record=None, count=15),\n",
       " Row(DEST_COUNTRY_NAME='United States', ORIGIN_COUNTRY_NAME='India', _corrupt_record=None, count=62),\n",
       " Row(DEST_COUNTRY_NAME='United States', ORIGIN_COUNTRY_NAME='Singapore', _corrupt_record=None, count=1),\n",
       " Row(DEST_COUNTRY_NAME='United States', ORIGIN_COUNTRY_NAME='Grenada', _corrupt_record=None, count=62),\n",
       " Row(DEST_COUNTRY_NAME='Costa Rica', ORIGIN_COUNTRY_NAME='United States', _corrupt_record=None, count=588),\n",
       " Row(DEST_COUNTRY_NAME='Senegal', ORIGIN_COUNTRY_NAME='United States', _corrupt_record=None, count=40),\n",
       " Row(DEST_COUNTRY_NAME='Moldova', ORIGIN_COUNTRY_NAME='United States', _corrupt_record=None, count=1),\n",
       " Row(DEST_COUNTRY_NAME='United States', ORIGIN_COUNTRY_NAME='Sint Maarten', _corrupt_record=None, count=325),\n",
       " Row(DEST_COUNTRY_NAME='United States', ORIGIN_COUNTRY_NAME='Marshall Islands', _corrupt_record=None, count=39),\n",
       " Row(DEST_COUNTRY_NAME='Guyana', ORIGIN_COUNTRY_NAME='United States', _corrupt_record=None, count=64),\n",
       " Row(DEST_COUNTRY_NAME='Malta', ORIGIN_COUNTRY_NAME='United States', _corrupt_record=None, count=1),\n",
       " Row(DEST_COUNTRY_NAME='Anguilla', ORIGIN_COUNTRY_NAME='United States', _corrupt_record=None, count=41),\n",
       " Row(DEST_COUNTRY_NAME='Bolivia', ORIGIN_COUNTRY_NAME='United States', _corrupt_record=None, count=30),\n",
       " Row(DEST_COUNTRY_NAME='United States', ORIGIN_COUNTRY_NAME='Paraguay', _corrupt_record=None, count=6),\n",
       " Row(DEST_COUNTRY_NAME='Algeria', ORIGIN_COUNTRY_NAME='United States', _corrupt_record=None, count=4),\n",
       " Row(DEST_COUNTRY_NAME='Turks and Caicos Islands', ORIGIN_COUNTRY_NAME='United States', _corrupt_record=None, count=230),\n",
       " Row(DEST_COUNTRY_NAME='United States', ORIGIN_COUNTRY_NAME='Gibraltar', _corrupt_record=None, count=1),\n",
       " Row(DEST_COUNTRY_NAME='Saint Vincent and the Grenadines', ORIGIN_COUNTRY_NAME='United States', _corrupt_record=None, count=1),\n",
       " Row(DEST_COUNTRY_NAME='Italy', ORIGIN_COUNTRY_NAME='United States', _corrupt_record=None, count=382),\n",
       " Row(DEST_COUNTRY_NAME='United States', ORIGIN_COUNTRY_NAME='Federated States of Micronesia', _corrupt_record=None, count=69),\n",
       " Row(DEST_COUNTRY_NAME='United States', ORIGIN_COUNTRY_NAME='Russia', _corrupt_record=None, count=161),\n",
       " Row(DEST_COUNTRY_NAME='Pakistan', ORIGIN_COUNTRY_NAME='United States', _corrupt_record=None, count=12),\n",
       " Row(DEST_COUNTRY_NAME='United States', ORIGIN_COUNTRY_NAME='Netherlands', _corrupt_record=None, count=660),\n",
       " Row(DEST_COUNTRY_NAME='Iceland', ORIGIN_COUNTRY_NAME='United States', _corrupt_record=None, count=181),\n",
       " Row(DEST_COUNTRY_NAME='Marshall Islands', ORIGIN_COUNTRY_NAME='United States', _corrupt_record=None, count=42),\n",
       " Row(DEST_COUNTRY_NAME='Luxembourg', ORIGIN_COUNTRY_NAME='United States', _corrupt_record=None, count=155),\n",
       " Row(DEST_COUNTRY_NAME='Honduras', ORIGIN_COUNTRY_NAME='United States', _corrupt_record=None, count=362),\n",
       " Row(DEST_COUNTRY_NAME='The Bahamas', ORIGIN_COUNTRY_NAME='United States', _corrupt_record=None, count=955),\n",
       " Row(DEST_COUNTRY_NAME='United States', ORIGIN_COUNTRY_NAME='Senegal', _corrupt_record=None, count=42),\n",
       " Row(DEST_COUNTRY_NAME='El Salvador', ORIGIN_COUNTRY_NAME='United States', _corrupt_record=None, count=561),\n",
       " Row(DEST_COUNTRY_NAME='Samoa', ORIGIN_COUNTRY_NAME='United States', _corrupt_record=None, count=25),\n",
       " Row(DEST_COUNTRY_NAME='United States', ORIGIN_COUNTRY_NAME='Angola', _corrupt_record=None, count=13),\n",
       " Row(DEST_COUNTRY_NAME='Switzerland', ORIGIN_COUNTRY_NAME='United States', _corrupt_record=None, count=294),\n",
       " Row(DEST_COUNTRY_NAME='United States', ORIGIN_COUNTRY_NAME='Anguilla', _corrupt_record=None, count=38),\n",
       " Row(DEST_COUNTRY_NAME='Sint Maarten', ORIGIN_COUNTRY_NAME='United States', _corrupt_record=None, count=325),\n",
       " Row(DEST_COUNTRY_NAME='Hong Kong', ORIGIN_COUNTRY_NAME='United States', _corrupt_record=None, count=332),\n",
       " Row(DEST_COUNTRY_NAME='Trinidad and Tobago', ORIGIN_COUNTRY_NAME='United States', _corrupt_record=None, count=211),\n",
       " Row(DEST_COUNTRY_NAME='Latvia', ORIGIN_COUNTRY_NAME='United States', _corrupt_record=None, count=19),\n",
       " Row(DEST_COUNTRY_NAME='United States', ORIGIN_COUNTRY_NAME='Ecuador', _corrupt_record=None, count=300),\n",
       " Row(DEST_COUNTRY_NAME='Suriname', ORIGIN_COUNTRY_NAME='United States', _corrupt_record=None, count=1),\n",
       " Row(DEST_COUNTRY_NAME='Mexico', ORIGIN_COUNTRY_NAME='United States', _corrupt_record=None, count=7140),\n",
       " Row(DEST_COUNTRY_NAME='United States', ORIGIN_COUNTRY_NAME='Cyprus', _corrupt_record=None, count=1),\n",
       " Row(DEST_COUNTRY_NAME='Ecuador', ORIGIN_COUNTRY_NAME='United States', _corrupt_record=None, count=268),\n",
       " Row(DEST_COUNTRY_NAME='United States', ORIGIN_COUNTRY_NAME='Portugal', _corrupt_record=None, count=134),\n",
       " Row(DEST_COUNTRY_NAME='United States', ORIGIN_COUNTRY_NAME='Costa Rica', _corrupt_record=None, count=608),\n",
       " Row(DEST_COUNTRY_NAME='United States', ORIGIN_COUNTRY_NAME='Guatemala', _corrupt_record=None, count=318),\n",
       " Row(DEST_COUNTRY_NAME='United States', ORIGIN_COUNTRY_NAME='Suriname', _corrupt_record=None, count=34),\n",
       " Row(DEST_COUNTRY_NAME='Colombia', ORIGIN_COUNTRY_NAME='United States', _corrupt_record=None, count=873),\n",
       " Row(DEST_COUNTRY_NAME='United States', ORIGIN_COUNTRY_NAME='Cape Verde', _corrupt_record=None, count=14),\n",
       " Row(DEST_COUNTRY_NAME='United States', ORIGIN_COUNTRY_NAME='Jamaica', _corrupt_record=None, count=712),\n",
       " Row(DEST_COUNTRY_NAME='Norway', ORIGIN_COUNTRY_NAME='United States', _corrupt_record=None, count=121),\n",
       " Row(DEST_COUNTRY_NAME='United States', ORIGIN_COUNTRY_NAME='Malaysia', _corrupt_record=None, count=3),\n",
       " Row(DEST_COUNTRY_NAME='United States', ORIGIN_COUNTRY_NAME='Morocco', _corrupt_record=None, count=19),\n",
       " Row(DEST_COUNTRY_NAME='Thailand', ORIGIN_COUNTRY_NAME='United States', _corrupt_record=None, count=3),\n",
       " Row(DEST_COUNTRY_NAME='United States', ORIGIN_COUNTRY_NAME='Samoa', _corrupt_record=None, count=25),\n",
       " Row(DEST_COUNTRY_NAME='Venezuela', ORIGIN_COUNTRY_NAME='United States', _corrupt_record=None, count=290),\n",
       " Row(DEST_COUNTRY_NAME='United States', ORIGIN_COUNTRY_NAME='Palau', _corrupt_record=None, count=31),\n",
       " Row(DEST_COUNTRY_NAME='United States', ORIGIN_COUNTRY_NAME='Venezuela', _corrupt_record=None, count=246),\n",
       " Row(DEST_COUNTRY_NAME='Panama', ORIGIN_COUNTRY_NAME='United States', _corrupt_record=None, count=510),\n",
       " Row(DEST_COUNTRY_NAME='Antigua and Barbuda', ORIGIN_COUNTRY_NAME='United States', _corrupt_record=None, count=126),\n",
       " Row(DEST_COUNTRY_NAME='United States', ORIGIN_COUNTRY_NAME='Chile', _corrupt_record=None, count=185),\n",
       " Row(DEST_COUNTRY_NAME='Morocco', ORIGIN_COUNTRY_NAME='United States', _corrupt_record=None, count=15),\n",
       " Row(DEST_COUNTRY_NAME='United States', ORIGIN_COUNTRY_NAME='Finland', _corrupt_record=None, count=28),\n",
       " Row(DEST_COUNTRY_NAME='Azerbaijan', ORIGIN_COUNTRY_NAME='United States', _corrupt_record=None, count=21),\n",
       " Row(DEST_COUNTRY_NAME='United States', ORIGIN_COUNTRY_NAME='Greece', _corrupt_record=None, count=23),\n",
       " Row(DEST_COUNTRY_NAME='United States', ORIGIN_COUNTRY_NAME='The Bahamas', _corrupt_record=None, count=986),\n",
       " Row(DEST_COUNTRY_NAME='New Zealand', ORIGIN_COUNTRY_NAME='United States', _corrupt_record=None, count=111),\n",
       " Row(DEST_COUNTRY_NAME='Liberia', ORIGIN_COUNTRY_NAME='United States', _corrupt_record=None, count=2),\n",
       " Row(DEST_COUNTRY_NAME='United States', ORIGIN_COUNTRY_NAME='Hong Kong', _corrupt_record=None, count=414),\n",
       " Row(DEST_COUNTRY_NAME='Hungary', ORIGIN_COUNTRY_NAME='United States', _corrupt_record=None, count=2),\n",
       " Row(DEST_COUNTRY_NAME='United States', ORIGIN_COUNTRY_NAME='China', _corrupt_record=None, count=920),\n",
       " Row(DEST_COUNTRY_NAME='United States', ORIGIN_COUNTRY_NAME='Vietnam', _corrupt_record=None, count=2),\n",
       " Row(DEST_COUNTRY_NAME='Burkina Faso', ORIGIN_COUNTRY_NAME='United States', _corrupt_record=None, count=1),\n",
       " Row(DEST_COUNTRY_NAME='Sweden', ORIGIN_COUNTRY_NAME='United States', _corrupt_record=None, count=118),\n",
       " Row(DEST_COUNTRY_NAME='United States', ORIGIN_COUNTRY_NAME='Kuwait', _corrupt_record=None, count=28),\n",
       " Row(DEST_COUNTRY_NAME='United States', ORIGIN_COUNTRY_NAME='Dominican Republic', _corrupt_record=None, count=1420),\n",
       " Row(DEST_COUNTRY_NAME='United States', ORIGIN_COUNTRY_NAME='Egypt', _corrupt_record=None, count=12),\n",
       " Row(DEST_COUNTRY_NAME='Israel', ORIGIN_COUNTRY_NAME='United States', _corrupt_record=None, count=134),\n",
       " Row(DEST_COUNTRY_NAME='United States', ORIGIN_COUNTRY_NAME='United States', _corrupt_record=None, count=370002),\n",
       " Row(DEST_COUNTRY_NAME='Ethiopia', ORIGIN_COUNTRY_NAME='United States', _corrupt_record=None, count=13),\n",
       " Row(DEST_COUNTRY_NAME='United States', ORIGIN_COUNTRY_NAME='Luxembourg', _corrupt_record=None, count=134),\n",
       " Row(DEST_COUNTRY_NAME='United States', ORIGIN_COUNTRY_NAME='Poland', _corrupt_record=None, count=33),\n",
       " Row(DEST_COUNTRY_NAME='Martinique', ORIGIN_COUNTRY_NAME='United States', _corrupt_record=None, count=44),\n",
       " Row(DEST_COUNTRY_NAME='United States', ORIGIN_COUNTRY_NAME='Saint Barthelemy', _corrupt_record=None, count=41),\n",
       " Row(DEST_COUNTRY_NAME='Saint Barthelemy', ORIGIN_COUNTRY_NAME='United States', _corrupt_record=None, count=39),\n",
       " Row(DEST_COUNTRY_NAME='Barbados', ORIGIN_COUNTRY_NAME='United States', _corrupt_record=None, count=154),\n",
       " Row(DEST_COUNTRY_NAME='United States', ORIGIN_COUNTRY_NAME='Turkey', _corrupt_record=None, count=129),\n",
       " Row(DEST_COUNTRY_NAME='Djibouti', ORIGIN_COUNTRY_NAME='United States', _corrupt_record=None, count=1),\n",
       " Row(DEST_COUNTRY_NAME='United States', ORIGIN_COUNTRY_NAME='Azerbaijan', _corrupt_record=None, count=21),\n",
       " Row(DEST_COUNTRY_NAME='United States', ORIGIN_COUNTRY_NAME='Estonia', _corrupt_record=None, count=1),\n",
       " Row(DEST_COUNTRY_NAME='Germany', ORIGIN_COUNTRY_NAME='United States', _corrupt_record=None, count=1468),\n",
       " Row(DEST_COUNTRY_NAME='United States', ORIGIN_COUNTRY_NAME='South Korea', _corrupt_record=None, count=827),\n",
       " Row(DEST_COUNTRY_NAME='United States', ORIGIN_COUNTRY_NAME='El Salvador', _corrupt_record=None, count=508),\n",
       " Row(DEST_COUNTRY_NAME='Ireland', ORIGIN_COUNTRY_NAME='United States', _corrupt_record=None, count=335),\n",
       " Row(DEST_COUNTRY_NAME='United States', ORIGIN_COUNTRY_NAME='Hungary', _corrupt_record=None, count=3),\n",
       " Row(DEST_COUNTRY_NAME='Zambia', ORIGIN_COUNTRY_NAME='United States', _corrupt_record=None, count=1),\n",
       " Row(DEST_COUNTRY_NAME='Malaysia', ORIGIN_COUNTRY_NAME='United States', _corrupt_record=None, count=2),\n",
       " Row(DEST_COUNTRY_NAME='United States', ORIGIN_COUNTRY_NAME='Ethiopia', _corrupt_record=None, count=12),\n",
       " Row(DEST_COUNTRY_NAME='United States', ORIGIN_COUNTRY_NAME='Panama', _corrupt_record=None, count=465),\n",
       " Row(DEST_COUNTRY_NAME='United States', ORIGIN_COUNTRY_NAME='Aruba', _corrupt_record=None, count=342),\n",
       " Row(DEST_COUNTRY_NAME='United States', ORIGIN_COUNTRY_NAME='Thailand', _corrupt_record=None, count=4),\n",
       " Row(DEST_COUNTRY_NAME='United States', ORIGIN_COUNTRY_NAME='Turks and Caicos Islands', _corrupt_record=None, count=236),\n",
       " Row(DEST_COUNTRY_NAME='Croatia', ORIGIN_COUNTRY_NAME='United States', _corrupt_record=None, count=2),\n",
       " Row(DEST_COUNTRY_NAME='United States', ORIGIN_COUNTRY_NAME='Pakistan', _corrupt_record=None, count=12),\n",
       " Row(DEST_COUNTRY_NAME='Cyprus', ORIGIN_COUNTRY_NAME='United States', _corrupt_record=None, count=1),\n",
       " Row(DEST_COUNTRY_NAME='United States', ORIGIN_COUNTRY_NAME='Honduras', _corrupt_record=None, count=407),\n",
       " Row(DEST_COUNTRY_NAME='Fiji', ORIGIN_COUNTRY_NAME='United States', _corrupt_record=None, count=24),\n",
       " Row(DEST_COUNTRY_NAME='Qatar', ORIGIN_COUNTRY_NAME='United States', _corrupt_record=None, count=108),\n",
       " Row(DEST_COUNTRY_NAME='Saint Kitts and Nevis', ORIGIN_COUNTRY_NAME='United States', _corrupt_record=None, count=139),\n",
       " Row(DEST_COUNTRY_NAME='Kuwait', ORIGIN_COUNTRY_NAME='United States', _corrupt_record=None, count=32),\n",
       " Row(DEST_COUNTRY_NAME='Taiwan', ORIGIN_COUNTRY_NAME='United States', _corrupt_record=None, count=266),\n",
       " Row(DEST_COUNTRY_NAME='Haiti', ORIGIN_COUNTRY_NAME='United States', _corrupt_record=None, count=226),\n",
       " Row(DEST_COUNTRY_NAME='Canada', ORIGIN_COUNTRY_NAME='United States', _corrupt_record=None, count=8399),\n",
       " Row(DEST_COUNTRY_NAME='Federated States of Micronesia', ORIGIN_COUNTRY_NAME='United States', _corrupt_record=None, count=69),\n",
       " Row(DEST_COUNTRY_NAME='United States', ORIGIN_COUNTRY_NAME='Liberia', _corrupt_record=None, count=2),\n",
       " Row(DEST_COUNTRY_NAME='Jamaica', ORIGIN_COUNTRY_NAME='United States', _corrupt_record=None, count=666),\n",
       " Row(DEST_COUNTRY_NAME='United States', ORIGIN_COUNTRY_NAME='Malta', _corrupt_record=None, count=2),\n",
       " Row(DEST_COUNTRY_NAME='Dominican Republic', ORIGIN_COUNTRY_NAME='United States', _corrupt_record=None, count=1353),\n",
       " Row(DEST_COUNTRY_NAME='Japan', ORIGIN_COUNTRY_NAME='United States', _corrupt_record=None, count=1548),\n",
       " Row(DEST_COUNTRY_NAME='United States', ORIGIN_COUNTRY_NAME='Lithuania', _corrupt_record=None, count=1),\n",
       " Row(DEST_COUNTRY_NAME='Finland', ORIGIN_COUNTRY_NAME='United States', _corrupt_record=None, count=26),\n",
       " Row(DEST_COUNTRY_NAME='United States', ORIGIN_COUNTRY_NAME='Guadeloupe', _corrupt_record=None, count=59),\n",
       " Row(DEST_COUNTRY_NAME='United States', ORIGIN_COUNTRY_NAME='Ukraine', _corrupt_record=None, count=13),\n",
       " Row(DEST_COUNTRY_NAME='United States', ORIGIN_COUNTRY_NAME='France', _corrupt_record=None, count=952),\n",
       " Row(DEST_COUNTRY_NAME='United States', ORIGIN_COUNTRY_NAME='Norway', _corrupt_record=None, count=115),\n",
       " Row(DEST_COUNTRY_NAME='Aruba', ORIGIN_COUNTRY_NAME='United States', _corrupt_record=None, count=346),\n",
       " Row(DEST_COUNTRY_NAME='French Guiana', ORIGIN_COUNTRY_NAME='United States', _corrupt_record=None, count=5),\n",
       " Row(DEST_COUNTRY_NAME='United States', ORIGIN_COUNTRY_NAME='Kiribati', _corrupt_record=None, count=35),\n",
       " Row(DEST_COUNTRY_NAME='India', ORIGIN_COUNTRY_NAME='United States', _corrupt_record=None, count=61),\n",
       " Row(DEST_COUNTRY_NAME='British Virgin Islands', ORIGIN_COUNTRY_NAME='United States', _corrupt_record=None, count=107),\n",
       " Row(DEST_COUNTRY_NAME='Brazil', ORIGIN_COUNTRY_NAME='United States', _corrupt_record=None, count=853),\n",
       " Row(DEST_COUNTRY_NAME='United States', ORIGIN_COUNTRY_NAME='Germany', _corrupt_record=None, count=1336),\n",
       " Row(DEST_COUNTRY_NAME='United States', ORIGIN_COUNTRY_NAME='New Zealand', _corrupt_record=None, count=74),\n",
       " Row(DEST_COUNTRY_NAME='French Polynesia', ORIGIN_COUNTRY_NAME='United States', _corrupt_record=None, count=43),\n",
       " Row(DEST_COUNTRY_NAME='United Arab Emirates', ORIGIN_COUNTRY_NAME='United States', _corrupt_record=None, count=320),\n",
       " Row(DEST_COUNTRY_NAME='Singapore', ORIGIN_COUNTRY_NAME='United States', _corrupt_record=None, count=3),\n",
       " Row(DEST_COUNTRY_NAME='United States', ORIGIN_COUNTRY_NAME='Mexico', _corrupt_record=None, count=7187),\n",
       " Row(DEST_COUNTRY_NAME='United States', ORIGIN_COUNTRY_NAME='Sweden', _corrupt_record=None, count=119),\n",
       " Row(DEST_COUNTRY_NAME='Netherlands', ORIGIN_COUNTRY_NAME='United States', _corrupt_record=None, count=776),\n",
       " Row(DEST_COUNTRY_NAME='United States', ORIGIN_COUNTRY_NAME='Martinique', _corrupt_record=None, count=43),\n",
       " Row(DEST_COUNTRY_NAME='United States', ORIGIN_COUNTRY_NAME='United Arab Emirates', _corrupt_record=None, count=313),\n",
       " Row(DEST_COUNTRY_NAME='United States', ORIGIN_COUNTRY_NAME='Bulgaria', _corrupt_record=None, count=1),\n",
       " Row(DEST_COUNTRY_NAME='Denmark', ORIGIN_COUNTRY_NAME='United States', _corrupt_record=None, count=153),\n",
       " Row(DEST_COUNTRY_NAME='China', ORIGIN_COUNTRY_NAME='United States', _corrupt_record=None, count=772),\n",
       " Row(DEST_COUNTRY_NAME='United States', ORIGIN_COUNTRY_NAME='Nicaragua', _corrupt_record=None, count=201),\n",
       " Row(DEST_COUNTRY_NAME='United States', ORIGIN_COUNTRY_NAME='Philippines', _corrupt_record=None, count=126),\n",
       " Row(DEST_COUNTRY_NAME='United States', ORIGIN_COUNTRY_NAME='Georgia', _corrupt_record=None, count=1),\n",
       " Row(DEST_COUNTRY_NAME='United States', ORIGIN_COUNTRY_NAME='Belgium', _corrupt_record=None, count=228),\n",
       " Row(DEST_COUNTRY_NAME='Cayman Islands', ORIGIN_COUNTRY_NAME='United States', _corrupt_record=None, count=314),\n",
       " Row(DEST_COUNTRY_NAME='Argentina', ORIGIN_COUNTRY_NAME='United States', _corrupt_record=None, count=180),\n",
       " Row(DEST_COUNTRY_NAME='Peru', ORIGIN_COUNTRY_NAME='United States', _corrupt_record=None, count=279),\n",
       " Row(DEST_COUNTRY_NAME='South Africa', ORIGIN_COUNTRY_NAME='United States', _corrupt_record=None, count=36),\n",
       " Row(DEST_COUNTRY_NAME='United States', ORIGIN_COUNTRY_NAME='Iceland', _corrupt_record=None, count=202),\n",
       " Row(DEST_COUNTRY_NAME='United States', ORIGIN_COUNTRY_NAME='Argentina', _corrupt_record=None, count=141),\n",
       " Row(DEST_COUNTRY_NAME='Spain', ORIGIN_COUNTRY_NAME='United States', _corrupt_record=None, count=420),\n",
       " Row(DEST_COUNTRY_NAME='Bermuda', ORIGIN_COUNTRY_NAME='United States', _corrupt_record=None, count=183),\n",
       " Row(DEST_COUNTRY_NAME='United States', ORIGIN_COUNTRY_NAME='Nigeria', _corrupt_record=None, count=50),\n",
       " Row(DEST_COUNTRY_NAME='United States', ORIGIN_COUNTRY_NAME='Austria', _corrupt_record=None, count=63),\n",
       " Row(DEST_COUNTRY_NAME='United States', ORIGIN_COUNTRY_NAME='Bonaire, Sint Eustatius, and Saba', _corrupt_record=None, count=59),\n",
       " Row(DEST_COUNTRY_NAME='Kiribati', ORIGIN_COUNTRY_NAME='United States', _corrupt_record=None, count=26),\n",
       " Row(DEST_COUNTRY_NAME='Saudi Arabia', ORIGIN_COUNTRY_NAME='United States', _corrupt_record=None, count=83),\n",
       " Row(DEST_COUNTRY_NAME='Czech Republic', ORIGIN_COUNTRY_NAME='United States', _corrupt_record=None, count=13),\n",
       " Row(DEST_COUNTRY_NAME='United States', ORIGIN_COUNTRY_NAME='Israel', _corrupt_record=None, count=127),\n",
       " Row(DEST_COUNTRY_NAME='Belgium', ORIGIN_COUNTRY_NAME='United States', _corrupt_record=None, count=259),\n",
       " Row(DEST_COUNTRY_NAME='United States', ORIGIN_COUNTRY_NAME='Saint Lucia', _corrupt_record=None, count=136),\n",
       " Row(DEST_COUNTRY_NAME='United States', ORIGIN_COUNTRY_NAME='Bahrain', _corrupt_record=None, count=1),\n",
       " Row(DEST_COUNTRY_NAME='United States', ORIGIN_COUNTRY_NAME='British Virgin Islands', _corrupt_record=None, count=80),\n",
       " Row(DEST_COUNTRY_NAME='Curacao', ORIGIN_COUNTRY_NAME='United States', _corrupt_record=None, count=90),\n",
       " Row(DEST_COUNTRY_NAME='Georgia', ORIGIN_COUNTRY_NAME='United States', _corrupt_record=None, count=2),\n",
       " Row(DEST_COUNTRY_NAME='United States', ORIGIN_COUNTRY_NAME='Denmark', _corrupt_record=None, count=152),\n",
       " Row(DEST_COUNTRY_NAME='United States', ORIGIN_COUNTRY_NAME='Guyana', _corrupt_record=None, count=63),\n",
       " Row(DEST_COUNTRY_NAME='Philippines', ORIGIN_COUNTRY_NAME='United States', _corrupt_record=None, count=134),\n",
       " Row(DEST_COUNTRY_NAME='Grenada', ORIGIN_COUNTRY_NAME='United States', _corrupt_record=None, count=53),\n",
       " Row(DEST_COUNTRY_NAME='Cape Verde', ORIGIN_COUNTRY_NAME='United States', _corrupt_record=None, count=20),\n",
       " Row(DEST_COUNTRY_NAME=\"Cote d'Ivoire\", ORIGIN_COUNTRY_NAME='United States', _corrupt_record=None, count=1),\n",
       " Row(DEST_COUNTRY_NAME='Ukraine', ORIGIN_COUNTRY_NAME='United States', _corrupt_record=None, count=14),\n",
       " Row(DEST_COUNTRY_NAME='United States', ORIGIN_COUNTRY_NAME='Papua New Guinea', _corrupt_record=None, count=1),\n",
       " Row(DEST_COUNTRY_NAME='Russia', ORIGIN_COUNTRY_NAME='United States', _corrupt_record=None, count=176),\n",
       " Row(DEST_COUNTRY_NAME='United States', ORIGIN_COUNTRY_NAME='Saudi Arabia', _corrupt_record=None, count=70),\n",
       " Row(DEST_COUNTRY_NAME='Guatemala', ORIGIN_COUNTRY_NAME='United States', _corrupt_record=None, count=397),\n",
       " Row(DEST_COUNTRY_NAME='Saint Lucia', ORIGIN_COUNTRY_NAME='United States', _corrupt_record=None, count=123),\n",
       " Row(DEST_COUNTRY_NAME='Paraguay', ORIGIN_COUNTRY_NAME='United States', _corrupt_record=None, count=60),\n",
       " Row(DEST_COUNTRY_NAME='United States', ORIGIN_COUNTRY_NAME='Curacao', _corrupt_record=None, count=83),\n",
       " Row(DEST_COUNTRY_NAME='Kosovo', ORIGIN_COUNTRY_NAME='United States', _corrupt_record=None, count=1),\n",
       " Row(DEST_COUNTRY_NAME='United States', ORIGIN_COUNTRY_NAME='Taiwan', _corrupt_record=None, count=235),\n",
       " Row(DEST_COUNTRY_NAME='Tunisia', ORIGIN_COUNTRY_NAME='United States', _corrupt_record=None, count=3),\n",
       " Row(DEST_COUNTRY_NAME='United States', ORIGIN_COUNTRY_NAME='South Africa', _corrupt_record=None, count=40),\n",
       " Row(DEST_COUNTRY_NAME='Niger', ORIGIN_COUNTRY_NAME='United States', _corrupt_record=None, count=2),\n",
       " Row(DEST_COUNTRY_NAME='Turkey', ORIGIN_COUNTRY_NAME='United States', _corrupt_record=None, count=138),\n",
       " Row(DEST_COUNTRY_NAME='United Kingdom', ORIGIN_COUNTRY_NAME='United States', _corrupt_record=None, count=2025),\n",
       " Row(DEST_COUNTRY_NAME='Romania', ORIGIN_COUNTRY_NAME='United States', _corrupt_record=None, count=14),\n",
       " Row(DEST_COUNTRY_NAME='United States', ORIGIN_COUNTRY_NAME='Greenland', _corrupt_record=None, count=4),\n",
       " Row(DEST_COUNTRY_NAME='Papua New Guinea', ORIGIN_COUNTRY_NAME='United States', _corrupt_record=None, count=3),\n",
       " Row(DEST_COUNTRY_NAME='United States', ORIGIN_COUNTRY_NAME='Spain', _corrupt_record=None, count=442),\n",
       " Row(DEST_COUNTRY_NAME='Iraq', ORIGIN_COUNTRY_NAME='United States', _corrupt_record=None, count=1),\n",
       " Row(DEST_COUNTRY_NAME='United States', ORIGIN_COUNTRY_NAME='Italy', _corrupt_record=None, count=438),\n",
       " Row(DEST_COUNTRY_NAME='Cuba', ORIGIN_COUNTRY_NAME='United States', _corrupt_record=None, count=466),\n",
       " Row(DEST_COUNTRY_NAME='United States', ORIGIN_COUNTRY_NAME='Switzerland', _corrupt_record=None, count=305),\n",
       " Row(DEST_COUNTRY_NAME='Dominica', ORIGIN_COUNTRY_NAME='United States', _corrupt_record=None, count=20),\n",
       " Row(DEST_COUNTRY_NAME='United States', ORIGIN_COUNTRY_NAME='Japan', _corrupt_record=None, count=1496),\n",
       " Row(DEST_COUNTRY_NAME='Portugal', ORIGIN_COUNTRY_NAME='United States', _corrupt_record=None, count=127),\n",
       " Row(DEST_COUNTRY_NAME='United States', ORIGIN_COUNTRY_NAME='Brazil', _corrupt_record=None, count=619),\n",
       " Row(DEST_COUNTRY_NAME='Bahrain', ORIGIN_COUNTRY_NAME='United States', _corrupt_record=None, count=19),\n",
       " Row(DEST_COUNTRY_NAME='United States', ORIGIN_COUNTRY_NAME='Peru', _corrupt_record=None, count=337),\n",
       " Row(DEST_COUNTRY_NAME='Indonesia', ORIGIN_COUNTRY_NAME='United States', _corrupt_record=None, count=1),\n",
       " Row(DEST_COUNTRY_NAME='United States', ORIGIN_COUNTRY_NAME='Belize', _corrupt_record=None, count=193),\n",
       " Row(DEST_COUNTRY_NAME='United States', ORIGIN_COUNTRY_NAME='United Kingdom', _corrupt_record=None, count=1970),\n",
       " Row(DEST_COUNTRY_NAME='Belize', ORIGIN_COUNTRY_NAME='United States', _corrupt_record=None, count=188),\n",
       " Row(DEST_COUNTRY_NAME='United States', ORIGIN_COUNTRY_NAME='Ghana', _corrupt_record=None, count=20),\n",
       " Row(DEST_COUNTRY_NAME='United States', ORIGIN_COUNTRY_NAME='Indonesia', _corrupt_record=None, count=2),\n",
       " Row(DEST_COUNTRY_NAME='United States', ORIGIN_COUNTRY_NAME='Fiji', _corrupt_record=None, count=25),\n",
       " Row(DEST_COUNTRY_NAME='United States', ORIGIN_COUNTRY_NAME='Canada', _corrupt_record=None, count=8483),\n",
       " Row(DEST_COUNTRY_NAME='United States', ORIGIN_COUNTRY_NAME='Antigua and Barbuda', _corrupt_record=None, count=117),\n",
       " Row(DEST_COUNTRY_NAME='United States', ORIGIN_COUNTRY_NAME='French Polynesia', _corrupt_record=None, count=40),\n",
       " Row(DEST_COUNTRY_NAME='Nicaragua', ORIGIN_COUNTRY_NAME='United States', _corrupt_record=None, count=179),\n",
       " Row(DEST_COUNTRY_NAME='United States', ORIGIN_COUNTRY_NAME='Latvia', _corrupt_record=None, count=15),\n",
       " Row(DEST_COUNTRY_NAME='United States', ORIGIN_COUNTRY_NAME='Dominica', _corrupt_record=None, count=27),\n",
       " Row(DEST_COUNTRY_NAME='United States', ORIGIN_COUNTRY_NAME='Czech Republic', _corrupt_record=None, count=12),\n",
       " Row(DEST_COUNTRY_NAME='United States', ORIGIN_COUNTRY_NAME='Australia', _corrupt_record=None, count=258),\n",
       " Row(DEST_COUNTRY_NAME='United States', ORIGIN_COUNTRY_NAME='Cook Islands', _corrupt_record=None, count=13),\n",
       " Row(DEST_COUNTRY_NAME='Austria', ORIGIN_COUNTRY_NAME='United States', _corrupt_record=None, count=62),\n",
       " Row(DEST_COUNTRY_NAME='Jordan', ORIGIN_COUNTRY_NAME='United States', _corrupt_record=None, count=44),\n",
       " Row(DEST_COUNTRY_NAME='Palau', ORIGIN_COUNTRY_NAME='United States', _corrupt_record=None, count=30),\n",
       " Row(DEST_COUNTRY_NAME='South Korea', ORIGIN_COUNTRY_NAME='United States', _corrupt_record=None, count=1048),\n",
       " Row(DEST_COUNTRY_NAME='Angola', ORIGIN_COUNTRY_NAME='United States', _corrupt_record=None, count=15),\n",
       " Row(DEST_COUNTRY_NAME='Ghana', ORIGIN_COUNTRY_NAME='United States', _corrupt_record=None, count=18),\n",
       " Row(DEST_COUNTRY_NAME='New Caledonia', ORIGIN_COUNTRY_NAME='United States', _corrupt_record=None, count=1),\n",
       " Row(DEST_COUNTRY_NAME='Guadeloupe', ORIGIN_COUNTRY_NAME='United States', _corrupt_record=None, count=56),\n",
       " Row(DEST_COUNTRY_NAME='France', ORIGIN_COUNTRY_NAME='United States', _corrupt_record=None, count=935),\n",
       " Row(DEST_COUNTRY_NAME='Poland', ORIGIN_COUNTRY_NAME='United States', _corrupt_record=None, count=32),\n",
       " Row(DEST_COUNTRY_NAME='Nigeria', ORIGIN_COUNTRY_NAME='United States', _corrupt_record=None, count=59),\n",
       " Row(DEST_COUNTRY_NAME='United States', ORIGIN_COUNTRY_NAME='Uruguay', _corrupt_record=None, count=13),\n",
       " Row(DEST_COUNTRY_NAME='Greenland', ORIGIN_COUNTRY_NAME='United States', _corrupt_record=None, count=2),\n",
       " Row(DEST_COUNTRY_NAME='United States', ORIGIN_COUNTRY_NAME='Bermuda', _corrupt_record=None, count=193),\n",
       " Row(DEST_COUNTRY_NAME='Chile', ORIGIN_COUNTRY_NAME='United States', _corrupt_record=None, count=174),\n",
       " Row(DEST_COUNTRY_NAME='United States', ORIGIN_COUNTRY_NAME='Cuba', _corrupt_record=None, count=478),\n",
       " Row(DEST_COUNTRY_NAME='United States', ORIGIN_COUNTRY_NAME='Montenegro', _corrupt_record=None, count=1),\n",
       " Row(DEST_COUNTRY_NAME='United States', ORIGIN_COUNTRY_NAME='Colombia', _corrupt_record=None, count=867),\n",
       " Row(DEST_COUNTRY_NAME='United States', ORIGIN_COUNTRY_NAME='Barbados', _corrupt_record=None, count=130),\n",
       " Row(DEST_COUNTRY_NAME='United States', ORIGIN_COUNTRY_NAME='Qatar', _corrupt_record=None, count=109),\n",
       " Row(DEST_COUNTRY_NAME='Australia', ORIGIN_COUNTRY_NAME='United States', _corrupt_record=None, count=329),\n",
       " Row(DEST_COUNTRY_NAME='United States', ORIGIN_COUNTRY_NAME='Cayman Islands', _corrupt_record=None, count=310),\n",
       " Row(DEST_COUNTRY_NAME='United States', ORIGIN_COUNTRY_NAME='Jordan', _corrupt_record=None, count=44),\n",
       " Row(DEST_COUNTRY_NAME='United States', ORIGIN_COUNTRY_NAME='Namibia', _corrupt_record=None, count=1),\n",
       " Row(DEST_COUNTRY_NAME='United States', ORIGIN_COUNTRY_NAME='Trinidad and Tobago', _corrupt_record=None, count=217),\n",
       " Row(DEST_COUNTRY_NAME='United States', ORIGIN_COUNTRY_NAME='Bolivia', _corrupt_record=None, count=13),\n",
       " Row(DEST_COUNTRY_NAME='Cook Islands', ORIGIN_COUNTRY_NAME='United States', _corrupt_record=None, count=13),\n",
       " Row(DEST_COUNTRY_NAME='Bulgaria', ORIGIN_COUNTRY_NAME='United States', _corrupt_record=None, count=3),\n",
       " Row(DEST_COUNTRY_NAME='United States', ORIGIN_COUNTRY_NAME='Saint Kitts and Nevis', _corrupt_record=None, count=145),\n",
       " Row(DEST_COUNTRY_NAME='Uruguay', ORIGIN_COUNTRY_NAME='United States', _corrupt_record=None, count=43),\n",
       " Row(DEST_COUNTRY_NAME='United States', ORIGIN_COUNTRY_NAME='Haiti', _corrupt_record=None, count=225),\n",
       " Row(DEST_COUNTRY_NAME='Bonaire, Sint Eustatius, and Saba', ORIGIN_COUNTRY_NAME='United States', _corrupt_record=None, count=58),\n",
       " Row(DEST_COUNTRY_NAME='Greece', ORIGIN_COUNTRY_NAME='United States', _corrupt_record=None, count=30),\n",
       " Row(DEST_COUNTRY_NAME=None, ORIGIN_COUNTRY_NAME=None, _corrupt_record='\"LocationID\",\"Borough\",\"Zone\",\"service_zone\"', count=None),\n",
       " Row(DEST_COUNTRY_NAME=None, ORIGIN_COUNTRY_NAME=None, _corrupt_record='1,\"EWR\",\"Newark Airport\",\"EWR\"', count=None),\n",
       " Row(DEST_COUNTRY_NAME=None, ORIGIN_COUNTRY_NAME=None, _corrupt_record='2,\"Queens\",\"Jamaica Bay\",\"Boro Zone\"', count=None),\n",
       " Row(DEST_COUNTRY_NAME=None, ORIGIN_COUNTRY_NAME=None, _corrupt_record='3,\"Bronx\",\"Allerton/Pelham Gardens\",\"Boro Zone\"', count=None),\n",
       " Row(DEST_COUNTRY_NAME=None, ORIGIN_COUNTRY_NAME=None, _corrupt_record='4,\"Manhattan\",\"Alphabet City\",\"Yellow Zone\"', count=None),\n",
       " Row(DEST_COUNTRY_NAME=None, ORIGIN_COUNTRY_NAME=None, _corrupt_record='5,\"Staten Island\",\"Arden Heights\",\"Boro Zone\"', count=None),\n",
       " Row(DEST_COUNTRY_NAME=None, ORIGIN_COUNTRY_NAME=None, _corrupt_record='6,\"Staten Island\",\"Arrochar/Fort Wadsworth\",\"Boro Zone\"', count=None),\n",
       " Row(DEST_COUNTRY_NAME=None, ORIGIN_COUNTRY_NAME=None, _corrupt_record='7,\"Queens\",\"Astoria\",\"Boro Zone\"', count=None),\n",
       " Row(DEST_COUNTRY_NAME=None, ORIGIN_COUNTRY_NAME=None, _corrupt_record='8,\"Queens\",\"Astoria Park\",\"Boro Zone\"', count=None),\n",
       " Row(DEST_COUNTRY_NAME=None, ORIGIN_COUNTRY_NAME=None, _corrupt_record='9,\"Queens\",\"Auburndale\",\"Boro Zone\"', count=None),\n",
       " Row(DEST_COUNTRY_NAME=None, ORIGIN_COUNTRY_NAME=None, _corrupt_record='10,\"Queens\",\"Baisley Park\",\"Boro Zone\"', count=None),\n",
       " Row(DEST_COUNTRY_NAME=None, ORIGIN_COUNTRY_NAME=None, _corrupt_record='11,\"Brooklyn\",\"Bath Beach\",\"Boro Zone\"', count=None),\n",
       " Row(DEST_COUNTRY_NAME=None, ORIGIN_COUNTRY_NAME=None, _corrupt_record='12,\"Manhattan\",\"Battery Park\",\"Yellow Zone\"', count=None),\n",
       " Row(DEST_COUNTRY_NAME=None, ORIGIN_COUNTRY_NAME=None, _corrupt_record='13,\"Manhattan\",\"Battery Park City\",\"Yellow Zone\"', count=None),\n",
       " Row(DEST_COUNTRY_NAME=None, ORIGIN_COUNTRY_NAME=None, _corrupt_record='14,\"Brooklyn\",\"Bay Ridge\",\"Boro Zone\"', count=None),\n",
       " Row(DEST_COUNTRY_NAME=None, ORIGIN_COUNTRY_NAME=None, _corrupt_record='15,\"Queens\",\"Bay Terrace/Fort Totten\",\"Boro Zone\"', count=None),\n",
       " Row(DEST_COUNTRY_NAME=None, ORIGIN_COUNTRY_NAME=None, _corrupt_record='16,\"Queens\",\"Bayside\",\"Boro Zone\"', count=None),\n",
       " Row(DEST_COUNTRY_NAME=None, ORIGIN_COUNTRY_NAME=None, _corrupt_record='17,\"Brooklyn\",\"Bedford\",\"Boro Zone\"', count=None),\n",
       " Row(DEST_COUNTRY_NAME=None, ORIGIN_COUNTRY_NAME=None, _corrupt_record='18,\"Bronx\",\"Bedford Park\",\"Boro Zone\"', count=None),\n",
       " Row(DEST_COUNTRY_NAME=None, ORIGIN_COUNTRY_NAME=None, _corrupt_record='19,\"Queens\",\"Bellerose\",\"Boro Zone\"', count=None),\n",
       " Row(DEST_COUNTRY_NAME=None, ORIGIN_COUNTRY_NAME=None, _corrupt_record='20,\"Bronx\",\"Belmont\",\"Boro Zone\"', count=None),\n",
       " Row(DEST_COUNTRY_NAME=None, ORIGIN_COUNTRY_NAME=None, _corrupt_record='21,\"Brooklyn\",\"Bensonhurst East\",\"Boro Zone\"', count=None),\n",
       " Row(DEST_COUNTRY_NAME=None, ORIGIN_COUNTRY_NAME=None, _corrupt_record='22,\"Brooklyn\",\"Bensonhurst West\",\"Boro Zone\"', count=None),\n",
       " Row(DEST_COUNTRY_NAME=None, ORIGIN_COUNTRY_NAME=None, _corrupt_record='23,\"Staten Island\",\"Bloomfield/Emerson Hill\",\"Boro Zone\"', count=None),\n",
       " Row(DEST_COUNTRY_NAME=None, ORIGIN_COUNTRY_NAME=None, _corrupt_record='24,\"Manhattan\",\"Bloomingdale\",\"Yellow Zone\"', count=None),\n",
       " Row(DEST_COUNTRY_NAME=None, ORIGIN_COUNTRY_NAME=None, _corrupt_record='25,\"Brooklyn\",\"Boerum Hill\",\"Boro Zone\"', count=None),\n",
       " Row(DEST_COUNTRY_NAME=None, ORIGIN_COUNTRY_NAME=None, _corrupt_record='26,\"Brooklyn\",\"Borough Park\",\"Boro Zone\"', count=None),\n",
       " Row(DEST_COUNTRY_NAME=None, ORIGIN_COUNTRY_NAME=None, _corrupt_record='27,\"Queens\",\"Breezy Point/Fort Tilden/Riis Beach\",\"Boro Zone\"', count=None),\n",
       " Row(DEST_COUNTRY_NAME=None, ORIGIN_COUNTRY_NAME=None, _corrupt_record='28,\"Queens\",\"Briarwood/Jamaica Hills\",\"Boro Zone\"', count=None),\n",
       " Row(DEST_COUNTRY_NAME=None, ORIGIN_COUNTRY_NAME=None, _corrupt_record='29,\"Brooklyn\",\"Brighton Beach\",\"Boro Zone\"', count=None),\n",
       " Row(DEST_COUNTRY_NAME=None, ORIGIN_COUNTRY_NAME=None, _corrupt_record='30,\"Queens\",\"Broad Channel\",\"Boro Zone\"', count=None),\n",
       " Row(DEST_COUNTRY_NAME=None, ORIGIN_COUNTRY_NAME=None, _corrupt_record='31,\"Bronx\",\"Bronx Park\",\"Boro Zone\"', count=None),\n",
       " Row(DEST_COUNTRY_NAME=None, ORIGIN_COUNTRY_NAME=None, _corrupt_record='32,\"Bronx\",\"Bronxdale\",\"Boro Zone\"', count=None),\n",
       " Row(DEST_COUNTRY_NAME=None, ORIGIN_COUNTRY_NAME=None, _corrupt_record='33,\"Brooklyn\",\"Brooklyn Heights\",\"Boro Zone\"', count=None),\n",
       " Row(DEST_COUNTRY_NAME=None, ORIGIN_COUNTRY_NAME=None, _corrupt_record='34,\"Brooklyn\",\"Brooklyn Navy Yard\",\"Boro Zone\"', count=None),\n",
       " Row(DEST_COUNTRY_NAME=None, ORIGIN_COUNTRY_NAME=None, _corrupt_record='35,\"Brooklyn\",\"Brownsville\",\"Boro Zone\"', count=None),\n",
       " Row(DEST_COUNTRY_NAME=None, ORIGIN_COUNTRY_NAME=None, _corrupt_record='36,\"Brooklyn\",\"Bushwick North\",\"Boro Zone\"', count=None),\n",
       " Row(DEST_COUNTRY_NAME=None, ORIGIN_COUNTRY_NAME=None, _corrupt_record='37,\"Brooklyn\",\"Bushwick South\",\"Boro Zone\"', count=None),\n",
       " Row(DEST_COUNTRY_NAME=None, ORIGIN_COUNTRY_NAME=None, _corrupt_record='38,\"Queens\",\"Cambria Heights\",\"Boro Zone\"', count=None),\n",
       " Row(DEST_COUNTRY_NAME=None, ORIGIN_COUNTRY_NAME=None, _corrupt_record='39,\"Brooklyn\",\"Canarsie\",\"Boro Zone\"', count=None),\n",
       " Row(DEST_COUNTRY_NAME=None, ORIGIN_COUNTRY_NAME=None, _corrupt_record='40,\"Brooklyn\",\"Carroll Gardens\",\"Boro Zone\"', count=None),\n",
       " Row(DEST_COUNTRY_NAME=None, ORIGIN_COUNTRY_NAME=None, _corrupt_record='41,\"Manhattan\",\"Central Harlem\",\"Boro Zone\"', count=None),\n",
       " Row(DEST_COUNTRY_NAME=None, ORIGIN_COUNTRY_NAME=None, _corrupt_record='42,\"Manhattan\",\"Central Harlem North\",\"Boro Zone\"', count=None),\n",
       " Row(DEST_COUNTRY_NAME=None, ORIGIN_COUNTRY_NAME=None, _corrupt_record='43,\"Manhattan\",\"Central Park\",\"Yellow Zone\"', count=None),\n",
       " Row(DEST_COUNTRY_NAME=None, ORIGIN_COUNTRY_NAME=None, _corrupt_record='44,\"Staten Island\",\"Charleston/Tottenville\",\"Boro Zone\"', count=None),\n",
       " Row(DEST_COUNTRY_NAME=None, ORIGIN_COUNTRY_NAME=None, _corrupt_record='45,\"Manhattan\",\"Chinatown\",\"Yellow Zone\"', count=None),\n",
       " Row(DEST_COUNTRY_NAME=None, ORIGIN_COUNTRY_NAME=None, _corrupt_record='46,\"Bronx\",\"City Island\",\"Boro Zone\"', count=None),\n",
       " Row(DEST_COUNTRY_NAME=None, ORIGIN_COUNTRY_NAME=None, _corrupt_record='47,\"Bronx\",\"Claremont/Bathgate\",\"Boro Zone\"', count=None),\n",
       " Row(DEST_COUNTRY_NAME=None, ORIGIN_COUNTRY_NAME=None, _corrupt_record='48,\"Manhattan\",\"Clinton East\",\"Yellow Zone\"', count=None),\n",
       " Row(DEST_COUNTRY_NAME=None, ORIGIN_COUNTRY_NAME=None, _corrupt_record='49,\"Brooklyn\",\"Clinton Hill\",\"Boro Zone\"', count=None),\n",
       " Row(DEST_COUNTRY_NAME=None, ORIGIN_COUNTRY_NAME=None, _corrupt_record='50,\"Manhattan\",\"Clinton West\",\"Yellow Zone\"', count=None),\n",
       " Row(DEST_COUNTRY_NAME=None, ORIGIN_COUNTRY_NAME=None, _corrupt_record='51,\"Bronx\",\"Co-Op City\",\"Boro Zone\"', count=None),\n",
       " Row(DEST_COUNTRY_NAME=None, ORIGIN_COUNTRY_NAME=None, _corrupt_record='52,\"Brooklyn\",\"Cobble Hill\",\"Boro Zone\"', count=None),\n",
       " Row(DEST_COUNTRY_NAME=None, ORIGIN_COUNTRY_NAME=None, _corrupt_record='53,\"Queens\",\"College Point\",\"Boro Zone\"', count=None),\n",
       " Row(DEST_COUNTRY_NAME=None, ORIGIN_COUNTRY_NAME=None, _corrupt_record='54,\"Brooklyn\",\"Columbia Street\",\"Boro Zone\"', count=None),\n",
       " Row(DEST_COUNTRY_NAME=None, ORIGIN_COUNTRY_NAME=None, _corrupt_record='55,\"Brooklyn\",\"Coney Island\",\"Boro Zone\"', count=None),\n",
       " Row(DEST_COUNTRY_NAME=None, ORIGIN_COUNTRY_NAME=None, _corrupt_record='56,\"Queens\",\"Corona\",\"Boro Zone\"', count=None),\n",
       " Row(DEST_COUNTRY_NAME=None, ORIGIN_COUNTRY_NAME=None, _corrupt_record='57,\"Queens\",\"Corona\",\"Boro Zone\"', count=None),\n",
       " Row(DEST_COUNTRY_NAME=None, ORIGIN_COUNTRY_NAME=None, _corrupt_record='58,\"Bronx\",\"Country Club\",\"Boro Zone\"', count=None),\n",
       " Row(DEST_COUNTRY_NAME=None, ORIGIN_COUNTRY_NAME=None, _corrupt_record='59,\"Bronx\",\"Crotona Park\",\"Boro Zone\"', count=None),\n",
       " Row(DEST_COUNTRY_NAME=None, ORIGIN_COUNTRY_NAME=None, _corrupt_record='60,\"Bronx\",\"Crotona Park East\",\"Boro Zone\"', count=None),\n",
       " Row(DEST_COUNTRY_NAME=None, ORIGIN_COUNTRY_NAME=None, _corrupt_record='61,\"Brooklyn\",\"Crown Heights North\",\"Boro Zone\"', count=None),\n",
       " Row(DEST_COUNTRY_NAME=None, ORIGIN_COUNTRY_NAME=None, _corrupt_record='62,\"Brooklyn\",\"Crown Heights South\",\"Boro Zone\"', count=None),\n",
       " Row(DEST_COUNTRY_NAME=None, ORIGIN_COUNTRY_NAME=None, _corrupt_record='63,\"Brooklyn\",\"Cypress Hills\",\"Boro Zone\"', count=None),\n",
       " Row(DEST_COUNTRY_NAME=None, ORIGIN_COUNTRY_NAME=None, _corrupt_record='64,\"Queens\",\"Douglaston\",\"Boro Zone\"', count=None),\n",
       " Row(DEST_COUNTRY_NAME=None, ORIGIN_COUNTRY_NAME=None, _corrupt_record='65,\"Brooklyn\",\"Downtown Brooklyn/MetroTech\",\"Boro Zone\"', count=None),\n",
       " Row(DEST_COUNTRY_NAME=None, ORIGIN_COUNTRY_NAME=None, _corrupt_record='66,\"Brooklyn\",\"DUMBO/Vinegar Hill\",\"Boro Zone\"', count=None),\n",
       " Row(DEST_COUNTRY_NAME=None, ORIGIN_COUNTRY_NAME=None, _corrupt_record='67,\"Brooklyn\",\"Dyker Heights\",\"Boro Zone\"', count=None),\n",
       " Row(DEST_COUNTRY_NAME=None, ORIGIN_COUNTRY_NAME=None, _corrupt_record='68,\"Manhattan\",\"East Chelsea\",\"Yellow Zone\"', count=None),\n",
       " Row(DEST_COUNTRY_NAME=None, ORIGIN_COUNTRY_NAME=None, _corrupt_record='69,\"Bronx\",\"East Concourse/Concourse Village\",\"Boro Zone\"', count=None),\n",
       " Row(DEST_COUNTRY_NAME=None, ORIGIN_COUNTRY_NAME=None, _corrupt_record='70,\"Queens\",\"East Elmhurst\",\"Boro Zone\"', count=None),\n",
       " Row(DEST_COUNTRY_NAME=None, ORIGIN_COUNTRY_NAME=None, _corrupt_record='71,\"Brooklyn\",\"East Flatbush/Farragut\",\"Boro Zone\"', count=None),\n",
       " Row(DEST_COUNTRY_NAME=None, ORIGIN_COUNTRY_NAME=None, _corrupt_record='72,\"Brooklyn\",\"East Flatbush/Remsen Village\",\"Boro Zone\"', count=None),\n",
       " Row(DEST_COUNTRY_NAME=None, ORIGIN_COUNTRY_NAME=None, _corrupt_record='73,\"Queens\",\"East Flushing\",\"Boro Zone\"', count=None),\n",
       " Row(DEST_COUNTRY_NAME=None, ORIGIN_COUNTRY_NAME=None, _corrupt_record='74,\"Manhattan\",\"East Harlem North\",\"Boro Zone\"', count=None),\n",
       " Row(DEST_COUNTRY_NAME=None, ORIGIN_COUNTRY_NAME=None, _corrupt_record='75,\"Manhattan\",\"East Harlem South\",\"Boro Zone\"', count=None),\n",
       " Row(DEST_COUNTRY_NAME=None, ORIGIN_COUNTRY_NAME=None, _corrupt_record='76,\"Brooklyn\",\"East New York\",\"Boro Zone\"', count=None),\n",
       " Row(DEST_COUNTRY_NAME=None, ORIGIN_COUNTRY_NAME=None, _corrupt_record='77,\"Brooklyn\",\"East New York/Pennsylvania Avenue\",\"Boro Zone\"', count=None),\n",
       " Row(DEST_COUNTRY_NAME=None, ORIGIN_COUNTRY_NAME=None, _corrupt_record='78,\"Bronx\",\"East Tremont\",\"Boro Zone\"', count=None),\n",
       " Row(DEST_COUNTRY_NAME=None, ORIGIN_COUNTRY_NAME=None, _corrupt_record='79,\"Manhattan\",\"East Village\",\"Yellow Zone\"', count=None),\n",
       " Row(DEST_COUNTRY_NAME=None, ORIGIN_COUNTRY_NAME=None, _corrupt_record='80,\"Brooklyn\",\"East Williamsburg\",\"Boro Zone\"', count=None),\n",
       " Row(DEST_COUNTRY_NAME=None, ORIGIN_COUNTRY_NAME=None, _corrupt_record='81,\"Bronx\",\"Eastchester\",\"Boro Zone\"', count=None),\n",
       " Row(DEST_COUNTRY_NAME=None, ORIGIN_COUNTRY_NAME=None, _corrupt_record='82,\"Queens\",\"Elmhurst\",\"Boro Zone\"', count=None),\n",
       " Row(DEST_COUNTRY_NAME=None, ORIGIN_COUNTRY_NAME=None, _corrupt_record='83,\"Queens\",\"Elmhurst/Maspeth\",\"Boro Zone\"', count=None),\n",
       " Row(DEST_COUNTRY_NAME=None, ORIGIN_COUNTRY_NAME=None, _corrupt_record='84,\"Staten Island\",\"Eltingville/Annadale/Prince\\'s Bay\",\"Boro Zone\"', count=None),\n",
       " Row(DEST_COUNTRY_NAME=None, ORIGIN_COUNTRY_NAME=None, _corrupt_record='85,\"Brooklyn\",\"Erasmus\",\"Boro Zone\"', count=None),\n",
       " Row(DEST_COUNTRY_NAME=None, ORIGIN_COUNTRY_NAME=None, _corrupt_record='86,\"Queens\",\"Far Rockaway\",\"Boro Zone\"', count=None),\n",
       " Row(DEST_COUNTRY_NAME=None, ORIGIN_COUNTRY_NAME=None, _corrupt_record='87,\"Manhattan\",\"Financial District North\",\"Yellow Zone\"', count=None),\n",
       " Row(DEST_COUNTRY_NAME=None, ORIGIN_COUNTRY_NAME=None, _corrupt_record='88,\"Manhattan\",\"Financial District South\",\"Yellow Zone\"', count=None),\n",
       " Row(DEST_COUNTRY_NAME=None, ORIGIN_COUNTRY_NAME=None, _corrupt_record='89,\"Brooklyn\",\"Flatbush/Ditmas Park\",\"Boro Zone\"', count=None),\n",
       " Row(DEST_COUNTRY_NAME=None, ORIGIN_COUNTRY_NAME=None, _corrupt_record='90,\"Manhattan\",\"Flatiron\",\"Yellow Zone\"', count=None),\n",
       " Row(DEST_COUNTRY_NAME=None, ORIGIN_COUNTRY_NAME=None, _corrupt_record='91,\"Brooklyn\",\"Flatlands\",\"Boro Zone\"', count=None),\n",
       " Row(DEST_COUNTRY_NAME=None, ORIGIN_COUNTRY_NAME=None, _corrupt_record='92,\"Queens\",\"Flushing\",\"Boro Zone\"', count=None),\n",
       " Row(DEST_COUNTRY_NAME=None, ORIGIN_COUNTRY_NAME=None, _corrupt_record='93,\"Queens\",\"Flushing Meadows-Corona Park\",\"Boro Zone\"', count=None),\n",
       " Row(DEST_COUNTRY_NAME=None, ORIGIN_COUNTRY_NAME=None, _corrupt_record='94,\"Bronx\",\"Fordham South\",\"Boro Zone\"', count=None),\n",
       " Row(DEST_COUNTRY_NAME=None, ORIGIN_COUNTRY_NAME=None, _corrupt_record='95,\"Queens\",\"Forest Hills\",\"Boro Zone\"', count=None),\n",
       " Row(DEST_COUNTRY_NAME=None, ORIGIN_COUNTRY_NAME=None, _corrupt_record='96,\"Queens\",\"Forest Park/Highland Park\",\"Boro Zone\"', count=None),\n",
       " Row(DEST_COUNTRY_NAME=None, ORIGIN_COUNTRY_NAME=None, _corrupt_record='97,\"Brooklyn\",\"Fort Greene\",\"Boro Zone\"', count=None),\n",
       " Row(DEST_COUNTRY_NAME=None, ORIGIN_COUNTRY_NAME=None, _corrupt_record='98,\"Queens\",\"Fresh Meadows\",\"Boro Zone\"', count=None),\n",
       " Row(DEST_COUNTRY_NAME=None, ORIGIN_COUNTRY_NAME=None, _corrupt_record='99,\"Staten Island\",\"Freshkills Park\",\"Boro Zone\"', count=None),\n",
       " Row(DEST_COUNTRY_NAME=None, ORIGIN_COUNTRY_NAME=None, _corrupt_record='100,\"Manhattan\",\"Garment District\",\"Yellow Zone\"', count=None),\n",
       " Row(DEST_COUNTRY_NAME=None, ORIGIN_COUNTRY_NAME=None, _corrupt_record='101,\"Queens\",\"Glen Oaks\",\"Boro Zone\"', count=None),\n",
       " Row(DEST_COUNTRY_NAME=None, ORIGIN_COUNTRY_NAME=None, _corrupt_record='102,\"Queens\",\"Glendale\",\"Boro Zone\"', count=None),\n",
       " Row(DEST_COUNTRY_NAME=None, ORIGIN_COUNTRY_NAME=None, _corrupt_record='103,\"Manhattan\",\"Governor\\'s Island/Ellis Island/Liberty Island\",\"Yellow Zone\"', count=None),\n",
       " Row(DEST_COUNTRY_NAME=None, ORIGIN_COUNTRY_NAME=None, _corrupt_record='104,\"Manhattan\",\"Governor\\'s Island/Ellis Island/Liberty Island\",\"Yellow Zone\"', count=None),\n",
       " Row(DEST_COUNTRY_NAME=None, ORIGIN_COUNTRY_NAME=None, _corrupt_record='105,\"Manhattan\",\"Governor\\'s Island/Ellis Island/Liberty Island\",\"Yellow Zone\"', count=None),\n",
       " Row(DEST_COUNTRY_NAME=None, ORIGIN_COUNTRY_NAME=None, _corrupt_record='106,\"Brooklyn\",\"Gowanus\",\"Boro Zone\"', count=None),\n",
       " Row(DEST_COUNTRY_NAME=None, ORIGIN_COUNTRY_NAME=None, _corrupt_record='107,\"Manhattan\",\"Gramercy\",\"Yellow Zone\"', count=None),\n",
       " Row(DEST_COUNTRY_NAME=None, ORIGIN_COUNTRY_NAME=None, _corrupt_record='108,\"Brooklyn\",\"Gravesend\",\"Boro Zone\"', count=None),\n",
       " Row(DEST_COUNTRY_NAME=None, ORIGIN_COUNTRY_NAME=None, _corrupt_record='109,\"Staten Island\",\"Great Kills\",\"Boro Zone\"', count=None),\n",
       " Row(DEST_COUNTRY_NAME=None, ORIGIN_COUNTRY_NAME=None, _corrupt_record='110,\"Staten Island\",\"Great Kills Park\",\"Boro Zone\"', count=None),\n",
       " Row(DEST_COUNTRY_NAME=None, ORIGIN_COUNTRY_NAME=None, _corrupt_record='111,\"Brooklyn\",\"Green-Wood Cemetery\",\"Boro Zone\"', count=None),\n",
       " Row(DEST_COUNTRY_NAME=None, ORIGIN_COUNTRY_NAME=None, _corrupt_record='112,\"Brooklyn\",\"Greenpoint\",\"Boro Zone\"', count=None),\n",
       " Row(DEST_COUNTRY_NAME=None, ORIGIN_COUNTRY_NAME=None, _corrupt_record='113,\"Manhattan\",\"Greenwich Village North\",\"Yellow Zone\"', count=None),\n",
       " Row(DEST_COUNTRY_NAME=None, ORIGIN_COUNTRY_NAME=None, _corrupt_record='114,\"Manhattan\",\"Greenwich Village South\",\"Yellow Zone\"', count=None),\n",
       " Row(DEST_COUNTRY_NAME=None, ORIGIN_COUNTRY_NAME=None, _corrupt_record='115,\"Staten Island\",\"Grymes Hill/Clifton\",\"Boro Zone\"', count=None),\n",
       " Row(DEST_COUNTRY_NAME=None, ORIGIN_COUNTRY_NAME=None, _corrupt_record='116,\"Manhattan\",\"Hamilton Heights\",\"Boro Zone\"', count=None),\n",
       " Row(DEST_COUNTRY_NAME=None, ORIGIN_COUNTRY_NAME=None, _corrupt_record='117,\"Queens\",\"Hammels/Arverne\",\"Boro Zone\"', count=None),\n",
       " Row(DEST_COUNTRY_NAME=None, ORIGIN_COUNTRY_NAME=None, _corrupt_record='118,\"Staten Island\",\"Heartland Village/Todt Hill\",\"Boro Zone\"', count=None),\n",
       " Row(DEST_COUNTRY_NAME=None, ORIGIN_COUNTRY_NAME=None, _corrupt_record='119,\"Bronx\",\"Highbridge\",\"Boro Zone\"', count=None),\n",
       " Row(DEST_COUNTRY_NAME=None, ORIGIN_COUNTRY_NAME=None, _corrupt_record='120,\"Manhattan\",\"Highbridge Park\",\"Boro Zone\"', count=None),\n",
       " Row(DEST_COUNTRY_NAME=None, ORIGIN_COUNTRY_NAME=None, _corrupt_record='121,\"Queens\",\"Hillcrest/Pomonok\",\"Boro Zone\"', count=None),\n",
       " Row(DEST_COUNTRY_NAME=None, ORIGIN_COUNTRY_NAME=None, _corrupt_record='122,\"Queens\",\"Hollis\",\"Boro Zone\"', count=None),\n",
       " Row(DEST_COUNTRY_NAME=None, ORIGIN_COUNTRY_NAME=None, _corrupt_record='123,\"Brooklyn\",\"Homecrest\",\"Boro Zone\"', count=None),\n",
       " Row(DEST_COUNTRY_NAME=None, ORIGIN_COUNTRY_NAME=None, _corrupt_record='124,\"Queens\",\"Howard Beach\",\"Boro Zone\"', count=None),\n",
       " Row(DEST_COUNTRY_NAME=None, ORIGIN_COUNTRY_NAME=None, _corrupt_record='125,\"Manhattan\",\"Hudson Sq\",\"Yellow Zone\"', count=None),\n",
       " Row(DEST_COUNTRY_NAME=None, ORIGIN_COUNTRY_NAME=None, _corrupt_record='126,\"Bronx\",\"Hunts Point\",\"Boro Zone\"', count=None),\n",
       " Row(DEST_COUNTRY_NAME=None, ORIGIN_COUNTRY_NAME=None, _corrupt_record='127,\"Manhattan\",\"Inwood\",\"Boro Zone\"', count=None),\n",
       " Row(DEST_COUNTRY_NAME=None, ORIGIN_COUNTRY_NAME=None, _corrupt_record='128,\"Manhattan\",\"Inwood Hill Park\",\"Boro Zone\"', count=None),\n",
       " Row(DEST_COUNTRY_NAME=None, ORIGIN_COUNTRY_NAME=None, _corrupt_record='129,\"Queens\",\"Jackson Heights\",\"Boro Zone\"', count=None),\n",
       " Row(DEST_COUNTRY_NAME=None, ORIGIN_COUNTRY_NAME=None, _corrupt_record='130,\"Queens\",\"Jamaica\",\"Boro Zone\"', count=None),\n",
       " Row(DEST_COUNTRY_NAME=None, ORIGIN_COUNTRY_NAME=None, _corrupt_record='131,\"Queens\",\"Jamaica Estates\",\"Boro Zone\"', count=None),\n",
       " Row(DEST_COUNTRY_NAME=None, ORIGIN_COUNTRY_NAME=None, _corrupt_record='132,\"Queens\",\"JFK Airport\",\"Airports\"', count=None),\n",
       " Row(DEST_COUNTRY_NAME=None, ORIGIN_COUNTRY_NAME=None, _corrupt_record='133,\"Brooklyn\",\"Kensington\",\"Boro Zone\"', count=None),\n",
       " Row(DEST_COUNTRY_NAME=None, ORIGIN_COUNTRY_NAME=None, _corrupt_record='134,\"Queens\",\"Kew Gardens\",\"Boro Zone\"', count=None),\n",
       " Row(DEST_COUNTRY_NAME=None, ORIGIN_COUNTRY_NAME=None, _corrupt_record='135,\"Queens\",\"Kew Gardens Hills\",\"Boro Zone\"', count=None),\n",
       " Row(DEST_COUNTRY_NAME=None, ORIGIN_COUNTRY_NAME=None, _corrupt_record='136,\"Bronx\",\"Kingsbridge Heights\",\"Boro Zone\"', count=None),\n",
       " Row(DEST_COUNTRY_NAME=None, ORIGIN_COUNTRY_NAME=None, _corrupt_record='137,\"Manhattan\",\"Kips Bay\",\"Yellow Zone\"', count=None),\n",
       " Row(DEST_COUNTRY_NAME=None, ORIGIN_COUNTRY_NAME=None, _corrupt_record='138,\"Queens\",\"LaGuardia Airport\",\"Airports\"', count=None),\n",
       " Row(DEST_COUNTRY_NAME=None, ORIGIN_COUNTRY_NAME=None, _corrupt_record='139,\"Queens\",\"Laurelton\",\"Boro Zone\"', count=None),\n",
       " Row(DEST_COUNTRY_NAME=None, ORIGIN_COUNTRY_NAME=None, _corrupt_record='140,\"Manhattan\",\"Lenox Hill East\",\"Yellow Zone\"', count=None),\n",
       " Row(DEST_COUNTRY_NAME=None, ORIGIN_COUNTRY_NAME=None, _corrupt_record='141,\"Manhattan\",\"Lenox Hill West\",\"Yellow Zone\"', count=None),\n",
       " Row(DEST_COUNTRY_NAME=None, ORIGIN_COUNTRY_NAME=None, _corrupt_record='142,\"Manhattan\",\"Lincoln Square East\",\"Yellow Zone\"', count=None),\n",
       " Row(DEST_COUNTRY_NAME=None, ORIGIN_COUNTRY_NAME=None, _corrupt_record='143,\"Manhattan\",\"Lincoln Square West\",\"Yellow Zone\"', count=None),\n",
       " Row(DEST_COUNTRY_NAME=None, ORIGIN_COUNTRY_NAME=None, _corrupt_record='144,\"Manhattan\",\"Little Italy/NoLiTa\",\"Yellow Zone\"', count=None),\n",
       " Row(DEST_COUNTRY_NAME=None, ORIGIN_COUNTRY_NAME=None, _corrupt_record='145,\"Queens\",\"Long Island City/Hunters Point\",\"Boro Zone\"', count=None),\n",
       " Row(DEST_COUNTRY_NAME=None, ORIGIN_COUNTRY_NAME=None, _corrupt_record='146,\"Queens\",\"Long Island City/Queens Plaza\",\"Boro Zone\"', count=None),\n",
       " Row(DEST_COUNTRY_NAME=None, ORIGIN_COUNTRY_NAME=None, _corrupt_record='147,\"Bronx\",\"Longwood\",\"Boro Zone\"', count=None),\n",
       " Row(DEST_COUNTRY_NAME=None, ORIGIN_COUNTRY_NAME=None, _corrupt_record='148,\"Manhattan\",\"Lower East Side\",\"Yellow Zone\"', count=None),\n",
       " Row(DEST_COUNTRY_NAME=None, ORIGIN_COUNTRY_NAME=None, _corrupt_record='149,\"Brooklyn\",\"Madison\",\"Boro Zone\"', count=None),\n",
       " Row(DEST_COUNTRY_NAME=None, ORIGIN_COUNTRY_NAME=None, _corrupt_record='150,\"Brooklyn\",\"Manhattan Beach\",\"Boro Zone\"', count=None),\n",
       " Row(DEST_COUNTRY_NAME=None, ORIGIN_COUNTRY_NAME=None, _corrupt_record='151,\"Manhattan\",\"Manhattan Valley\",\"Yellow Zone\"', count=None),\n",
       " Row(DEST_COUNTRY_NAME=None, ORIGIN_COUNTRY_NAME=None, _corrupt_record='152,\"Manhattan\",\"Manhattanville\",\"Boro Zone\"', count=None),\n",
       " Row(DEST_COUNTRY_NAME=None, ORIGIN_COUNTRY_NAME=None, _corrupt_record='153,\"Manhattan\",\"Marble Hill\",\"Boro Zone\"', count=None),\n",
       " Row(DEST_COUNTRY_NAME=None, ORIGIN_COUNTRY_NAME=None, _corrupt_record='154,\"Brooklyn\",\"Marine Park/Floyd Bennett Field\",\"Boro Zone\"', count=None),\n",
       " Row(DEST_COUNTRY_NAME=None, ORIGIN_COUNTRY_NAME=None, _corrupt_record='155,\"Brooklyn\",\"Marine Park/Mill Basin\",\"Boro Zone\"', count=None),\n",
       " Row(DEST_COUNTRY_NAME=None, ORIGIN_COUNTRY_NAME=None, _corrupt_record='156,\"Staten Island\",\"Mariners Harbor\",\"Boro Zone\"', count=None),\n",
       " Row(DEST_COUNTRY_NAME=None, ORIGIN_COUNTRY_NAME=None, _corrupt_record='157,\"Queens\",\"Maspeth\",\"Boro Zone\"', count=None),\n",
       " Row(DEST_COUNTRY_NAME=None, ORIGIN_COUNTRY_NAME=None, _corrupt_record='158,\"Manhattan\",\"Meatpacking/West Village West\",\"Yellow Zone\"', count=None),\n",
       " Row(DEST_COUNTRY_NAME=None, ORIGIN_COUNTRY_NAME=None, _corrupt_record='159,\"Bronx\",\"Melrose South\",\"Boro Zone\"', count=None),\n",
       " Row(DEST_COUNTRY_NAME=None, ORIGIN_COUNTRY_NAME=None, _corrupt_record='160,\"Queens\",\"Middle Village\",\"Boro Zone\"', count=None),\n",
       " Row(DEST_COUNTRY_NAME=None, ORIGIN_COUNTRY_NAME=None, _corrupt_record='161,\"Manhattan\",\"Midtown Center\",\"Yellow Zone\"', count=None),\n",
       " Row(DEST_COUNTRY_NAME=None, ORIGIN_COUNTRY_NAME=None, _corrupt_record='162,\"Manhattan\",\"Midtown East\",\"Yellow Zone\"', count=None),\n",
       " Row(DEST_COUNTRY_NAME=None, ORIGIN_COUNTRY_NAME=None, _corrupt_record='163,\"Manhattan\",\"Midtown North\",\"Yellow Zone\"', count=None),\n",
       " Row(DEST_COUNTRY_NAME=None, ORIGIN_COUNTRY_NAME=None, _corrupt_record='164,\"Manhattan\",\"Midtown South\",\"Yellow Zone\"', count=None),\n",
       " Row(DEST_COUNTRY_NAME=None, ORIGIN_COUNTRY_NAME=None, _corrupt_record='165,\"Brooklyn\",\"Midwood\",\"Boro Zone\"', count=None),\n",
       " Row(DEST_COUNTRY_NAME=None, ORIGIN_COUNTRY_NAME=None, _corrupt_record='166,\"Manhattan\",\"Morningside Heights\",\"Boro Zone\"', count=None),\n",
       " Row(DEST_COUNTRY_NAME=None, ORIGIN_COUNTRY_NAME=None, _corrupt_record='167,\"Bronx\",\"Morrisania/Melrose\",\"Boro Zone\"', count=None),\n",
       " Row(DEST_COUNTRY_NAME=None, ORIGIN_COUNTRY_NAME=None, _corrupt_record='168,\"Bronx\",\"Mott Haven/Port Morris\",\"Boro Zone\"', count=None),\n",
       " Row(DEST_COUNTRY_NAME=None, ORIGIN_COUNTRY_NAME=None, _corrupt_record='169,\"Bronx\",\"Mount Hope\",\"Boro Zone\"', count=None),\n",
       " Row(DEST_COUNTRY_NAME=None, ORIGIN_COUNTRY_NAME=None, _corrupt_record='170,\"Manhattan\",\"Murray Hill\",\"Yellow Zone\"', count=None),\n",
       " Row(DEST_COUNTRY_NAME=None, ORIGIN_COUNTRY_NAME=None, _corrupt_record='171,\"Queens\",\"Murray Hill-Queens\",\"Boro Zone\"', count=None),\n",
       " Row(DEST_COUNTRY_NAME=None, ORIGIN_COUNTRY_NAME=None, _corrupt_record='172,\"Staten Island\",\"New Dorp/Midland Beach\",\"Boro Zone\"', count=None),\n",
       " Row(DEST_COUNTRY_NAME=None, ORIGIN_COUNTRY_NAME=None, _corrupt_record='173,\"Queens\",\"North Corona\",\"Boro Zone\"', count=None),\n",
       " Row(DEST_COUNTRY_NAME=None, ORIGIN_COUNTRY_NAME=None, _corrupt_record='174,\"Bronx\",\"Norwood\",\"Boro Zone\"', count=None),\n",
       " Row(DEST_COUNTRY_NAME=None, ORIGIN_COUNTRY_NAME=None, _corrupt_record='175,\"Queens\",\"Oakland Gardens\",\"Boro Zone\"', count=None),\n",
       " Row(DEST_COUNTRY_NAME=None, ORIGIN_COUNTRY_NAME=None, _corrupt_record='176,\"Staten Island\",\"Oakwood\",\"Boro Zone\"', count=None),\n",
       " Row(DEST_COUNTRY_NAME=None, ORIGIN_COUNTRY_NAME=None, _corrupt_record='177,\"Brooklyn\",\"Ocean Hill\",\"Boro Zone\"', count=None),\n",
       " Row(DEST_COUNTRY_NAME=None, ORIGIN_COUNTRY_NAME=None, _corrupt_record='178,\"Brooklyn\",\"Ocean Parkway South\",\"Boro Zone\"', count=None),\n",
       " Row(DEST_COUNTRY_NAME=None, ORIGIN_COUNTRY_NAME=None, _corrupt_record='179,\"Queens\",\"Old Astoria\",\"Boro Zone\"', count=None),\n",
       " Row(DEST_COUNTRY_NAME=None, ORIGIN_COUNTRY_NAME=None, _corrupt_record='180,\"Queens\",\"Ozone Park\",\"Boro Zone\"', count=None),\n",
       " Row(DEST_COUNTRY_NAME=None, ORIGIN_COUNTRY_NAME=None, _corrupt_record='181,\"Brooklyn\",\"Park Slope\",\"Boro Zone\"', count=None),\n",
       " Row(DEST_COUNTRY_NAME=None, ORIGIN_COUNTRY_NAME=None, _corrupt_record='182,\"Bronx\",\"Parkchester\",\"Boro Zone\"', count=None),\n",
       " Row(DEST_COUNTRY_NAME=None, ORIGIN_COUNTRY_NAME=None, _corrupt_record='183,\"Bronx\",\"Pelham Bay\",\"Boro Zone\"', count=None),\n",
       " Row(DEST_COUNTRY_NAME=None, ORIGIN_COUNTRY_NAME=None, _corrupt_record='184,\"Bronx\",\"Pelham Bay Park\",\"Boro Zone\"', count=None),\n",
       " Row(DEST_COUNTRY_NAME=None, ORIGIN_COUNTRY_NAME=None, _corrupt_record='185,\"Bronx\",\"Pelham Parkway\",\"Boro Zone\"', count=None),\n",
       " Row(DEST_COUNTRY_NAME=None, ORIGIN_COUNTRY_NAME=None, _corrupt_record='186,\"Manhattan\",\"Penn Station/Madison Sq West\",\"Yellow Zone\"', count=None),\n",
       " Row(DEST_COUNTRY_NAME=None, ORIGIN_COUNTRY_NAME=None, _corrupt_record='187,\"Staten Island\",\"Port Richmond\",\"Boro Zone\"', count=None),\n",
       " Row(DEST_COUNTRY_NAME=None, ORIGIN_COUNTRY_NAME=None, _corrupt_record='188,\"Brooklyn\",\"Prospect-Lefferts Gardens\",\"Boro Zone\"', count=None),\n",
       " Row(DEST_COUNTRY_NAME=None, ORIGIN_COUNTRY_NAME=None, _corrupt_record='189,\"Brooklyn\",\"Prospect Heights\",\"Boro Zone\"', count=None),\n",
       " Row(DEST_COUNTRY_NAME=None, ORIGIN_COUNTRY_NAME=None, _corrupt_record='190,\"Brooklyn\",\"Prospect Park\",\"Boro Zone\"', count=None),\n",
       " Row(DEST_COUNTRY_NAME=None, ORIGIN_COUNTRY_NAME=None, _corrupt_record='191,\"Queens\",\"Queens Village\",\"Boro Zone\"', count=None),\n",
       " Row(DEST_COUNTRY_NAME=None, ORIGIN_COUNTRY_NAME=None, _corrupt_record='192,\"Queens\",\"Queensboro Hill\",\"Boro Zone\"', count=None),\n",
       " Row(DEST_COUNTRY_NAME=None, ORIGIN_COUNTRY_NAME=None, _corrupt_record='193,\"Queens\",\"Queensbridge/Ravenswood\",\"Boro Zone\"', count=None),\n",
       " Row(DEST_COUNTRY_NAME=None, ORIGIN_COUNTRY_NAME=None, _corrupt_record='194,\"Manhattan\",\"Randalls Island\",\"Yellow Zone\"', count=None),\n",
       " Row(DEST_COUNTRY_NAME=None, ORIGIN_COUNTRY_NAME=None, _corrupt_record='195,\"Brooklyn\",\"Red Hook\",\"Boro Zone\"', count=None),\n",
       " Row(DEST_COUNTRY_NAME=None, ORIGIN_COUNTRY_NAME=None, _corrupt_record='196,\"Queens\",\"Rego Park\",\"Boro Zone\"', count=None),\n",
       " Row(DEST_COUNTRY_NAME=None, ORIGIN_COUNTRY_NAME=None, _corrupt_record='197,\"Queens\",\"Richmond Hill\",\"Boro Zone\"', count=None),\n",
       " Row(DEST_COUNTRY_NAME=None, ORIGIN_COUNTRY_NAME=None, _corrupt_record='198,\"Queens\",\"Ridgewood\",\"Boro Zone\"', count=None),\n",
       " Row(DEST_COUNTRY_NAME=None, ORIGIN_COUNTRY_NAME=None, _corrupt_record='199,\"Bronx\",\"Rikers Island\",\"Boro Zone\"', count=None),\n",
       " Row(DEST_COUNTRY_NAME=None, ORIGIN_COUNTRY_NAME=None, _corrupt_record='200,\"Bronx\",\"Riverdale/North Riverdale/Fieldston\",\"Boro Zone\"', count=None),\n",
       " Row(DEST_COUNTRY_NAME=None, ORIGIN_COUNTRY_NAME=None, _corrupt_record='201,\"Queens\",\"Rockaway Park\",\"Boro Zone\"', count=None),\n",
       " Row(DEST_COUNTRY_NAME=None, ORIGIN_COUNTRY_NAME=None, _corrupt_record='202,\"Manhattan\",\"Roosevelt Island\",\"Boro Zone\"', count=None),\n",
       " Row(DEST_COUNTRY_NAME=None, ORIGIN_COUNTRY_NAME=None, _corrupt_record='203,\"Queens\",\"Rosedale\",\"Boro Zone\"', count=None),\n",
       " Row(DEST_COUNTRY_NAME=None, ORIGIN_COUNTRY_NAME=None, _corrupt_record='204,\"Staten Island\",\"Rossville/Woodrow\",\"Boro Zone\"', count=None),\n",
       " Row(DEST_COUNTRY_NAME=None, ORIGIN_COUNTRY_NAME=None, _corrupt_record='205,\"Queens\",\"Saint Albans\",\"Boro Zone\"', count=None),\n",
       " Row(DEST_COUNTRY_NAME=None, ORIGIN_COUNTRY_NAME=None, _corrupt_record='206,\"Staten Island\",\"Saint George/New Brighton\",\"Boro Zone\"', count=None),\n",
       " Row(DEST_COUNTRY_NAME=None, ORIGIN_COUNTRY_NAME=None, _corrupt_record='207,\"Queens\",\"Saint Michaels Cemetery/Woodside\",\"Boro Zone\"', count=None),\n",
       " Row(DEST_COUNTRY_NAME=None, ORIGIN_COUNTRY_NAME=None, _corrupt_record='208,\"Bronx\",\"Schuylerville/Edgewater Park\",\"Boro Zone\"', count=None),\n",
       " Row(DEST_COUNTRY_NAME=None, ORIGIN_COUNTRY_NAME=None, _corrupt_record='209,\"Manhattan\",\"Seaport\",\"Yellow Zone\"', count=None),\n",
       " Row(DEST_COUNTRY_NAME=None, ORIGIN_COUNTRY_NAME=None, _corrupt_record='210,\"Brooklyn\",\"Sheepshead Bay\",\"Boro Zone\"', count=None),\n",
       " Row(DEST_COUNTRY_NAME=None, ORIGIN_COUNTRY_NAME=None, _corrupt_record='211,\"Manhattan\",\"SoHo\",\"Yellow Zone\"', count=None),\n",
       " Row(DEST_COUNTRY_NAME=None, ORIGIN_COUNTRY_NAME=None, _corrupt_record='212,\"Bronx\",\"Soundview/Bruckner\",\"Boro Zone\"', count=None),\n",
       " Row(DEST_COUNTRY_NAME=None, ORIGIN_COUNTRY_NAME=None, _corrupt_record='213,\"Bronx\",\"Soundview/Castle Hill\",\"Boro Zone\"', count=None),\n",
       " Row(DEST_COUNTRY_NAME=None, ORIGIN_COUNTRY_NAME=None, _corrupt_record='214,\"Staten Island\",\"South Beach/Dongan Hills\",\"Boro Zone\"', count=None),\n",
       " Row(DEST_COUNTRY_NAME=None, ORIGIN_COUNTRY_NAME=None, _corrupt_record='215,\"Queens\",\"South Jamaica\",\"Boro Zone\"', count=None),\n",
       " Row(DEST_COUNTRY_NAME=None, ORIGIN_COUNTRY_NAME=None, _corrupt_record='216,\"Queens\",\"South Ozone Park\",\"Boro Zone\"', count=None),\n",
       " Row(DEST_COUNTRY_NAME=None, ORIGIN_COUNTRY_NAME=None, _corrupt_record='217,\"Brooklyn\",\"South Williamsburg\",\"Boro Zone\"', count=None),\n",
       " Row(DEST_COUNTRY_NAME=None, ORIGIN_COUNTRY_NAME=None, _corrupt_record='218,\"Queens\",\"Springfield Gardens North\",\"Boro Zone\"', count=None),\n",
       " Row(DEST_COUNTRY_NAME=None, ORIGIN_COUNTRY_NAME=None, _corrupt_record='219,\"Queens\",\"Springfield Gardens South\",\"Boro Zone\"', count=None),\n",
       " Row(DEST_COUNTRY_NAME=None, ORIGIN_COUNTRY_NAME=None, _corrupt_record='220,\"Bronx\",\"Spuyten Duyvil/Kingsbridge\",\"Boro Zone\"', count=None),\n",
       " Row(DEST_COUNTRY_NAME=None, ORIGIN_COUNTRY_NAME=None, _corrupt_record='221,\"Staten Island\",\"Stapleton\",\"Boro Zone\"', count=None),\n",
       " Row(DEST_COUNTRY_NAME=None, ORIGIN_COUNTRY_NAME=None, _corrupt_record='222,\"Brooklyn\",\"Starrett City\",\"Boro Zone\"', count=None),\n",
       " Row(DEST_COUNTRY_NAME=None, ORIGIN_COUNTRY_NAME=None, _corrupt_record='223,\"Queens\",\"Steinway\",\"Boro Zone\"', count=None),\n",
       " Row(DEST_COUNTRY_NAME=None, ORIGIN_COUNTRY_NAME=None, _corrupt_record='224,\"Manhattan\",\"Stuy Town/Peter Cooper Village\",\"Yellow Zone\"', count=None),\n",
       " Row(DEST_COUNTRY_NAME=None, ORIGIN_COUNTRY_NAME=None, _corrupt_record='225,\"Brooklyn\",\"Stuyvesant Heights\",\"Boro Zone\"', count=None),\n",
       " Row(DEST_COUNTRY_NAME=None, ORIGIN_COUNTRY_NAME=None, _corrupt_record='226,\"Queens\",\"Sunnyside\",\"Boro Zone\"', count=None),\n",
       " Row(DEST_COUNTRY_NAME=None, ORIGIN_COUNTRY_NAME=None, _corrupt_record='227,\"Brooklyn\",\"Sunset Park East\",\"Boro Zone\"', count=None),\n",
       " Row(DEST_COUNTRY_NAME=None, ORIGIN_COUNTRY_NAME=None, _corrupt_record='228,\"Brooklyn\",\"Sunset Park West\",\"Boro Zone\"', count=None),\n",
       " Row(DEST_COUNTRY_NAME=None, ORIGIN_COUNTRY_NAME=None, _corrupt_record='229,\"Manhattan\",\"Sutton Place/Turtle Bay North\",\"Yellow Zone\"', count=None),\n",
       " Row(DEST_COUNTRY_NAME=None, ORIGIN_COUNTRY_NAME=None, _corrupt_record='230,\"Manhattan\",\"Times Sq/Theatre District\",\"Yellow Zone\"', count=None),\n",
       " Row(DEST_COUNTRY_NAME=None, ORIGIN_COUNTRY_NAME=None, _corrupt_record='231,\"Manhattan\",\"TriBeCa/Civic Center\",\"Yellow Zone\"', count=None),\n",
       " Row(DEST_COUNTRY_NAME=None, ORIGIN_COUNTRY_NAME=None, _corrupt_record='232,\"Manhattan\",\"Two Bridges/Seward Park\",\"Yellow Zone\"', count=None),\n",
       " Row(DEST_COUNTRY_NAME=None, ORIGIN_COUNTRY_NAME=None, _corrupt_record='233,\"Manhattan\",\"UN/Turtle Bay South\",\"Yellow Zone\"', count=None),\n",
       " Row(DEST_COUNTRY_NAME=None, ORIGIN_COUNTRY_NAME=None, _corrupt_record='234,\"Manhattan\",\"Union Sq\",\"Yellow Zone\"', count=None),\n",
       " Row(DEST_COUNTRY_NAME=None, ORIGIN_COUNTRY_NAME=None, _corrupt_record='235,\"Bronx\",\"University Heights/Morris Heights\",\"Boro Zone\"', count=None),\n",
       " Row(DEST_COUNTRY_NAME=None, ORIGIN_COUNTRY_NAME=None, _corrupt_record='236,\"Manhattan\",\"Upper East Side North\",\"Yellow Zone\"', count=None),\n",
       " Row(DEST_COUNTRY_NAME=None, ORIGIN_COUNTRY_NAME=None, _corrupt_record='237,\"Manhattan\",\"Upper East Side South\",\"Yellow Zone\"', count=None),\n",
       " Row(DEST_COUNTRY_NAME=None, ORIGIN_COUNTRY_NAME=None, _corrupt_record='238,\"Manhattan\",\"Upper West Side North\",\"Yellow Zone\"', count=None),\n",
       " Row(DEST_COUNTRY_NAME=None, ORIGIN_COUNTRY_NAME=None, _corrupt_record='239,\"Manhattan\",\"Upper West Side South\",\"Yellow Zone\"', count=None),\n",
       " Row(DEST_COUNTRY_NAME=None, ORIGIN_COUNTRY_NAME=None, _corrupt_record='240,\"Bronx\",\"Van Cortlandt Park\",\"Boro Zone\"', count=None),\n",
       " Row(DEST_COUNTRY_NAME=None, ORIGIN_COUNTRY_NAME=None, _corrupt_record='241,\"Bronx\",\"Van Cortlandt Village\",\"Boro Zone\"', count=None),\n",
       " Row(DEST_COUNTRY_NAME=None, ORIGIN_COUNTRY_NAME=None, _corrupt_record='242,\"Bronx\",\"Van Nest/Morris Park\",\"Boro Zone\"', count=None),\n",
       " Row(DEST_COUNTRY_NAME=None, ORIGIN_COUNTRY_NAME=None, _corrupt_record='243,\"Manhattan\",\"Washington Heights North\",\"Boro Zone\"', count=None),\n",
       " Row(DEST_COUNTRY_NAME=None, ORIGIN_COUNTRY_NAME=None, _corrupt_record='244,\"Manhattan\",\"Washington Heights South\",\"Boro Zone\"', count=None),\n",
       " Row(DEST_COUNTRY_NAME=None, ORIGIN_COUNTRY_NAME=None, _corrupt_record='245,\"Staten Island\",\"West Brighton\",\"Boro Zone\"', count=None),\n",
       " Row(DEST_COUNTRY_NAME=None, ORIGIN_COUNTRY_NAME=None, _corrupt_record='246,\"Manhattan\",\"West Chelsea/Hudson Yards\",\"Yellow Zone\"', count=None),\n",
       " Row(DEST_COUNTRY_NAME=None, ORIGIN_COUNTRY_NAME=None, _corrupt_record='247,\"Bronx\",\"West Concourse\",\"Boro Zone\"', count=None),\n",
       " Row(DEST_COUNTRY_NAME=None, ORIGIN_COUNTRY_NAME=None, _corrupt_record='248,\"Bronx\",\"West Farms/Bronx River\",\"Boro Zone\"', count=None),\n",
       " Row(DEST_COUNTRY_NAME=None, ORIGIN_COUNTRY_NAME=None, _corrupt_record='249,\"Manhattan\",\"West Village\",\"Yellow Zone\"', count=None),\n",
       " Row(DEST_COUNTRY_NAME=None, ORIGIN_COUNTRY_NAME=None, _corrupt_record='250,\"Bronx\",\"Westchester Village/Unionport\",\"Boro Zone\"', count=None),\n",
       " Row(DEST_COUNTRY_NAME=None, ORIGIN_COUNTRY_NAME=None, _corrupt_record='251,\"Staten Island\",\"Westerleigh\",\"Boro Zone\"', count=None),\n",
       " Row(DEST_COUNTRY_NAME=None, ORIGIN_COUNTRY_NAME=None, _corrupt_record='252,\"Queens\",\"Whitestone\",\"Boro Zone\"', count=None),\n",
       " Row(DEST_COUNTRY_NAME=None, ORIGIN_COUNTRY_NAME=None, _corrupt_record='253,\"Queens\",\"Willets Point\",\"Boro Zone\"', count=None),\n",
       " Row(DEST_COUNTRY_NAME=None, ORIGIN_COUNTRY_NAME=None, _corrupt_record='254,\"Bronx\",\"Williamsbridge/Olinville\",\"Boro Zone\"', count=None),\n",
       " Row(DEST_COUNTRY_NAME=None, ORIGIN_COUNTRY_NAME=None, _corrupt_record='255,\"Brooklyn\",\"Williamsburg (North Side)\",\"Boro Zone\"', count=None),\n",
       " Row(DEST_COUNTRY_NAME=None, ORIGIN_COUNTRY_NAME=None, _corrupt_record='256,\"Brooklyn\",\"Williamsburg (South Side)\",\"Boro Zone\"', count=None),\n",
       " Row(DEST_COUNTRY_NAME=None, ORIGIN_COUNTRY_NAME=None, _corrupt_record='257,\"Brooklyn\",\"Windsor Terrace\",\"Boro Zone\"', count=None),\n",
       " Row(DEST_COUNTRY_NAME=None, ORIGIN_COUNTRY_NAME=None, _corrupt_record='258,\"Queens\",\"Woodhaven\",\"Boro Zone\"', count=None),\n",
       " Row(DEST_COUNTRY_NAME=None, ORIGIN_COUNTRY_NAME=None, _corrupt_record='259,\"Bronx\",\"Woodlawn/Wakefield\",\"Boro Zone\"', count=None),\n",
       " Row(DEST_COUNTRY_NAME=None, ORIGIN_COUNTRY_NAME=None, _corrupt_record='260,\"Queens\",\"Woodside\",\"Boro Zone\"', count=None),\n",
       " Row(DEST_COUNTRY_NAME=None, ORIGIN_COUNTRY_NAME=None, _corrupt_record='261,\"Manhattan\",\"World Trade Center\",\"Yellow Zone\"', count=None),\n",
       " Row(DEST_COUNTRY_NAME=None, ORIGIN_COUNTRY_NAME=None, _corrupt_record='262,\"Manhattan\",\"Yorkville East\",\"Yellow Zone\"', count=None),\n",
       " Row(DEST_COUNTRY_NAME=None, ORIGIN_COUNTRY_NAME=None, _corrupt_record='263,\"Manhattan\",\"Yorkville West\",\"Yellow Zone\"', count=None),\n",
       " Row(DEST_COUNTRY_NAME=None, ORIGIN_COUNTRY_NAME=None, _corrupt_record='264,\"Unknown\",\"NV\",\"N/A\"', count=None),\n",
       " Row(DEST_COUNTRY_NAME=None, ORIGIN_COUNTRY_NAME=None, _corrupt_record='265,\"Unknown\",\"NA\",\"N/A\"', count=None),\n",
       " Row(DEST_COUNTRY_NAME=None, ORIGIN_COUNTRY_NAME=None, _corrupt_record='id,item,cateogry,reviews,', count=None),\n",
       " Row(DEST_COUNTRY_NAME=None, ORIGIN_COUNTRY_NAME=None, _corrupt_record='0,짜장면,중식,125,', count=None),\n",
       " Row(DEST_COUNTRY_NAME=None, ORIGIN_COUNTRY_NAME=None, _corrupt_record='1,짬뽕,중식,235,', count=None),\n",
       " Row(DEST_COUNTRY_NAME=None, ORIGIN_COUNTRY_NAME=None, _corrupt_record='2,김밥,분식,32,', count=None),\n",
       " Row(DEST_COUNTRY_NAME=None, ORIGIN_COUNTRY_NAME=None, _corrupt_record='3,떡볶이,분식,534,', count=None),\n",
       " Row(DEST_COUNTRY_NAME=None, ORIGIN_COUNTRY_NAME=None, _corrupt_record='4,라멘,일식,223,', count=None),\n",
       " Row(DEST_COUNTRY_NAME=None, ORIGIN_COUNTRY_NAME=None, _corrupt_record='5,돈가스,일식,52,', count=None),\n",
       " Row(DEST_COUNTRY_NAME=None, ORIGIN_COUNTRY_NAME=None, _corrupt_record='6,우동,일식,12,', count=None),\n",
       " Row(DEST_COUNTRY_NAME=None, ORIGIN_COUNTRY_NAME=None, _corrupt_record='7,쌀국수,아시안,312,', count=None),\n",
       " Row(DEST_COUNTRY_NAME=None, ORIGIN_COUNTRY_NAME=None, _corrupt_record='8,햄버거,패스트푸드,12,', count=None),\n",
       " Row(DEST_COUNTRY_NAME=None, ORIGIN_COUNTRY_NAME=None, _corrupt_record='9,치킨,패스트푸드,23', count=None)]"
      ]
     },
     "execution_count": 7,
     "metadata": {},
     "output_type": "execute_result"
    }
   ],
   "source": [
    "df.collect()"
   ]
  },
  {
   "cell_type": "code",
   "execution_count": 8,
   "id": "f54bec20-d358-476f-a14e-2216e537682a",
   "metadata": {},
   "outputs": [
    {
     "data": {
      "text/plain": [
       "[Row(DEST_COUNTRY_NAME='United States', ORIGIN_COUNTRY_NAME='Romania', _corrupt_record=None, count=15),\n",
       " Row(DEST_COUNTRY_NAME='United States', ORIGIN_COUNTRY_NAME='Croatia', _corrupt_record=None, count=1),\n",
       " Row(DEST_COUNTRY_NAME='United States', ORIGIN_COUNTRY_NAME='Ireland', _corrupt_record=None, count=344)]"
      ]
     },
     "execution_count": 8,
     "metadata": {},
     "output_type": "execute_result"
    }
   ],
   "source": [
    "df.take(3)"
   ]
  },
  {
   "cell_type": "code",
   "execution_count": 9,
   "id": "d5b406a7-3e7d-4587-8a7a-de8e4fb20b0e",
   "metadata": {},
   "outputs": [
    {
     "name": "stdout",
     "output_type": "stream",
     "text": [
      "+-----+\n",
      "|count|\n",
      "+-----+\n",
      "|   15|\n",
      "|    1|\n",
      "|  344|\n",
      "|   15|\n",
      "|   62|\n",
      "+-----+\n",
      "only showing top 5 rows\n",
      "\n"
     ]
    }
   ],
   "source": [
    "df.select('count').show(5)"
   ]
  },
  {
   "cell_type": "code",
   "execution_count": 17,
   "id": "36d531dc-0e7c-4753-b656-a5fb32eadc72",
   "metadata": {},
   "outputs": [
    {
     "name": "stdout",
     "output_type": "stream",
     "text": [
      "+--------------------+\n",
      "|   DEST_COUNTRY_NAME|\n",
      "+--------------------+\n",
      "|            Anguilla|\n",
      "|              Russia|\n",
      "|            Paraguay|\n",
      "|             Senegal|\n",
      "|              Sweden|\n",
      "|            Kiribati|\n",
      "|              Guyana|\n",
      "|         Philippines|\n",
      "|            Djibouti|\n",
      "|            Malaysia|\n",
      "|           Singapore|\n",
      "|                Fiji|\n",
      "|              Turkey|\n",
      "|                Iraq|\n",
      "|             Germany|\n",
      "|              Jordan|\n",
      "|               Palau|\n",
      "|Turks and Caicos ...|\n",
      "|              France|\n",
      "|              Greece|\n",
      "+--------------------+\n",
      "only showing top 20 rows\n",
      "\n"
     ]
    }
   ],
   "source": [
    "# 도착 국가명 중복제거\n",
    "df.select('DEST_COUNTRY_NAME').distinct().show()"
   ]
  },
  {
   "cell_type": "code",
   "execution_count": 19,
   "id": "0a8c2d3d-defd-47b5-a8f2-17461f896bbd",
   "metadata": {},
   "outputs": [
    {
     "data": {
      "text/plain": [
       "133"
      ]
     },
     "execution_count": 19,
     "metadata": {},
     "output_type": "execute_result"
    }
   ],
   "source": [
    "df1 = df.select('DEST_COUNTRY_NAME').distinct().cache()   # 캐시를 사용해 (메모리에 올려놓고 계속 써)\n",
    "df1.count()"
   ]
  },
  {
   "cell_type": "code",
   "execution_count": 20,
   "id": "d1da1aae-2cc2-4c29-a448-cf1f7542e543",
   "metadata": {},
   "outputs": [
    {
     "data": {
      "text/plain": [
       "<Row('hello', None, 1, False)>"
      ]
     },
     "execution_count": 20,
     "metadata": {},
     "output_type": "execute_result"
    }
   ],
   "source": [
    "# ROW class를 이용한 단일 레코드 생성\n",
    "from pyspark.sql import Row\n",
    "myRow = Row('hello', None, 1, False)\n",
    "myRow"
   ]
  },
  {
   "cell_type": "code",
   "execution_count": 22,
   "id": "79c3c1d2-7c98-4fb5-8ed0-ccb5e768467f",
   "metadata": {},
   "outputs": [],
   "source": [
    "# 새로운 컬럼 추가하기\n",
    "from pyspark.sql.functions import expr\n",
    "df3 = df.withColumn('withinCountry', expr('ORIGIN_COUNTRY_NAME == DEST_COUNTRY_NAME'))   # expr은 sql 표현식을 받아 생성 -> 즉, 같은 국가일 경우 withinCountry컬럼에 추가"
   ]
  },
  {
   "cell_type": "code",
   "execution_count": 23,
   "id": "e9b0da07-b3f5-479e-9fb9-a7b996071222",
   "metadata": {},
   "outputs": [
    {
     "name": "stdout",
     "output_type": "stream",
     "text": [
      "+-----------------+-------------------+---------------+-----+-------------+\n",
      "|DEST_COUNTRY_NAME|ORIGIN_COUNTRY_NAME|_corrupt_record|count|withinCountry|\n",
      "+-----------------+-------------------+---------------+-----+-------------+\n",
      "|    United States|            Romania|           NULL|   15|        false|\n",
      "|    United States|            Croatia|           NULL|    1|        false|\n",
      "|    United States|            Ireland|           NULL|  344|        false|\n",
      "+-----------------+-------------------+---------------+-----+-------------+\n",
      "only showing top 3 rows\n",
      "\n"
     ]
    }
   ],
   "source": [
    "df3.show(3)"
   ]
  },
  {
   "cell_type": "code",
   "execution_count": 30,
   "id": "91de17d0-f8b9-4c6c-99eb-adf695345572",
   "metadata": {},
   "outputs": [
    {
     "name": "stdout",
     "output_type": "stream",
     "text": [
      "+-----------------+-------------------+---------------+------+-------------+\n",
      "|DEST_COUNTRY_NAME|ORIGIN_COUNTRY_NAME|_corrupt_record| count|withinCountry|\n",
      "+-----------------+-------------------+---------------+------+-------------+\n",
      "|    United States|      United States|           NULL|370002|         true|\n",
      "+-----------------+-------------------+---------------+------+-------------+\n",
      "\n"
     ]
    }
   ],
   "source": [
    "# withinCountry가 true인 국가 뽑기\n",
    "df3.filter(df3.withinCountry == True).show()"
   ]
  },
  {
   "cell_type": "code",
   "execution_count": 35,
   "id": "e41f1ba9-92a1-4120-b20c-d9fee5bfb563",
   "metadata": {},
   "outputs": [
    {
     "name": "stdout",
     "output_type": "stream",
     "text": [
      "+-----------------+-------------------+---------------+-----+--------+\n",
      "|DEST_COUNTRY_NAME|ORIGIN_COUNTRY_NAME|_corrupt_record|count|Category|\n",
      "+-----------------+-------------------+---------------+-----+--------+\n",
      "|    United States|            Romania|           NULL|   15|   upper|\n",
      "|    United States|            Croatia|           NULL|    1|   under|\n",
      "|    United States|            Ireland|           NULL|  344|   upper|\n",
      "|            Egypt|      United States|           NULL|   15|   upper|\n",
      "|    United States|              India|           NULL|   62|   upper|\n",
      "|    United States|          Singapore|           NULL|    1|   under|\n",
      "|    United States|            Grenada|           NULL|   62|   upper|\n",
      "|       Costa Rica|      United States|           NULL|  588|   upper|\n",
      "|          Senegal|      United States|           NULL|   40|   upper|\n",
      "|          Moldova|      United States|           NULL|    1|   under|\n",
      "+-----------------+-------------------+---------------+-----+--------+\n",
      "only showing top 10 rows\n",
      "\n"
     ]
    }
   ],
   "source": [
    "# case when 이용해서 count가 10이하이면 under, 이상이면 upper로 변환 > category 컬럼 추가\n",
    "df4 = df.withColumn('Category', expr(\"CASE WHEN count<10 THEN 'under' WHEN count>=10 THEN 'upper' END\"))\n",
    "df4.show(10)"
   ]
  },
  {
   "cell_type": "code",
   "execution_count": 36,
   "id": "32be153e-b8ac-482c-bef5-6543168b67e2",
   "metadata": {},
   "outputs": [],
   "source": [
    "# DataFrame의 select(). where(). filter() 트랜스포메이션\n",
    "# show(), count() 액션"
   ]
  },
  {
   "cell_type": "code",
   "execution_count": 37,
   "id": "7a40d129-5758-40e7-90b7-fda5a99fc555",
   "metadata": {},
   "outputs": [],
   "source": [
    "spark.stop()"
   ]
  },
  {
   "cell_type": "code",
   "execution_count": null,
   "id": "ae84c75d-9854-44fe-900e-3cffebf261f3",
   "metadata": {},
   "outputs": [],
   "source": []
  },
  {
   "cell_type": "code",
   "execution_count": 38,
   "id": "d2fb4be8-a4aa-436e-9b1b-4c6d3c705983",
   "metadata": {},
   "outputs": [],
   "source": [
    "# 집계함수\n",
    "# emp_df, dept_df"
   ]
  },
  {
   "cell_type": "code",
   "execution_count": 57,
   "id": "d49cf77b-c71a-46cd-90bc-f899b58863ad",
   "metadata": {},
   "outputs": [
    {
     "name": "stdout",
     "output_type": "stream",
     "text": [
      "root\n",
      " |-- empno: integer (nullable = true)\n",
      " |-- ename: string (nullable = true)\n",
      " |-- job: string (nullable = true)\n",
      " |-- mgr: integer (nullable = true)\n",
      " |-- hiredate: date (nullable = true)\n",
      " |-- sal: integer (nullable = true)\n",
      " |-- comm: integer (nullable = true)\n",
      " |-- deptno: integer (nullable = true)\n",
      "\n"
     ]
    }
   ],
   "source": [
    "#emp_df, dept_df\n",
    "emp_df  = spark.read.format('csv')\\\n",
    "            .option('header', 'true')\\\n",
    "            .option('inferSchema', 'true')\\\n",
    "            .load('learning_spark_data/emp.csv')\n",
    "emp_df.printSchema()"
   ]
  },
  {
   "cell_type": "code",
   "execution_count": 58,
   "id": "1cd7a6c8-10fc-43cd-96de-830c6703a23e",
   "metadata": {},
   "outputs": [
    {
     "name": "stdout",
     "output_type": "stream",
     "text": [
      "+-----+------+--------+----+----------+----+----+------+\n",
      "|empno| ename|     job| mgr|  hiredate| sal|comm|deptno|\n",
      "+-----+------+--------+----+----------+----+----+------+\n",
      "| 7369| SMITH|   CLERK|7902|1980-12-17| 800|NULL|    20|\n",
      "| 7499| ALLEN|SALESMAN|7698|1981-02-20|1600| 300|    30|\n",
      "| 7521|  WARD|SALESMAN|7698|1981-02-22|1250| 500|    30|\n",
      "| 7566| JONES| MANAGER|7839|1981-04-02|2975|NULL|    20|\n",
      "| 7654|MARTIN|SALESMAN|7698|1981-09-28|1250|1400|    30|\n",
      "+-----+------+--------+----+----------+----+----+------+\n",
      "only showing top 5 rows\n",
      "\n"
     ]
    }
   ],
   "source": [
    "emp_df.show(5)"
   ]
  },
  {
   "cell_type": "code",
   "execution_count": 59,
   "id": "7383260c-927f-461b-9c7b-310f4bf3bb5f",
   "metadata": {},
   "outputs": [
    {
     "name": "stdout",
     "output_type": "stream",
     "text": [
      "root\n",
      " |-- deptno: integer (nullable = true)\n",
      " |-- dname: string (nullable = true)\n",
      " |-- loc: string (nullable = true)\n",
      "\n"
     ]
    }
   ],
   "source": [
    "dept_df  = spark.read.format('csv')\\\n",
    "            .option('header', 'true')\\\n",
    "            .option('inferSchema', 'true')\\\n",
    "            .load('learning_spark_data/dept.csv')\n",
    "dept_df.printSchema()"
   ]
  },
  {
   "cell_type": "code",
   "execution_count": 60,
   "id": "2334d024-37a6-4a7d-b0f4-a78233b0a9a2",
   "metadata": {},
   "outputs": [
    {
     "name": "stdout",
     "output_type": "stream",
     "text": [
      "+------+----------+--------+\n",
      "|deptno|     dname|     loc|\n",
      "+------+----------+--------+\n",
      "|    10|ACCOUNTING|NEW YORK|\n",
      "|    20|  RESEARCH|  DALLAS|\n",
      "|    30|     SALES| CHICAGO|\n",
      "|    40|OPERATIONS|  BOSTON|\n",
      "+------+----------+--------+\n",
      "\n"
     ]
    }
   ],
   "source": [
    "dept_df.show(5)"
   ]
  },
  {
   "cell_type": "code",
   "execution_count": 62,
   "id": "b67e6451-8d3f-4f72-8cc6-bfabe21eb083",
   "metadata": {},
   "outputs": [
    {
     "name": "stdout",
     "output_type": "stream",
     "text": [
      "+------+------+\n",
      "| ENAME|DEPTNO|\n",
      "+------+------+\n",
      "| SMITH|    20|\n",
      "| ALLEN|    30|\n",
      "|  WARD|    30|\n",
      "| JONES|    20|\n",
      "|MARTIN|    30|\n",
      "| BLAKE|    30|\n",
      "| CLARK|    10|\n",
      "| SCOTT|    20|\n",
      "|  KING|    10|\n",
      "|TURNER|    30|\n",
      "| ADAMS|    20|\n",
      "| JAMES|    30|\n",
      "|  FORD|    20|\n",
      "|MILLER|    10|\n",
      "|  JACK|    70|\n",
      "+------+------+\n",
      "\n"
     ]
    }
   ],
   "source": [
    "# 대소문자 구분 X\n",
    "emp_df.select('ENAME', 'DEPTNO').show()"
   ]
  },
  {
   "cell_type": "code",
   "execution_count": 63,
   "id": "5dc028a2-ee4f-453e-8de9-da991cda38ad",
   "metadata": {},
   "outputs": [
    {
     "name": "stdout",
     "output_type": "stream",
     "text": [
      "+-----+-----+-------+----+----------+----+----+------+\n",
      "|empno|ename|    job| mgr|  hiredate| sal|comm|deptno|\n",
      "+-----+-----+-------+----+----------+----+----+------+\n",
      "| 7369|SMITH|  CLERK|7902|1980-12-17| 800|NULL|    20|\n",
      "| 7566|JONES|MANAGER|7839|1981-04-02|2975|NULL|    20|\n",
      "| 7788|SCOTT|ANALYST|7566|1987-04-19|3000|NULL|    20|\n",
      "| 7876|ADAMS|  CLERK|7788|1987-05-23|1100|NULL|    20|\n",
      "| 7902| FORD|ANALYST|7566|1981-12-03|3000|NULL|    20|\n",
      "+-----+-----+-------+----+----------+----+----+------+\n",
      "\n"
     ]
    }
   ],
   "source": [
    "# filter()와 동일\n",
    "emp_df.select('*').where('deptno=20').show()"
   ]
  },
  {
   "cell_type": "code",
   "execution_count": 64,
   "id": "0b9dc0fe-51d2-4712-bf50-f2de3d314b2e",
   "metadata": {},
   "outputs": [
    {
     "name": "stdout",
     "output_type": "stream",
     "text": [
      "+--------+\n",
      "|count(1)|\n",
      "+--------+\n",
      "|      15|\n",
      "+--------+\n",
      "\n"
     ]
    }
   ],
   "source": [
    "emp_df.selectExpr('count(*)').show()   # 문자열로 count는 sql"
   ]
  },
  {
   "cell_type": "code",
   "execution_count": 65,
   "id": "9c6da122-ab44-42a6-aaaa-aec408a41a20",
   "metadata": {},
   "outputs": [
    {
     "name": "stdout",
     "output_type": "stream",
     "text": [
      "+-------------------+\n",
      "|count(DISTINCT job)|\n",
      "+-------------------+\n",
      "|                  5|\n",
      "+-------------------+\n",
      "\n"
     ]
    }
   ],
   "source": [
    "from pyspark.sql.functions import countDistinct\n",
    "\n",
    "emp_df.select( countDistinct('job')).show()"
   ]
  },
  {
   "cell_type": "code",
   "execution_count": 66,
   "id": "a8b7e1d4-8628-496e-8f33-cd75a96d4722",
   "metadata": {},
   "outputs": [
    {
     "name": "stdout",
     "output_type": "stream",
     "text": [
      "+--------------------------+\n",
      "|approx_count_distinct(job)|\n",
      "+--------------------------+\n",
      "|                         5|\n",
      "+--------------------------+\n",
      "\n"
     ]
    }
   ],
   "source": [
    "from pyspark.sql.functions import approx_count_distinct\n",
    "\n",
    "emp_df.select( approx_count_distinct('job', 0.1)).show()"
   ]
  },
  {
   "cell_type": "code",
   "execution_count": 67,
   "id": "26f9723a-343c-4ea4-b027-cb525c5bdf3f",
   "metadata": {},
   "outputs": [],
   "source": [
    "# first, last, min, max, sum, avg를 -> (Expr로(sql 문장) 해보고,) function으로 처리"
   ]
  },
  {
   "cell_type": "code",
   "execution_count": 69,
   "id": "3aa6362a-55b0-41b5-a4bb-98bf313f1360",
   "metadata": {},
   "outputs": [
    {
     "name": "stdout",
     "output_type": "stream",
     "text": [
      "+----------+\n",
      "|first(sal)|\n",
      "+----------+\n",
      "|       800|\n",
      "+----------+\n",
      "\n"
     ]
    }
   ],
   "source": [
    "from pyspark.sql.functions import first\n",
    "\n",
    "emp_df.select( first('sal') ).show()"
   ]
  },
  {
   "cell_type": "code",
   "execution_count": 70,
   "id": "55e16880-fcb0-4d9f-846f-70e29cc82b3a",
   "metadata": {},
   "outputs": [
    {
     "name": "stdout",
     "output_type": "stream",
     "text": [
      "+---------+\n",
      "|last(sal)|\n",
      "+---------+\n",
      "|     3200|\n",
      "+---------+\n",
      "\n"
     ]
    }
   ],
   "source": [
    "from pyspark.sql.functions import last\n",
    "\n",
    "emp_df.select( last('sal') ).show()"
   ]
  },
  {
   "cell_type": "code",
   "execution_count": 71,
   "id": "20d36efb-d0e8-487d-94c9-88c8af7316bc",
   "metadata": {},
   "outputs": [
    {
     "name": "stdout",
     "output_type": "stream",
     "text": [
      "+--------+\n",
      "|min(sal)|\n",
      "+--------+\n",
      "|     800|\n",
      "+--------+\n",
      "\n"
     ]
    }
   ],
   "source": [
    "from pyspark.sql.functions import min\n",
    "\n",
    "emp_df.select( min('sal') ).show()"
   ]
  },
  {
   "cell_type": "code",
   "execution_count": 72,
   "id": "e26c75f1-32e9-4fa1-9469-f66bec687b59",
   "metadata": {},
   "outputs": [
    {
     "name": "stdout",
     "output_type": "stream",
     "text": [
      "+--------+\n",
      "|max(sal)|\n",
      "+--------+\n",
      "|    5000|\n",
      "+--------+\n",
      "\n"
     ]
    }
   ],
   "source": [
    "from pyspark.sql.functions import max\n",
    "\n",
    "emp_df.select( max('sal') ).show()"
   ]
  },
  {
   "cell_type": "code",
   "execution_count": 73,
   "id": "9f6894cf-1c69-48a3-8c06-e5d05eaf73a8",
   "metadata": {},
   "outputs": [
    {
     "name": "stdout",
     "output_type": "stream",
     "text": [
      "+--------+\n",
      "|sum(sal)|\n",
      "+--------+\n",
      "|   32225|\n",
      "+--------+\n",
      "\n"
     ]
    }
   ],
   "source": [
    "from pyspark.sql.functions import sum\n",
    "\n",
    "emp_df.select( sum('sal') ).show()"
   ]
  },
  {
   "cell_type": "code",
   "execution_count": 74,
   "id": "8cd9596a-7442-4fcb-b3b2-4836dbd25749",
   "metadata": {},
   "outputs": [
    {
     "name": "stdout",
     "output_type": "stream",
     "text": [
      "+------------------+\n",
      "|          avg(sal)|\n",
      "+------------------+\n",
      "|2148.3333333333335|\n",
      "+------------------+\n",
      "\n"
     ]
    }
   ],
   "source": [
    "from pyspark.sql.functions import avg\n",
    "\n",
    "emp_df.select( avg('sal') ).show()"
   ]
  },
  {
   "cell_type": "code",
   "execution_count": 76,
   "id": "83488784-7cf4-4f7c-b175-dc0bfbc8f44d",
   "metadata": {},
   "outputs": [],
   "source": [
    "# total_salaty / total_transaction, avg_salary, mean_salaty 비교"
   ]
  },
  {
   "cell_type": "code",
   "execution_count": 80,
   "id": "6e36c0d6-307e-4208-8c44-3f68ed5a7c59",
   "metadata": {},
   "outputs": [],
   "source": [
    "from pyspark.sql.functions import count, mean"
   ]
  },
  {
   "cell_type": "code",
   "execution_count": 81,
   "id": "d6311a5a-3e63-4390-a0c1-bd7ade9638ab",
   "metadata": {},
   "outputs": [
    {
     "name": "stdout",
     "output_type": "stream",
     "text": [
      "+----------------------------------+------------------+------------------+\n",
      "|(total_salary / total_transaction)|        avg_salary|       mean_salary|\n",
      "+----------------------------------+------------------+------------------+\n",
      "|                2148.3333333333335|2148.3333333333335|2148.3333333333335|\n",
      "+----------------------------------+------------------+------------------+\n",
      "\n"
     ]
    }
   ],
   "source": [
    "emp_df.select(\n",
    "    count('sal').alias('total_transaction'),\n",
    "    sum('sal').alias('total_salary'),\n",
    "    avg('sal').alias('avg_salary'),\n",
    "    mean('sal').alias('mean_salary')\n",
    ").selectExpr(\n",
    "    'total_salary/total_transaction',\n",
    "    'avg_salary',\n",
    "    'mean_salary'\n",
    ").show()"
   ]
  },
  {
   "cell_type": "code",
   "execution_count": 82,
   "id": "37485c9a-1dd5-4b72-9b9a-1d71468d69e1",
   "metadata": {},
   "outputs": [
    {
     "name": "stdout",
     "output_type": "stream",
     "text": [
      "+---------+-----+\n",
      "|      job|count|\n",
      "+---------+-----+\n",
      "|  ANALYST|    2|\n",
      "| SALESMAN|    4|\n",
      "|    CLERK|    5|\n",
      "|  MANAGER|    3|\n",
      "|PRESIDENT|    1|\n",
      "+---------+-----+\n",
      "\n"
     ]
    }
   ],
   "source": [
    "# 그룹화\n",
    "emp_df.groupBy('job').count().show()"
   ]
  },
  {
   "cell_type": "code",
   "execution_count": 84,
   "id": "def24ded-a3b9-4675-93d9-0a5feba37e7c",
   "metadata": {},
   "outputs": [
    {
     "name": "stdout",
     "output_type": "stream",
     "text": [
      "+---------+---+----------+--------+\n",
      "|      job|qty|count(job)|sum(sal)|\n",
      "+---------+---+----------+--------+\n",
      "|  ANALYST|  2|         2|    6000|\n",
      "| SALESMAN|  4|         4|    5600|\n",
      "|    CLERK|  5|         5|    7350|\n",
      "|  MANAGER|  3|         3|    8275|\n",
      "|PRESIDENT|  1|         1|    5000|\n",
      "+---------+---+----------+--------+\n",
      "\n"
     ]
    }
   ],
   "source": [
    "#select job,\n",
    "#    count(job),\n",
    "#    sum(sal)\n",
    "#group by job\n",
    "\n",
    "group_df = emp_df.groupBy('job').agg(\n",
    "    count('job').alias('qty'),\n",
    "    expr('count(job)'),\n",
    "    sum('sal')\n",
    ")\n",
    "group_df.show()"
   ]
  },
  {
   "cell_type": "code",
   "execution_count": 85,
   "id": "71e634f7-f7f3-4ed0-a7f8-45493248e3bf",
   "metadata": {},
   "outputs": [],
   "source": [
    "# sal의 평균(SAL_AVG), 표준편차를(SAL_STDEV) job별로 계산해서 출력, 소수점2자리까지"
   ]
  },
  {
   "cell_type": "code",
   "execution_count": 92,
   "id": "70754139-1668-4b2b-8991-f6b1277a9469",
   "metadata": {},
   "outputs": [],
   "source": [
    "from pyspark.sql.functions import std, round"
   ]
  },
  {
   "cell_type": "code",
   "execution_count": 94,
   "id": "45b0cea9-2232-4a88-b6fd-9d2ba1452806",
   "metadata": {},
   "outputs": [
    {
     "name": "stdout",
     "output_type": "stream",
     "text": [
      "+---------+-------+---------+\n",
      "|      job|SAL_AVG|SAL_STDEV|\n",
      "+---------+-------+---------+\n",
      "|  ANALYST| 3000.0|      0.0|\n",
      "| SALESMAN| 1400.0|   177.95|\n",
      "|    CLERK| 1470.0|   984.63|\n",
      "|  MANAGER|2758.33|   274.24|\n",
      "|PRESIDENT| 5000.0|     NULL|\n",
      "+---------+-------+---------+\n",
      "\n"
     ]
    }
   ],
   "source": [
    "emp_df.groupBy('job').agg(\n",
    "    round(avg('sal'), 2).alias('SAL_AVG'),\n",
    "    round(std('sal'), 2).alias('SAL_STDEV')\n",
    ").show()"
   ]
  },
  {
   "cell_type": "code",
   "execution_count": 91,
   "id": "58f15a80-feae-48b3-8837-4085c355b900",
   "metadata": {},
   "outputs": [],
   "source": [
    "# 급여 TOP10 구하기"
   ]
  },
  {
   "cell_type": "code",
   "execution_count": 98,
   "id": "5e39c147-0c92-4ea6-b5df-2d0ce86b3e19",
   "metadata": {},
   "outputs": [],
   "source": [
    "from pyspark.sql.functions import desc"
   ]
  },
  {
   "cell_type": "code",
   "execution_count": 99,
   "id": "882a7836-f18c-4ab2-adb4-abafb8029f1d",
   "metadata": {},
   "outputs": [
    {
     "name": "stdout",
     "output_type": "stream",
     "text": [
      "+-----+------+---------+----+----------+----+----+------+\n",
      "|empno| ename|      job| mgr|  hiredate| sal|comm|deptno|\n",
      "+-----+------+---------+----+----------+----+----+------+\n",
      "| 7839|  KING|PRESIDENT|NULL|1981-11-17|5000|NULL|    10|\n",
      "| 9292|  JACK|    CLERK|7782|1982-01-23|3200|NULL|    70|\n",
      "| 7788| SCOTT|  ANALYST|7566|1987-04-19|3000|NULL|    20|\n",
      "| 7902|  FORD|  ANALYST|7566|1981-12-03|3000|NULL|    20|\n",
      "| 7566| JONES|  MANAGER|7839|1981-04-02|2975|NULL|    20|\n",
      "| 7698| BLAKE|  MANAGER|7839|1981-05-01|2850|NULL|    30|\n",
      "| 7782| CLARK|  MANAGER|7839|1981-06-09|2450|NULL|    10|\n",
      "| 7499| ALLEN| SALESMAN|7698|1981-02-20|1600| 300|    30|\n",
      "| 7844|TURNER| SALESMAN|7698|1981-09-08|1500|   0|    30|\n",
      "| 7934|MILLER|    CLERK|7782|1982-01-23|1300|NULL|    10|\n",
      "+-----+------+---------+----+----------+----+----+------+\n",
      "\n"
     ]
    }
   ],
   "source": [
    "emp_df.orderBy(desc('sal')).limit(10).show()"
   ]
  },
  {
   "cell_type": "code",
   "execution_count": 100,
   "id": "cb4d48b6-7234-4dd1-85a0-56eceae8e017",
   "metadata": {},
   "outputs": [],
   "source": [
    "# 강사님 답 : 윈도우 함수"
   ]
  },
  {
   "cell_type": "code",
   "execution_count": 102,
   "id": "8fed99e3-fe87-4208-b1c5-9e91bf442a9a",
   "metadata": {},
   "outputs": [],
   "source": [
    "from pyspark.sql.functions import desc, rank"
   ]
  },
  {
   "cell_type": "code",
   "execution_count": 111,
   "id": "b84060f5-3611-402a-abcc-8be08fdb5665",
   "metadata": {},
   "outputs": [
    {
     "data": {
      "text/plain": [
       "Column<'RANK() OVER (ORDER BY sal DESC NULLS LAST unspecifiedframe$())'>"
      ]
     },
     "execution_count": 111,
     "metadata": {},
     "output_type": "execute_result"
    }
   ],
   "source": [
    "from pyspark.sql.window import Window\n",
    "windowspec = Window.orderBy(desc('sal'))\n",
    "salAllRank = rank().over(windowspec)\n",
    "salAllRank"
   ]
  },
  {
   "cell_type": "code",
   "execution_count": 112,
   "id": "fee4802b-1c2d-4c4f-8650-3d71dc451d1c",
   "metadata": {},
   "outputs": [
    {
     "name": "stdout",
     "output_type": "stream",
     "text": [
      "+-----+------+---------+----+----------+----+----+------+-----------+\n",
      "|empno| ename|      job| mgr|  hiredate| sal|comm|deptno|salary_rank|\n",
      "+-----+------+---------+----+----------+----+----+------+-----------+\n",
      "| 7839|  KING|PRESIDENT|NULL|1981-11-17|5000|NULL|    10|          1|\n",
      "| 9292|  JACK|    CLERK|7782|1982-01-23|3200|NULL|    70|          2|\n",
      "| 7788| SCOTT|  ANALYST|7566|1987-04-19|3000|NULL|    20|          3|\n",
      "| 7902|  FORD|  ANALYST|7566|1981-12-03|3000|NULL|    20|          3|\n",
      "| 7566| JONES|  MANAGER|7839|1981-04-02|2975|NULL|    20|          5|\n",
      "| 7698| BLAKE|  MANAGER|7839|1981-05-01|2850|NULL|    30|          6|\n",
      "| 7782| CLARK|  MANAGER|7839|1981-06-09|2450|NULL|    10|          7|\n",
      "| 7499| ALLEN| SALESMAN|7698|1981-02-20|1600| 300|    30|          8|\n",
      "| 7844|TURNER| SALESMAN|7698|1981-09-08|1500|   0|    30|          9|\n",
      "| 7934|MILLER|    CLERK|7782|1982-01-23|1300|NULL|    10|         10|\n",
      "+-----+------+---------+----+----------+----+----+------+-----------+\n",
      "only showing top 10 rows\n",
      "\n"
     ]
    }
   ],
   "source": [
    "emp_df.withColumn('salary_rank', salAllRank).show(10)"
   ]
  },
  {
   "cell_type": "code",
   "execution_count": 114,
   "id": "f6188916-fa0b-4983-b99f-b4432e20ecb1",
   "metadata": {},
   "outputs": [],
   "source": [
    "# 직무별로 rank 작성\n",
    "# Window.partitionBy()\n",
    "# job_rank_df 작성"
   ]
  },
  {
   "cell_type": "code",
   "execution_count": 116,
   "id": "43a681d4-88e5-4b2d-8b89-98ae8d8dd0ba",
   "metadata": {},
   "outputs": [
    {
     "name": "stdout",
     "output_type": "stream",
     "text": [
      "+-----+------+---------+----+----------+----+----+------+--------+\n",
      "|empno| ename|      job| mgr|  hiredate| sal|comm|deptno|job_rank|\n",
      "+-----+------+---------+----+----------+----+----+------+--------+\n",
      "| 7788| SCOTT|  ANALYST|7566|1987-04-19|3000|NULL|    20|       1|\n",
      "| 7902|  FORD|  ANALYST|7566|1981-12-03|3000|NULL|    20|       1|\n",
      "| 9292|  JACK|    CLERK|7782|1982-01-23|3200|NULL|    70|       1|\n",
      "| 7934|MILLER|    CLERK|7782|1982-01-23|1300|NULL|    10|       2|\n",
      "| 7876| ADAMS|    CLERK|7788|1987-05-23|1100|NULL|    20|       3|\n",
      "| 7900| JAMES|    CLERK|7698|1981-12-03| 950|NULL|    30|       4|\n",
      "| 7369| SMITH|    CLERK|7902|1980-12-17| 800|NULL|    20|       5|\n",
      "| 7566| JONES|  MANAGER|7839|1981-04-02|2975|NULL|    20|       1|\n",
      "| 7698| BLAKE|  MANAGER|7839|1981-05-01|2850|NULL|    30|       2|\n",
      "| 7782| CLARK|  MANAGER|7839|1981-06-09|2450|NULL|    10|       3|\n",
      "| 7839|  KING|PRESIDENT|NULL|1981-11-17|5000|NULL|    10|       1|\n",
      "| 7499| ALLEN| SALESMAN|7698|1981-02-20|1600| 300|    30|       1|\n",
      "| 7844|TURNER| SALESMAN|7698|1981-09-08|1500|   0|    30|       2|\n",
      "| 7521|  WARD| SALESMAN|7698|1981-02-22|1250| 500|    30|       3|\n",
      "| 7654|MARTIN| SALESMAN|7698|1981-09-28|1250|1400|    30|       3|\n",
      "+-----+------+---------+----+----------+----+----+------+--------+\n",
      "\n"
     ]
    }
   ],
   "source": [
    "windowspec_job = Window.partitionBy('job').orderBy(desc('sal'))\n",
    "job_rank = rank().over(windowspec_job)\n",
    "\n",
    "job_rank_df = emp_df.withColumn('job_rank', job_rank)\n",
    "job_rank_df.show()"
   ]
  },
  {
   "cell_type": "code",
   "execution_count": 119,
   "id": "b1f42498-13cd-43ef-9d16-5973df408056",
   "metadata": {},
   "outputs": [],
   "source": [
    "# 부서별 연봉 순위"
   ]
  },
  {
   "cell_type": "code",
   "execution_count": 120,
   "id": "10445ace-cae8-41e0-b93f-dd5e6d288f81",
   "metadata": {},
   "outputs": [
    {
     "name": "stdout",
     "output_type": "stream",
     "text": [
      "+-----+------+---------+----+----------+----+----+------+---------+\n",
      "|empno| ename|      job| mgr|  hiredate| sal|comm|deptno|dept_rank|\n",
      "+-----+------+---------+----+----------+----+----+------+---------+\n",
      "| 7839|  KING|PRESIDENT|NULL|1981-11-17|5000|NULL|    10|        1|\n",
      "| 7782| CLARK|  MANAGER|7839|1981-06-09|2450|NULL|    10|        2|\n",
      "| 7934|MILLER|    CLERK|7782|1982-01-23|1300|NULL|    10|        3|\n",
      "| 7788| SCOTT|  ANALYST|7566|1987-04-19|3000|NULL|    20|        1|\n",
      "| 7902|  FORD|  ANALYST|7566|1981-12-03|3000|NULL|    20|        1|\n",
      "| 7566| JONES|  MANAGER|7839|1981-04-02|2975|NULL|    20|        3|\n",
      "| 7876| ADAMS|    CLERK|7788|1987-05-23|1100|NULL|    20|        4|\n",
      "| 7369| SMITH|    CLERK|7902|1980-12-17| 800|NULL|    20|        5|\n",
      "| 7698| BLAKE|  MANAGER|7839|1981-05-01|2850|NULL|    30|        1|\n",
      "| 7499| ALLEN| SALESMAN|7698|1981-02-20|1600| 300|    30|        2|\n",
      "| 7844|TURNER| SALESMAN|7698|1981-09-08|1500|   0|    30|        3|\n",
      "| 7521|  WARD| SALESMAN|7698|1981-02-22|1250| 500|    30|        4|\n",
      "| 7654|MARTIN| SALESMAN|7698|1981-09-28|1250|1400|    30|        4|\n",
      "| 7900| JAMES|    CLERK|7698|1981-12-03| 950|NULL|    30|        6|\n",
      "| 9292|  JACK|    CLERK|7782|1982-01-23|3200|NULL|    70|        1|\n",
      "+-----+------+---------+----+----------+----+----+------+---------+\n",
      "\n"
     ]
    }
   ],
   "source": [
    "windowspec_dept = Window.partitionBy('deptno').orderBy(desc('sal'))\n",
    "\n",
    "dept_rank = rank().over(windowspec_dept)\n",
    "\n",
    "dept_rank_df = emp_df.withColumn('dept_rank', dept_rank)\n",
    "dept_rank_df.show()"
   ]
  },
  {
   "cell_type": "code",
   "execution_count": null,
   "id": "29019b6f-1703-491d-a8b8-adac726f51d6",
   "metadata": {},
   "outputs": [],
   "source": []
  },
  {
   "cell_type": "code",
   "execution_count": null,
   "id": "6de1c4e5-d318-41c9-9d4c-38219ef976ea",
   "metadata": {},
   "outputs": [],
   "source": [
    "# 부서별 누적급여sum('sal').over"
   ]
  },
  {
   "cell_type": "code",
   "execution_count": 121,
   "id": "e8304504-7666-408b-8a3e-af214ae5965d",
   "metadata": {},
   "outputs": [
    {
     "name": "stdout",
     "output_type": "stream",
     "text": [
      "+-----+------+---------+----+----------+----+----+------+-----------+\n",
      "|empno| ename|      job| mgr|  hiredate| sal|comm|deptno|sal_cum_sum|\n",
      "+-----+------+---------+----+----------+----+----+------+-----------+\n",
      "| 7839|  KING|PRESIDENT|NULL|1981-11-17|5000|NULL|    10|       5000|\n",
      "| 7782| CLARK|  MANAGER|7839|1981-06-09|2450|NULL|    10|       7450|\n",
      "| 7934|MILLER|    CLERK|7782|1982-01-23|1300|NULL|    10|       8750|\n",
      "| 7788| SCOTT|  ANALYST|7566|1987-04-19|3000|NULL|    20|       6000|\n",
      "| 7902|  FORD|  ANALYST|7566|1981-12-03|3000|NULL|    20|       6000|\n",
      "| 7566| JONES|  MANAGER|7839|1981-04-02|2975|NULL|    20|       8975|\n",
      "| 7876| ADAMS|    CLERK|7788|1987-05-23|1100|NULL|    20|      10075|\n",
      "| 7369| SMITH|    CLERK|7902|1980-12-17| 800|NULL|    20|      10875|\n",
      "| 7698| BLAKE|  MANAGER|7839|1981-05-01|2850|NULL|    30|       2850|\n",
      "| 7499| ALLEN| SALESMAN|7698|1981-02-20|1600| 300|    30|       4450|\n",
      "| 7844|TURNER| SALESMAN|7698|1981-09-08|1500|   0|    30|       5950|\n",
      "| 7521|  WARD| SALESMAN|7698|1981-02-22|1250| 500|    30|       8450|\n",
      "| 7654|MARTIN| SALESMAN|7698|1981-09-28|1250|1400|    30|       8450|\n",
      "| 7900| JAMES|    CLERK|7698|1981-12-03| 950|NULL|    30|       9400|\n",
      "| 9292|  JACK|    CLERK|7782|1982-01-23|3200|NULL|    70|       3200|\n",
      "+-----+------+---------+----+----------+----+----+------+-----------+\n",
      "\n"
     ]
    }
   ],
   "source": [
    "dept_cum_sal_df = emp_df.withColumn('sal_cum_sum', sum('sal').over(windowspec_dept))\n",
    "\n",
    "dept_cum_sal_df.show()"
   ]
  },
  {
   "cell_type": "code",
   "execution_count": null,
   "id": "130cf3a1-0540-4809-974a-d5d78d1737c9",
   "metadata": {},
   "outputs": [],
   "source": []
  },
  {
   "cell_type": "code",
   "execution_count": null,
   "id": "988f5481-34c2-4222-b63e-4cb8b3770b42",
   "metadata": {},
   "outputs": [],
   "source": [
    "# 부서별 평균급여와 직원 개별 급여 비교"
   ]
  },
  {
   "cell_type": "code",
   "execution_count": 124,
   "id": "22b795e1-a9a4-439e-a40b-38cddc0be736",
   "metadata": {},
   "outputs": [],
   "source": [
    "from pyspark.sql.functions import col"
   ]
  },
  {
   "cell_type": "code",
   "execution_count": 125,
   "id": "cc14ae5a-44ad-4432-91e2-8e0efd29d24b",
   "metadata": {},
   "outputs": [
    {
     "name": "stdout",
     "output_type": "stream",
     "text": [
      "+-----+------+---------+----+----------+----+----+------+------------------+----------+\n",
      "|empno| ename|      job| mgr|  hiredate| sal|comm|deptno|      dept_avg_sal|sal_vs_avg|\n",
      "+-----+------+---------+----+----------+----+----+------+------------------+----------+\n",
      "| 7782| CLARK|  MANAGER|7839|1981-06-09|2450|NULL|    10|2916.6666666666665|     false|\n",
      "| 7839|  KING|PRESIDENT|NULL|1981-11-17|5000|NULL|    10|2916.6666666666665|      true|\n",
      "| 7934|MILLER|    CLERK|7782|1982-01-23|1300|NULL|    10|2916.6666666666665|     false|\n",
      "| 7369| SMITH|    CLERK|7902|1980-12-17| 800|NULL|    20|            2175.0|     false|\n",
      "| 7566| JONES|  MANAGER|7839|1981-04-02|2975|NULL|    20|            2175.0|      true|\n",
      "| 7788| SCOTT|  ANALYST|7566|1987-04-19|3000|NULL|    20|            2175.0|      true|\n",
      "| 7876| ADAMS|    CLERK|7788|1987-05-23|1100|NULL|    20|            2175.0|     false|\n",
      "| 7902|  FORD|  ANALYST|7566|1981-12-03|3000|NULL|    20|            2175.0|      true|\n",
      "| 7499| ALLEN| SALESMAN|7698|1981-02-20|1600| 300|    30|1566.6666666666667|      true|\n",
      "| 7521|  WARD| SALESMAN|7698|1981-02-22|1250| 500|    30|1566.6666666666667|     false|\n",
      "| 7654|MARTIN| SALESMAN|7698|1981-09-28|1250|1400|    30|1566.6666666666667|     false|\n",
      "| 7698| BLAKE|  MANAGER|7839|1981-05-01|2850|NULL|    30|1566.6666666666667|      true|\n",
      "| 7844|TURNER| SALESMAN|7698|1981-09-08|1500|   0|    30|1566.6666666666667|     false|\n",
      "| 7900| JAMES|    CLERK|7698|1981-12-03| 950|NULL|    30|1566.6666666666667|     false|\n",
      "| 9292|  JACK|    CLERK|7782|1982-01-23|3200|NULL|    70|            3200.0|     false|\n",
      "+-----+------+---------+----+----------+----+----+------+------------------+----------+\n",
      "\n"
     ]
    }
   ],
   "source": [
    "windowspec_dept1 = Window.partitionBy('deptno')\n",
    "\n",
    "emp_with_avg_sal_df = emp_df.withColumn('dept_avg_sal', avg('sal').over(windowspec_dept1))\n",
    "\n",
    "final_df = emp_with_avg_sal_df.withColumn(\n",
    "    'sal_vs_avg',\n",
    "    col('sal') > col('dept_avg_sal')\n",
    ")\n",
    "\n",
    "# 결과 출력\n",
    "final_df.show()"
   ]
  },
  {
   "cell_type": "code",
   "execution_count": null,
   "id": "2d72fcdb-fb89-4704-b966-3008cec77eb8",
   "metadata": {},
   "outputs": [],
   "source": []
  },
  {
   "cell_type": "code",
   "execution_count": 126,
   "id": "baf5beca-dfd5-4a8e-bfd0-cafc73217e22",
   "metadata": {},
   "outputs": [],
   "source": [
    "# 부서별 직업별 소개"
   ]
  },
  {
   "cell_type": "code",
   "execution_count": 127,
   "id": "7beea52f-ee7a-4872-9942-6c1496a1a0ce",
   "metadata": {},
   "outputs": [
    {
     "name": "stdout",
     "output_type": "stream",
     "text": [
      "+------+---------+--------+--------+\n",
      "|deptno|      job|count(1)|sum(sal)|\n",
      "+------+---------+--------+--------+\n",
      "|    10|    CLERK|       1|    1300|\n",
      "|    10|  MANAGER|       1|    2450|\n",
      "|    10|PRESIDENT|       1|    5000|\n",
      "|    20|  ANALYST|       2|    6000|\n",
      "|    20|    CLERK|       2|    1900|\n",
      "+------+---------+--------+--------+\n",
      "only showing top 5 rows\n",
      "\n"
     ]
    }
   ],
   "source": [
    "emp_df.groupBy('deptno', 'job').agg(count('*'), sum('sal'))\\\n",
    "    .orderBy('deptno', 'job').show(5)"
   ]
  },
  {
   "cell_type": "code",
   "execution_count": 129,
   "id": "f1de9927-efd8-4b7d-bd7a-6d5d81c85fb3",
   "metadata": {},
   "outputs": [
    {
     "name": "stdout",
     "output_type": "stream",
     "text": [
      "+------+---------+--------+--------+\n",
      "|deptno|      job|count(1)|sum(sal)|\n",
      "+------+---------+--------+--------+\n",
      "|  NULL|     NULL|      15|   32225|\n",
      "|  NULL|  ANALYST|       2|    6000|\n",
      "|  NULL|    CLERK|       5|    7350|\n",
      "|  NULL|  MANAGER|       3|    8275|\n",
      "|  NULL|PRESIDENT|       1|    5000|\n",
      "+------+---------+--------+--------+\n",
      "only showing top 5 rows\n",
      "\n"
     ]
    }
   ],
   "source": [
    "emp_df.cube('deptno', 'job').agg(count('*'), sum('sal'))\\\n",
    "    .orderBy('deptno', 'job').show(5)   # 평균급, 최대급, 최소급"
   ]
  },
  {
   "cell_type": "code",
   "execution_count": null,
   "id": "201bb7ba-51f3-4c96-bb38-5b18df6eae94",
   "metadata": {},
   "outputs": [],
   "source": []
  },
  {
   "cell_type": "code",
   "execution_count": null,
   "id": "5d7c27cc-8f61-488a-bb9c-a7a7e6ceb0ca",
   "metadata": {},
   "outputs": [],
   "source": []
  },
  {
   "cell_type": "code",
   "execution_count": null,
   "id": "b76dfd17-f0aa-45cc-ab76-b155d50e5bd0",
   "metadata": {},
   "outputs": [],
   "source": []
  },
  {
   "cell_type": "code",
   "execution_count": 130,
   "id": "e0994155-c192-4edf-9fa3-8b9068abb703",
   "metadata": {},
   "outputs": [
    {
     "name": "stdout",
     "output_type": "stream",
     "text": [
      "root\n",
      " |-- deptno: integer (nullable = true)\n",
      " |-- dname: string (nullable = true)\n",
      " |-- loc: string (nullable = true)\n",
      "\n"
     ]
    }
   ],
   "source": [
    "dept_df.printSchema()"
   ]
  },
  {
   "cell_type": "code",
   "execution_count": 131,
   "id": "c2ca806f-e79b-4e89-bec5-eb09dbe5f4ae",
   "metadata": {},
   "outputs": [
    {
     "name": "stdout",
     "output_type": "stream",
     "text": [
      "+-----+------+---------+----+----------+----+----+------+------+----------+--------+\n",
      "|empno| ename|      job| mgr|  hiredate| sal|comm|deptno|deptno|     dname|     loc|\n",
      "+-----+------+---------+----+----------+----+----+------+------+----------+--------+\n",
      "| 7369| SMITH|    CLERK|7902|1980-12-17| 800|NULL|    20|    20|  RESEARCH|  DALLAS|\n",
      "| 7499| ALLEN| SALESMAN|7698|1981-02-20|1600| 300|    30|    30|     SALES| CHICAGO|\n",
      "| 7521|  WARD| SALESMAN|7698|1981-02-22|1250| 500|    30|    30|     SALES| CHICAGO|\n",
      "| 7566| JONES|  MANAGER|7839|1981-04-02|2975|NULL|    20|    20|  RESEARCH|  DALLAS|\n",
      "| 7654|MARTIN| SALESMAN|7698|1981-09-28|1250|1400|    30|    30|     SALES| CHICAGO|\n",
      "| 7698| BLAKE|  MANAGER|7839|1981-05-01|2850|NULL|    30|    30|     SALES| CHICAGO|\n",
      "| 7782| CLARK|  MANAGER|7839|1981-06-09|2450|NULL|    10|    10|ACCOUNTING|NEW YORK|\n",
      "| 7788| SCOTT|  ANALYST|7566|1987-04-19|3000|NULL|    20|    20|  RESEARCH|  DALLAS|\n",
      "| 7839|  KING|PRESIDENT|NULL|1981-11-17|5000|NULL|    10|    10|ACCOUNTING|NEW YORK|\n",
      "| 7844|TURNER| SALESMAN|7698|1981-09-08|1500|   0|    30|    30|     SALES| CHICAGO|\n",
      "| 7876| ADAMS|    CLERK|7788|1987-05-23|1100|NULL|    20|    20|  RESEARCH|  DALLAS|\n",
      "| 7900| JAMES|    CLERK|7698|1981-12-03| 950|NULL|    30|    30|     SALES| CHICAGO|\n",
      "| 7902|  FORD|  ANALYST|7566|1981-12-03|3000|NULL|    20|    20|  RESEARCH|  DALLAS|\n",
      "| 7934|MILLER|    CLERK|7782|1982-01-23|1300|NULL|    10|    10|ACCOUNTING|NEW YORK|\n",
      "+-----+------+---------+----+----------+----+----+------+------+----------+--------+\n",
      "\n"
     ]
    }
   ],
   "source": [
    "emp_dept_df = emp_df.join(dept_df, emp_df['deptno']==dept_df['deptno'])\n",
    "emp_dept_df.show()"
   ]
  },
  {
   "cell_type": "code",
   "execution_count": 132,
   "id": "25c17abf-ba8a-4e75-8b58-19ab668347ef",
   "metadata": {},
   "outputs": [
    {
     "name": "stdout",
     "output_type": "stream",
     "text": [
      "+------+------+----------+\n",
      "| ename|deptno|     dname|\n",
      "+------+------+----------+\n",
      "| SMITH|    20|  RESEARCH|\n",
      "| ALLEN|    30|     SALES|\n",
      "|  WARD|    30|     SALES|\n",
      "| JONES|    20|  RESEARCH|\n",
      "|MARTIN|    30|     SALES|\n",
      "| BLAKE|    30|     SALES|\n",
      "| CLARK|    10|ACCOUNTING|\n",
      "| SCOTT|    20|  RESEARCH|\n",
      "|  KING|    10|ACCOUNTING|\n",
      "|TURNER|    30|     SALES|\n",
      "| ADAMS|    20|  RESEARCH|\n",
      "| JAMES|    30|     SALES|\n",
      "|  FORD|    20|  RESEARCH|\n",
      "|MILLER|    10|ACCOUNTING|\n",
      "+------+------+----------+\n",
      "\n"
     ]
    }
   ],
   "source": [
    "join_df = emp_df.join(dept_df, on='deptno', how='inner')\n",
    "join_df.select('ename', 'deptno', 'dname').show()"
   ]
  },
  {
   "cell_type": "code",
   "execution_count": null,
   "id": "0756cc22-aa01-48eb-b148-2bdb43f20938",
   "metadata": {},
   "outputs": [],
   "source": []
  },
  {
   "cell_type": "code",
   "execution_count": null,
   "id": "ceed3b7e-f5ed-4bbf-a18a-f9102f8a6944",
   "metadata": {},
   "outputs": [],
   "source": []
  },
  {
   "cell_type": "code",
   "execution_count": null,
   "id": "cd8d6253-1d6f-4390-bdbe-8451fd4ec74e",
   "metadata": {},
   "outputs": [],
   "source": []
  },
  {
   "cell_type": "code",
   "execution_count": null,
   "id": "720e46d2-8eab-447a-8568-315c99615899",
   "metadata": {},
   "outputs": [],
   "source": []
  }
 ],
 "metadata": {
  "kernelspec": {
   "display_name": "Python 3 (ipykernel)",
   "language": "python",
   "name": "python3"
  },
  "language_info": {
   "codemirror_mode": {
    "name": "ipython",
    "version": 3
   },
   "file_extension": ".py",
   "mimetype": "text/x-python",
   "name": "python",
   "nbconvert_exporter": "python",
   "pygments_lexer": "ipython3",
   "version": "3.11.6"
  }
 },
 "nbformat": 4,
 "nbformat_minor": 5
}
