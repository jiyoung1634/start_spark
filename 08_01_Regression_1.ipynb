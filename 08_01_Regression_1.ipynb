{
 "cells": [
  {
   "cell_type": "code",
   "execution_count": 1,
   "id": "59766aee-3a17-43dd-b474-d3574462484a",
   "metadata": {},
   "outputs": [],
   "source": [
    "from pyspark.sql import SparkSession\n",
    "spark = SparkSession.builder.appName(\"taxi-fare-prediction\").getOrCreate()"
   ]
  },
  {
   "cell_type": "code",
   "execution_count": 2,
   "id": "f82d166b-1170-4353-aba3-067105f720e3",
   "metadata": {},
   "outputs": [
    {
     "data": {
      "text/plain": [
       "'/home/jovyan/work/learning_spark_data/trips/*.csv'"
      ]
     },
     "execution_count": 2,
     "metadata": {},
     "output_type": "execute_result"
    }
   ],
   "source": [
    "import os\n",
    "cwd = os.getcwd()\n",
    "trip_data_path = os.path.join(cwd, 'learning_spark_data', 'trips', '*.csv')\n",
    "trip_data_path"
   ]
  },
  {
   "cell_type": "code",
   "execution_count": 3,
   "id": "66e37965-4e74-459c-93c7-90ece3758a19",
   "metadata": {},
   "outputs": [
    {
     "data": {
      "text/plain": [
       "'file:////home/jovyan/work/learning_spark_data/trips/*.csv'"
      ]
     },
     "execution_count": 3,
     "metadata": {},
     "output_type": "execute_result"
    }
   ],
   "source": [
    "file_path = f\"file:///{trip_data_path.replace(os.sep, '/')}\"\n",
    "file_path"
   ]
  },
  {
   "cell_type": "code",
   "execution_count": 4,
   "id": "2bbd7040-7539-4129-9c34-95cd1a1e2ecd",
   "metadata": {},
   "outputs": [
    {
     "name": "stdout",
     "output_type": "stream",
     "text": [
      "root\n",
      " |-- VendorID: integer (nullable = true)\n",
      " |-- tpep_pickup_datetime: timestamp (nullable = true)\n",
      " |-- tpep_dropoff_datetime: timestamp (nullable = true)\n",
      " |-- passenger_count: integer (nullable = true)\n",
      " |-- trip_distance: double (nullable = true)\n",
      " |-- RatecodeID: integer (nullable = true)\n",
      " |-- store_and_fwd_flag: string (nullable = true)\n",
      " |-- PULocationID: integer (nullable = true)\n",
      " |-- DOLocationID: integer (nullable = true)\n",
      " |-- payment_type: integer (nullable = true)\n",
      " |-- fare_amount: double (nullable = true)\n",
      " |-- extra: double (nullable = true)\n",
      " |-- mta_tax: double (nullable = true)\n",
      " |-- tip_amount: double (nullable = true)\n",
      " |-- tolls_amount: double (nullable = true)\n",
      " |-- improvement_surcharge: double (nullable = true)\n",
      " |-- total_amount: double (nullable = true)\n",
      " |-- congestion_surcharge: double (nullable = true)\n",
      "\n"
     ]
    }
   ],
   "source": [
    "trip_df = spark.read.csv(file_path, inferSchema=True, header=True)\n",
    "trip_df.printSchema()"
   ]
  },
  {
   "cell_type": "code",
   "execution_count": 5,
   "id": "bdf9bd0e-e6dc-42c1-8731-00df3650f333",
   "metadata": {},
   "outputs": [],
   "source": [
    "# 운행거리에 따른 요금 예측"
   ]
  },
  {
   "cell_type": "code",
   "execution_count": 6,
   "id": "0d03576e-93ff-4363-a77e-afb284a94939",
   "metadata": {},
   "outputs": [],
   "source": [
    "trip_df.createOrReplaceTempView('trips')"
   ]
  },
  {
   "cell_type": "code",
   "execution_count": 7,
   "id": "79ea8d9d-76f3-4c0e-b9d0-d5bfa2477286",
   "metadata": {},
   "outputs": [],
   "source": [
    "query = \"\"\"\n",
    "SELECT\n",
    "    trip_distance,\n",
    "    total_amount\n",
    "FROM trips\n",
    "\n",
    "WHERE total_amount < 5000\n",
    "  AND total_amount > 0\n",
    "  AND trip_distance > 0\n",
    "  AND trip_distance < 500\n",
    "  AND passenger_count < 4\n",
    "  AND TO_DATE(tpep_pickup_datetime) >= \"2021-01-01\"\n",
    "  AND TO_DATE(tpep_pickup_datetime) < \"2021-08-01\"\n",
    "\"\"\""
   ]
  },
  {
   "cell_type": "code",
   "execution_count": 8,
   "id": "bda0abd8-5c71-4d56-8d35-83090749939f",
   "metadata": {},
   "outputs": [],
   "source": [
    "trip_df = spark.sql(query)\n",
    "trip_df.createOrReplaceTempView('data')"
   ]
  },
  {
   "cell_type": "code",
   "execution_count": 9,
   "id": "823b0d59-6594-4ccd-97ac-59fc999825e0",
   "metadata": {},
   "outputs": [
    {
     "name": "stdout",
     "output_type": "stream",
     "text": [
      "+-------------+------------+\n",
      "|trip_distance|total_amount|\n",
      "+-------------+------------+\n",
      "|         16.5|       70.07|\n",
      "|         1.13|       11.16|\n",
      "|         2.68|       18.59|\n",
      "|         12.4|        43.8|\n",
      "|          9.7|        32.3|\n",
      "+-------------+------------+\n",
      "\n"
     ]
    }
   ],
   "source": [
    "# data table 결과 확인하기\n",
    "spark.sql('select * from data limit 5').show()"
   ]
  },
  {
   "cell_type": "code",
   "execution_count": 10,
   "id": "a6b72c55-7dc5-49e1-9e22-6d144d176bc3",
   "metadata": {},
   "outputs": [],
   "source": [
    "# train, test split 8:2, seed=1\n",
    "\n",
    "train_df, test_df = trip_df.randomSplit([0.8,0.2], seed=1)"
   ]
  },
  {
   "cell_type": "code",
   "execution_count": 11,
   "id": "e96b085f-17ec-4079-9846-b4ea72202b6b",
   "metadata": {},
   "outputs": [
    {
     "name": "stdout",
     "output_type": "stream",
     "text": [
      "+-------------+------------+--------+\n",
      "|trip_distance|total_amount|features|\n",
      "+-------------+------------+--------+\n",
      "|         0.01|        3.05|  [0.01]|\n",
      "|         0.01|         3.3|  [0.01]|\n",
      "|         0.01|         3.3|  [0.01]|\n",
      "|         0.01|         3.3|  [0.01]|\n",
      "|         0.01|         3.3|  [0.01]|\n",
      "+-------------+------------+--------+\n",
      "only showing top 5 rows\n",
      "\n"
     ]
    }
   ],
   "source": [
    "# vectorassembler > feature : trip_distance, target: total_amount\n",
    "\n",
    "from pyspark.ml.feature import VectorAssembler\n",
    "vassembler = VectorAssembler(inputCols=['trip_distance'], outputCol='features')\n",
    "vtrain_df = vassembler.transform(train_df)\n",
    "vtrain_df.show(5)"
   ]
  },
  {
   "cell_type": "code",
   "execution_count": null,
   "id": "4cf029c3-aa06-491d-89f8-adde166c879b",
   "metadata": {},
   "outputs": [],
   "source": []
  },
  {
   "cell_type": "code",
   "execution_count": 12,
   "id": "aaa5050c-4d00-481e-be95-bec1d6580cfd",
   "metadata": {},
   "outputs": [],
   "source": [
    "# linearRegression 생성 maxIter=50, LabelCol='total_amount', featuresCol='features'\n",
    "# fit\n",
    "# vassembler.transform(test)\n",
    "# model.transform()\n",
    "\n",
    "from pyspark.ml.regression import LinearRegression\n",
    "lr = LinearRegression(    maxIter=50, labelCol='total_amount', featuresCol='features')\n",
    "lr_model = lr.fit(vtrain_df) #천만건데이터 학습\n",
    "\n",
    "vtest_df = vassembler.transform(test_df)\n",
    "pred = lr_model.transform(vtest_df) #2백만건데이터 예측"
   ]
  },
  {
   "cell_type": "code",
   "execution_count": 13,
   "id": "9f2e5955-b152-4ff7-9b7c-a63cca0aabc9",
   "metadata": {},
   "outputs": [
    {
     "name": "stdout",
     "output_type": "stream",
     "text": [
      "+-------------+------------+--------+-----------------+\n",
      "|trip_distance|total_amount|features|       prediction|\n",
      "+-------------+------------+--------+-----------------+\n",
      "|         0.01|         3.3|  [0.01]|9.430440745312902|\n",
      "|         0.01|         3.3|  [0.01]|9.430440745312902|\n",
      "|         0.01|         3.3|  [0.01]|9.430440745312902|\n",
      "|         0.01|         3.3|  [0.01]|9.430440745312902|\n",
      "|         0.01|         3.3|  [0.01]|9.430440745312902|\n",
      "+-------------+------------+--------+-----------------+\n",
      "only showing top 5 rows\n",
      "\n"
     ]
    }
   ],
   "source": [
    "pred.show(5)"
   ]
  },
  {
   "cell_type": "code",
   "execution_count": null,
   "id": "de5926ba-4090-47fe-9841-15e4f855fef1",
   "metadata": {},
   "outputs": [],
   "source": []
  },
  {
   "cell_type": "code",
   "execution_count": 14,
   "id": "59b1a5d4-dcf5-4ff9-876a-1ab506ec8ac7",
   "metadata": {},
   "outputs": [
    {
     "data": {
      "text/plain": [
       "6.30781413196623"
      ]
     },
     "execution_count": 14,
     "metadata": {},
     "output_type": "execute_result"
    }
   ],
   "source": [
    "lr_model.summary.rootMeanSquaredError   # RMSE"
   ]
  },
  {
   "cell_type": "code",
   "execution_count": 15,
   "id": "8f804dc8-6df0-48a9-8f6c-bde73f06b918",
   "metadata": {},
   "outputs": [
    {
     "data": {
      "text/plain": [
       "0.7648633777017714"
      ]
     },
     "execution_count": 15,
     "metadata": {},
     "output_type": "execute_result"
    }
   ],
   "source": [
    "lr_model.summary.r2"
   ]
  },
  {
   "cell_type": "code",
   "execution_count": null,
   "id": "e2f4a4b5-98ad-45f4-a337-cc52c6450246",
   "metadata": {},
   "outputs": [],
   "source": [
    "# 새로운 데이터로 예측하기"
   ]
  },
  {
   "cell_type": "code",
   "execution_count": 20,
   "id": "b11e687d-c396-4d3a-b6cb-9bd5b61586a9",
   "metadata": {},
   "outputs": [
    {
     "name": "stdout",
     "output_type": "stream",
     "text": [
      "+-------------+\n",
      "|trip_distance|\n",
      "+-------------+\n",
      "|          1.1|\n",
      "|          5.4|\n",
      "|         10.2|\n",
      "|         30.0|\n",
      "+-------------+\n",
      "\n"
     ]
    }
   ],
   "source": [
    "from pyspark.sql.types import DoubleType\n",
    "\n",
    "new_distance_list = [1.1, 5.4, 10.2, 30.0]\n",
    "distance_df = spark.createDataFrame(new_distance_list, DoubleType()).toDF('trip_distance')\n",
    "distance_df.show()"
   ]
  },
  {
   "cell_type": "code",
   "execution_count": 21,
   "id": "01f70b5a-96d5-43fc-91db-0baed7d1f323",
   "metadata": {},
   "outputs": [
    {
     "name": "stdout",
     "output_type": "stream",
     "text": [
      "+-------------+--------+------------------+\n",
      "|trip_distance|features|        prediction|\n",
      "+-------------+--------+------------------+\n",
      "|          1.1|   [1.1]|12.672809485363317|\n",
      "|          5.4|   [5.4]|25.463805432351194|\n",
      "|         10.2|  [10.2]| 39.74212648945393|\n",
      "|         30.0|  [30.0]| 98.64020085000274|\n",
      "+-------------+--------+------------------+\n",
      "\n"
     ]
    }
   ],
   "source": [
    "vdistance_df = vassembler.transform(distance_df)\n",
    "lr_model.transform(vdistance_df).show()"
   ]
  },
  {
   "cell_type": "code",
   "execution_count": null,
   "id": "7b495c8f-55a5-4815-aeec-8cfe3ea3ffd1",
   "metadata": {},
   "outputs": [],
   "source": []
  },
  {
   "cell_type": "code",
   "execution_count": null,
   "id": "a767cd51-62d9-4a00-bccf-8553a6499e6a",
   "metadata": {},
   "outputs": [],
   "source": []
  },
  {
   "cell_type": "code",
   "execution_count": 30,
   "id": "5214d0f8-dd6b-49f4-8a01-455f099eb89a",
   "metadata": {},
   "outputs": [],
   "source": [
    "spark.stop()"
   ]
  },
  {
   "cell_type": "code",
   "execution_count": null,
   "id": "71386f14-d80e-4cf3-a862-75d8126c9844",
   "metadata": {},
   "outputs": [],
   "source": []
  },
  {
   "cell_type": "code",
   "execution_count": null,
   "id": "825de99f-0f3d-4725-893b-59f71c50b961",
   "metadata": {},
   "outputs": [],
   "source": []
  },
  {
   "cell_type": "code",
   "execution_count": null,
   "id": "5edec9bc-6a6d-4192-8fdc-37d8f0d1b39e",
   "metadata": {},
   "outputs": [],
   "source": []
  }
 ],
 "metadata": {
  "kernelspec": {
   "display_name": "Python 3 (ipykernel)",
   "language": "python",
   "name": "python3"
  },
  "language_info": {
   "codemirror_mode": {
    "name": "ipython",
    "version": 3
   },
   "file_extension": ".py",
   "mimetype": "text/x-python",
   "name": "python",
   "nbconvert_exporter": "python",
   "pygments_lexer": "ipython3",
   "version": "3.11.6"
  }
 },
 "nbformat": 4,
 "nbformat_minor": 5
}
